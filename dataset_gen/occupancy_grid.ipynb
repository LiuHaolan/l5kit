{
 "cells": [
  {
   "cell_type": "code",
   "execution_count": 1,
   "id": "5efaf50e",
   "metadata": {},
   "outputs": [
    {
     "name": "stdout",
     "output_type": "stream",
     "text": [
      "+------------+------------+------------+---------------+-----------------+----------------------+----------------------+----------------------+---------------------+\n",
      "| Num Scenes | Num Frames | Num Agents | Num TR lights | Total Time (hr) | Avg Frames per Scene | Avg Agents per Frame | Avg Scene Time (sec) | Avg Frame frequency |\n",
      "+------------+------------+------------+---------------+-----------------+----------------------+----------------------+----------------------+---------------------+\n",
      "|   16220    |  4030296   | 312617887  |    29277930   |      111.97     |        248.48        |        77.57         |        24.85         |        10.00        |\n",
      "+------------+------------+------------+---------------+-----------------+----------------------+----------------------+----------------------+---------------------+\n"
     ]
    }
   ],
   "source": [
    "# generate a occupancy grid groundtruth label\n",
    "import matplotlib.pyplot as plt\n",
    "import numpy as np\n",
    "import torch\n",
    "from prettytable import PrettyTable\n",
    "\n",
    "from l5kit.configs import load_config_data\n",
    "from l5kit.data import LocalDataManager, ChunkedDataset\n",
    "from l5kit.dataset import EgoDataset, OfflineEgoDataset\n",
    "from l5kit.rasterization import build_rasterizer\n",
    "\n",
    "from l5kit.simulation.dataset import SimulationConfig\n",
    "from l5kit.simulation.unroll import ClosedLoopSimulator\n",
    "from l5kit.cle.closed_loop_evaluator import ClosedLoopEvaluator, EvaluationPlan\n",
    "from l5kit.cle.metrics import (CollisionFrontMetric, CollisionRearMetric, CollisionSideMetric,\n",
    "                               DisplacementErrorL2Metric, DistanceToRefTrajectoryMetric)\n",
    "from l5kit.cle.validators import RangeValidator, ValidationCountingAggregator\n",
    "\n",
    "from l5kit.visualization.visualizer.zarr_utils import simulation_out_to_visualizer_scene\n",
    "from l5kit.visualization.visualizer.visualizer import visualize\n",
    "from bokeh.io import output_notebook, show\n",
    "from l5kit.data import MapAPI\n",
    "\n",
    "from collections import defaultdict\n",
    "import os\n",
    "\n",
    "# set env variable for data\n",
    "os.environ[\"L5KIT_DATA_FOLDER\"] = \"/mnt/scratch/v_liuhaolan/l5kit_data\"\n",
    "dm = LocalDataManager(None)\n",
    "# get config\n",
    "cfg = load_config_data(\"./config.yaml\")\n",
    "\n",
    "\n",
    "\n",
    "# rasterisation and perturbation\n",
    "rasterizer = build_rasterizer(cfg, dm)\n",
    "\n",
    "# ===== INIT DATASET\n",
    "\n",
    "#eval_cfg = cfg[\"train_data_loader\"]\n",
    "eval_cfg = cfg[\"val_data_loader\"]\n",
    "\n",
    "rasterizer = build_rasterizer(cfg, dm)\n",
    "eval_zarr = ChunkedDataset(dm.require(eval_cfg[\"key\"])).open()\n",
    "eval_dataset = EgoDataset(cfg, eval_zarr, rasterizer)\n",
    "offline_dataset = OfflineEgoDataset(cfg, eval_zarr, rasterizer)\n",
    "\n",
    "print(eval_dataset)"
   ]
  },
  {
   "cell_type": "code",
   "execution_count": 8,
   "id": "d748252d",
   "metadata": {},
   "outputs": [
    {
     "name": "stdout",
     "output_type": "stream",
     "text": [
      "5\n",
      "(33,)\n",
      "[([  637.89550781, -1365.08825684], [3.4329474 , 1.5729724 , 1.3533974 ], -2.1275232 , [-7.6077371e+00, -1.1739139e+01],   2, [0., 0., 0., 1., 0., 0., 0., 0., 0., 0., 0., 0., 0., 0., 0., 0., 0.])\n",
      " ([  683.8927002 , -1360.56652832], [4.3700733 , 1.901273  , 1.4002228 ],  2.5774345 , [-4.6575513e-01,  3.2580417e-01],   3, [0., 0., 0., 1., 0., 0., 0., 0., 0., 0., 0., 0., 0., 0., 0., 0., 0.])\n",
      " ([  653.89044189, -1367.6517334 ], [4.3139215 , 1.7542387 , 1.320439  ],  0.947771  , [-6.0970202e-02,  2.8813925e-02],   4, [0., 0., 0., 1., 0., 0., 0., 0., 0., 0., 0., 0., 0., 0., 0., 0., 0.])\n",
      " ([  680.03070068, -1354.31018066], [4.3060427 , 1.7071527 , 1.494734  ],  2.54697   , [-3.8216536e+00,  2.6984189e+00],   5, [0., 0., 0., 1., 0., 0., 0., 0., 0., 0., 0., 0., 0., 0., 0., 0., 0.])\n",
      " ([  683.70404053, -1364.82946777], [3.812384  , 1.7687201 , 1.0878534 ],  2.5835192 , [-1.0536459e-02, -2.0446146e-02],   7, [0., 0., 0., 1., 0., 0., 0., 0., 0., 0., 0., 0., 0., 0., 0., 0., 0.])\n",
      " ([  645.82775879, -1363.20935059], [3.4514482 , 1.6356442 , 1.1425221 ],  0.9900389 , [-7.9511409e-04,  3.3318691e-03],   9, [0., 0., 0., 1., 0., 0., 0., 0., 0., 0., 0., 0., 0., 0., 0., 0., 0.])\n",
      " ([  660.04754639, -1345.91052246], [5.497619  , 2.0787156 , 1.7912906 ], -1.3563024 , [ 9.1251773e-01, -4.7682295e+00],  10, [0., 0., 0., 1., 0., 0., 0., 0., 0., 0., 0., 0., 0., 0., 0., 0., 0.])\n",
      " ([  650.08776855, -1366.95422363], [3.5861003 , 1.6852555 , 1.4303308 ],  0.97360486, [ 3.3464540e-02,  2.0796715e-01],  11, [0., 0., 0., 1., 0., 0., 0., 0., 0., 0., 0., 0., 0., 0., 0., 0., 0.])\n",
      " ([  691.76483154, -1369.81628418], [2.9052503 , 1.8962094 , 0.934281  ],  2.5851605 , [ 3.2911405e-02, -3.9911598e-02],  12, [0., 0., 0., 1., 0., 0., 0., 0., 0., 0., 0., 0., 0., 0., 0., 0., 0.])\n",
      " ([  674.94989014, -1355.46044922], [3.1992161 , 1.3997984 , 1.3459098 ],  2.604037  , [ 2.3735813e-03,  4.7839008e-04],  13, [0., 0., 0., 1., 0., 0., 0., 0., 0., 0., 0., 0., 0., 0., 0., 0., 0.])\n",
      " ([  669.94567871, -1322.32910156], [1.826512  , 0.768267  , 0.25809988], -2.1716723 , [-1.0224111e+00, -1.9740154e+00],  15, [0., 0., 0., 1., 0., 0., 0., 0., 0., 0., 0., 0., 0., 0., 0., 0., 0.])\n",
      " ([  662.82611084, -1332.39868164], [3.1161802 , 1.1686068 , 0.61581016], -2.1356962 , [-2.1869073e+00, -3.0341403e+00],  16, [0., 0., 0., 1., 0., 0., 0., 0., 0., 0., 0., 0., 0., 0., 0., 0., 0.])\n",
      " ([  674.52233887, -1315.90026855], [1.8717619 , 0.59187776, 0.44834882], -2.1923485 , [-1.0187865e+00, -1.1746821e+00],  17, [0., 0., 0., 1., 0., 0., 0., 0., 0., 0., 0., 0., 0., 0., 0., 0., 0.])\n",
      " ([  606.2520752 , -1413.08581543], [0.7561136 , 1.4771012 , 0.9353491 ], -2.1594968 , [-7.7973976e+00, -1.1758045e+01],  21, [0., 0., 0., 1., 0., 0., 0., 0., 0., 0., 0., 0., 0., 0., 0., 0., 0.])\n",
      " ([  569.76342773, -1468.24609375], [0.20507562, 1.7004348 , 0.59790283], -2.1539142 , [-6.9820561e+00, -1.0476412e+01],  22, [0., 0., 0., 1., 0., 0., 0., 0., 0., 0., 0., 0., 0., 0., 0., 0., 0.])\n",
      " ([  633.4263916 , -1341.40734863], [3.4656162 , 2.092706  , 1.9010333 ], -0.6115289 , [-5.1183719e-02,  4.6276131e-01],  27, [0., 0., 0., 1., 0., 0., 0., 0., 0., 0., 0., 0., 0., 0., 0., 0., 0.])\n",
      " ([  619.83221436, -1392.28479004], [3.0270574 , 1.7446206 , 1.7332803 ], -2.158241  , [-7.4347482e+00, -1.1389151e+01],  70, [0., 0., 0., 1., 0., 0., 0., 0., 0., 0., 0., 0., 0., 0., 0., 0., 0.])\n",
      " ([  581.75811768, -1443.35571289], [0.25105205, 1.5679487 , 0.6704269 ], -2.1776125 , [-5.9697933e+00, -9.8259296e+00],  73, [0., 0., 0., 1., 0., 0., 0., 0., 0., 0., 0., 0., 0., 0., 0., 0., 0.])\n",
      " ([  640.96496582, -1371.85119629], [0.15771857, 0.1707809 , 0.22131346],  0.9584381 , [ 0.0000000e+00,  0.0000000e+00],  77, [0., 0., 0., 1., 0., 0., 0., 0., 0., 0., 0., 0., 0., 0., 0., 0., 0.])\n",
      " ([  646.47711182, -1352.08728027], [4.51344   , 1.5273224 , 1.0525551 ], -2.1240718 , [-7.4213009e+00, -1.2051313e+01],  84, [0., 0., 0., 1., 0., 0., 0., 0., 0., 0., 0., 0., 0., 0., 0., 0., 0.])\n",
      " ([  650.48748779, -1331.90258789], [3.0515716 , 0.8989511 , 1.073522  ], -2.666448  , [-6.2085986e+00, -4.0727983e+00],  85, [0., 0., 0., 1., 0., 0., 0., 0., 0., 0., 0., 0., 0., 0., 0., 0., 0.])\n",
      " ([  671.20605469, -1306.10595703], [4.6182656 , 1.5862011 , 1.9068269 ], -1.9507697 , [-3.3962603e+00, -1.4439229e+00],  90, [0., 0., 0., 1., 0., 0., 0., 0., 0., 0., 0., 0., 0., 0., 0., 0., 0.])\n",
      " ([  588.80822754, -1439.49279785], [0.26290488, 1.5579083 , 0.6685336 ], -2.1647637 , [-6.6986361e+00, -1.0353712e+01],  91, [0., 0., 0., 1., 0., 0., 0., 0., 0., 0., 0., 0., 0., 0., 0., 0., 0.])\n",
      " ([  560.25152588, -1482.48022461], [4.5814967 , 1.8876845 , 1.6765344 ], -2.1755922 , [ 0.0000000e+00,  0.0000000e+00],  94, [0., 0., 0., 1., 0., 0., 0., 0., 0., 0., 0., 0., 0., 0., 0., 0., 0.])\n",
      " ([  664.43865967, -1324.43103027], [1.9332054 , 1.1889497 , 0.38543326], -2.1608512 , [-5.2210732e+00, -1.1545798e+01],  96, [0., 0., 0., 1., 0., 0., 0., 0., 0., 0., 0., 0., 0., 0., 0., 0., 0.])\n",
      " ([  620.68865967, -1328.58422852], [1.4490348 , 1.1660126 , 0.75808316], -0.6074108 , [ 1.9534849e+00, -1.0089036e+00], 100, [0., 0., 0., 1., 0., 0., 0., 0., 0., 0., 0., 0., 0., 0., 0., 0., 0.])\n",
      " ([  635.39605713, -1338.38708496], [3.8170123 , 1.7401265 , 1.2011427 ], -0.56548715, [-2.2230947e-01,  1.9444554e-01], 101, [0., 0., 0., 1., 0., 0., 0., 0., 0., 0., 0., 0., 0., 0., 0., 0., 0.])\n",
      " ([  544.31152344, -1505.64282227], [4.5937624 , 1.891818  , 1.7561911 ], -2.235702  , [ 0.0000000e+00,  0.0000000e+00], 102, [0., 0., 0., 1., 0., 0., 0., 0., 0., 0., 0., 0., 0., 0., 0., 0., 0.])\n",
      " ([  580.33215332, -1451.22436523], [0.1582457 , 1.7328246 , 0.8010469 ], -2.152038  , [ 0.0000000e+00,  0.0000000e+00], 103, [0., 0., 0., 1., 0., 0., 0., 0., 0., 0., 0., 0., 0., 0., 0., 0., 0.])\n",
      " ([  566.24859619, -1288.53344727], [4.656714  , 1.8819776 , 1.7241367 ],  2.5662625 , [ 0.0000000e+00,  0.0000000e+00], 107, [0., 0., 0., 1., 0., 0., 0., 0., 0., 0., 0., 0., 0., 0., 0., 0., 0.])\n",
      " ([  682.83074951, -1305.36486816], [4.300636  , 0.06321614, 0.19374219], -2.149662  , [ 1.1646368e-01,  4.2199366e-02], 108, [0., 0., 0., 1., 0., 0., 0., 0., 0., 0., 0., 0., 0., 0., 0., 0., 0.])\n",
      " ([  678.46899414, -1310.57971191], [2.3613422 , 1.5624255 , 0.88686836], -2.1626375 , [ 0.0000000e+00,  0.0000000e+00], 110, [0., 0., 0., 1., 0., 0., 0., 0., 0., 0., 0., 0., 0., 0., 0., 0., 0.])\n",
      " ([  557.31872559, -1486.52685547], [4.6515775 , 1.9019425 , 1.7117682 ], -2.2422283 , [ 0.0000000e+00,  0.0000000e+00], 111, [0., 0., 0., 1., 0., 0., 0., 0., 0., 0., 0., 0., 0., 0., 0., 0., 0.])]\n"
     ]
    }
   ],
   "source": [
    "data = offline_dataset[2000]\n",
    "\n",
    "# the last four frames + current frames\n",
    "print(len(data[\"agent\"]))\n",
    "\n",
    "print((data[\"agent\"][0]).shape)\n",
    "\n",
    "\n",
    "print((data[\"agent\"][0]))\n",
    "# the format"
   ]
  },
  {
   "cell_type": "code",
   "execution_count": 7,
   "id": "78fbd285",
   "metadata": {},
   "outputs": [
    {
     "name": "stdout",
     "output_type": "stream",
     "text": [
      "(112, 112, 3)\n",
      "10\n"
     ]
    },
    {
     "data": {
      "image/png": "[encoded data removed]",
      "text/plain": [
       "<Figure size 432x288 with 1 Axes>"
      ]
     },
     "metadata": {
      "needs_background": "light"
     },
     "output_type": "display_data"
    }
   ],
   "source": [
    "from l5kit.geometry import transform_points\n",
    "from l5kit.visualization import TARGET_POINTS_COLOR, draw_trajectory\n",
    "\n",
    "box_cfg = cfg\n",
    "box_cfg[\"raster_params\"][\"map_type\"] = \"box_debug\"\n",
    "box_rasterizer = build_rasterizer(box_cfg, dm)\n",
    "\n",
    "box_dataset = EgoDataset(cfg, eval_zarr, box_rasterizer)\n",
    "\n",
    "se_cfg = cfg\n",
    "se_cfg[\"raster_params\"][\"map_type\"] = \"semantic_debug\"\n",
    "se_rasterizer = build_rasterizer(se_cfg, dm)\n",
    "se_dataset = EgoDataset(cfg, eval_zarr, se_rasterizer)\n",
    "\n",
    "\n",
    "data_ego = box_dataset[2000]\n",
    "im_ego = box_rasterizer.to_rgb(data_ego[\"image\"].transpose(1, 2, 0))\n",
    "print(im_ego.shape)\n",
    "target_positions = transform_points(data_ego[\"target_positions\"], data_ego[\"raster_from_agent\"])\n",
    "draw_trajectory(im_ego, target_positions, TARGET_POINTS_COLOR)\n",
    "plt.imshow(im_ego)\n",
    "\n",
    "print(len(data_ego[\"goal_list\"]))\n",
    "\n"
   ]
  },
  {
   "cell_type": "code",
   "execution_count": 9,
   "id": "9a017258",
   "metadata": {},
   "outputs": [
    {
     "name": "stdout",
     "output_type": "stream",
     "text": [
      "(112, 112, 3)\n"
     ]
    },
    {
     "data": {
      "text/plain": [
       "<matplotlib.image.AxesImage at 0x7f3154fca880>"
      ]
     },
     "execution_count": 9,
     "metadata": {},
     "output_type": "execute_result"
    },
    {
     "data": {
      "image/png": "[encoded data removed]",
      "text/plain": [
       "<Figure size 432x288 with 1 Axes>"
      ]
     },
     "metadata": {
      "needs_background": "light"
     },
     "output_type": "display_data"
    }
   ],
   "source": [
    "from l5kit.geometry import transform_points\n",
    "from l5kit.visualization import TARGET_POINTS_COLOR, draw_trajectory\n",
    "\n",
    "box_cfg = cfg\n",
    "box_cfg[\"raster_params\"][\"map_type\"] = \"box_debug\"\n",
    "box_rasterizer = build_rasterizer(box_cfg, dm)\n",
    "\n",
    "box_dataset = EgoDataset(cfg, eval_zarr, box_rasterizer)\n",
    "\n",
    "se_cfg = cfg\n",
    "se_cfg[\"raster_params\"][\"map_type\"] = \"semantic_debug\"\n",
    "se_rasterizer = build_rasterizer(se_cfg, dm)\n",
    "se_dataset = EgoDataset(cfg, eval_zarr, se_rasterizer)\n",
    "\n",
    "\n",
    "data_ego = box_dataset[2010]\n",
    "im_ego = box_rasterizer.to_rgb(data_ego[\"image\"].transpose(1, 2, 0))\n",
    "print(im_ego.shape)\n",
    "target_positions = transform_points(data_ego[\"target_positions\"], data_ego[\"raster_from_agent\"])\n",
    "draw_trajectory(im_ego, target_positions, TARGET_POINTS_COLOR)\n",
    "\n",
    "from l5kit.geometry import rotation33_as_yaw, transform_point, transform_points\n",
    "\n",
    "import cv2\n",
    "\n",
    "\n",
    "\n",
    "raster_from_world = data_ego[\"raster_from_world\"]\n",
    "\n",
    "#centerline_area = (data_ego[\"goal_list\"])\n",
    "centerline_area = []\n",
    "\n",
    "target_positions_pixels = transform_points(data_ego[\"target_positions\"], data_ego[\"raster_from_agent\"])\n",
    "original_pixel = target_positions_pixels[0]\n",
    "\n",
    "#centerline_area.append((original_pixel[0],original_pixel[1]))\n",
    "for i in range(0,31,10):\n",
    "    for j in range(-10,11,10):\n",
    "        centerline_area.append((original_pixel[0]+i,original_pixel[1]+j))\n",
    "\n",
    "\n",
    "for k in centerline_area:\n",
    "#        print(j)\n",
    "    xy_points = k\n",
    "#    xy_points = (transform_point(k, raster_from_world))\n",
    "#        print(xy_points)\n",
    "    cv2.circle(im_ego, (int(xy_points[0]),int(xy_points[1])), radius=1, color=(255, 0, 0), thickness=-1)\n",
    "    \n",
    "    \n",
    "    \n",
    "plt.imshow(im_ego)"
   ]
  },
  {
   "cell_type": "code",
   "execution_count": null,
   "id": "0d501919",
   "metadata": {},
   "outputs": [],
   "source": [
    "eval_zarr.agents"
   ]
  },
  {
   "cell_type": "code",
   "execution_count": null,
   "id": "bda5442b",
   "metadata": {},
   "outputs": [],
   "source": []
  },
  {
   "cell_type": "code",
   "execution_count": null,
   "id": "c4ed2207",
   "metadata": {},
   "outputs": [],
   "source": [
    "data_ego = eval_dataset[2050]\n",
    "\n",
    "traj = (data_ego[\"target_positions\"])\n",
    "im_ego = rasterizer.to_rgb(data_ego[\"image\"].transpose(1, 2, 0))\n",
    "\n",
    "cnt = 0\n",
    "for j, _ in enumerate(traj):\n",
    "    traj[j] = traj[j] + cnt\n",
    "    cnt = cnt + 1\n",
    "\n",
    "target_positions = transform_points(traj, data_ego[\"raster_from_agent\"])\n",
    "draw_trajectory(im_ego, target_positions, TARGET_POINTS_COLOR)#, yaws=data_ego[\"target_yaws\"])\n",
    "plt.imshow(im_ego)\n",
    "\n",
    "print(data_ego[\"target_yaws\"][0])"
   ]
  },
  {
   "cell_type": "code",
   "execution_count": null,
   "id": "a546bf98",
   "metadata": {},
   "outputs": [],
   "source": [
    "data_ego = eval_dataset[2050]\n",
    "im_ego = rasterizer.to_rgb(data_ego[\"image\"].transpose(1, 2, 0))\n",
    "\n",
    "target_positions = transform_points(data_ego[\"target_positions\"], data_ego[\"raster_from_agent\"])\n",
    "draw_trajectory(im_ego, target_positions, TARGET_POINTS_COLOR)\n",
    "#plt.imshow(im_ego)\n",
    "\n",
    "for i in data_ego:\n",
    "    print(i)"
   ]
  },
  {
   "cell_type": "code",
   "execution_count": null,
   "id": "7d7fd941",
   "metadata": {},
   "outputs": [],
   "source": [
    "from l5kit.planning import utils\n",
    "from l5kit.simulation.dataset import SimulationConfig, SimulationDataset\n",
    "\n",
    "from l5kit.rasterization import EGO_EXTENT_LENGTH, EGO_EXTENT_WIDTH\n",
    "simulated_extent = np.r_[EGO_EXTENT_LENGTH, EGO_EXTENT_WIDTH]\n",
    "\n",
    "from enum import IntEnum\n",
    "from typing import Callable, Optional, Tuple\n",
    "\n",
    "\n",
    "def detect_collision(pred_centroid: np.ndarray, pred_yaw: np.ndarray,\n",
    "                     pred_extent: np.ndarray, target_agents: np.ndarray):\n",
    "    \"\"\"\n",
    "    Computes whether a collision occured between ego and any another agent.\n",
    "    Also computes the type of collision: rear, front, or side.\n",
    "    For this, we compute the intersection of ego's four sides with a target\n",
    "    agent and measure the length of this intersection. A collision\n",
    "    is classified into a class, if the corresponding length is maximal,\n",
    "    i.e. a front collision exhibits the longest intersection with\n",
    "    egos front edge.\n",
    "    .. note:: please note that this funciton will stop upon finding the first\n",
    "              colision, so it won't return all collisions but only the first\n",
    "              one found.\n",
    "    :param pred_centroid: predicted centroid\n",
    "    :param pred_yaw: predicted yaw\n",
    "    :param pred_extent: predicted extent\n",
    "    :param target_agents: target agent\n",
    "    :return: None if not collision was found, and a tuple with the\n",
    "             collision type and the agent track_id\n",
    "    \"\"\"\n",
    "    ego_bbox = utils._get_bounding_box(centroid=pred_centroid, yaw=pred_yaw, extent=pred_extent)\n",
    "    within_range_mask = utils.within_range(pred_centroid, pred_extent,\n",
    "                                           target_agents[\"centroid\"], target_agents[\"extent\"])\n",
    "    \n",
    "    res = 0\n",
    "    for agent in target_agents[within_range_mask]:\n",
    "        agent_bbox = utils._get_bounding_box(agent[\"centroid\"], agent[\"yaw\"], agent[\"extent\"])\n",
    "\n",
    "        if ego_bbox.intersects(agent_bbox):\n",
    "            front_side, rear_side, left_side, right_side = utils._get_sides(ego_bbox)\n",
    "\n",
    "            intersection_length_per_side = np.asarray(\n",
    "                [\n",
    "                    agent_bbox.intersection(front_side).length,\n",
    "                    agent_bbox.intersection(rear_side).length,\n",
    "                    agent_bbox.intersection(left_side).length,\n",
    "                    agent_bbox.intersection(right_side).length,\n",
    "                ]\n",
    "            )\n",
    "            argmax_side = np.argmax(intersection_length_per_side)\n",
    "\n",
    "            # Remap here is needed because there are two sides that are\n",
    "            # mapped to the same collision type CollisionType.SIDE\n",
    "            return 1\n",
    "\n",
    "    return 0"
   ]
  },
  {
   "cell_type": "code",
   "execution_count": null,
   "id": "a2b3142e",
   "metadata": {},
   "outputs": [],
   "source": [
    "detect_collision( traj[6], 0,simulated_extent, eval_zarr.agents)"
   ]
  },
  {
   "cell_type": "code",
   "execution_count": null,
   "id": "2d92ef75",
   "metadata": {},
   "outputs": [],
   "source": []
  }
 ],
 "metadata": {
  "kernelspec": {
   "display_name": "Python 3 (ipykernel)",
   "language": "python",
   "name": "python3"
  },
  "language_info": {
   "codemirror_mode": {
    "name": "ipython",
    "version": 3
   },
   "file_extension": ".py",
   "mimetype": "text/x-python",
   "name": "python",
   "nbconvert_exporter": "python",
   "pygments_lexer": "ipython3",
   "version": "3.8.13"
  }
 },
 "nbformat": 4,
 "nbformat_minor": 5
}
