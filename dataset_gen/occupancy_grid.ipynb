{
 "cells": [
  {
   "cell_type": "code",
   "execution_count": 14,
   "id": "93d2bc1e",
   "metadata": {},
   "outputs": [
    {
     "name": "stdout",
     "output_type": "stream",
     "text": [
      "+------------+------------+------------+---------------+-----------------+----------------------+----------------------+----------------------+---------------------+\n",
      "| Num Scenes | Num Frames | Num Agents | Num TR lights | Total Time (hr) | Avg Frames per Scene | Avg Agents per Frame | Avg Scene Time (sec) | Avg Frame frequency |\n",
      "+------------+------------+------------+---------------+-----------------+----------------------+----------------------+----------------------+---------------------+\n",
      "|   16220    |  4030296   | 312617887  |    29277930   |      111.97     |        248.48        |        77.57         |        24.85         |        10.00        |\n",
      "+------------+------------+------------+---------------+-----------------+----------------------+----------------------+----------------------+---------------------+\n"
     ]
    }
   ],
   "source": [
    "# generate a occupancy grid groundtruth label\n",
    "import matplotlib.pyplot as plt\n",
    "import numpy as np\n",
    "import torch\n",
    "from prettytable import PrettyTable\n",
    "\n",
    "from l5kit.configs import load_config_data\n",
    "from l5kit.data import LocalDataManager, ChunkedDataset\n",
    "from l5kit.dataset import EgoDataset, OfflineEgoDataset\n",
    "from l5kit.rasterization import build_rasterizer\n",
    "\n",
    "from l5kit.simulation.dataset import SimulationConfig\n",
    "from l5kit.simulation.unroll import ClosedLoopSimulator\n",
    "from l5kit.cle.closed_loop_evaluator import ClosedLoopEvaluator, EvaluationPlan\n",
    "from l5kit.cle.metrics import (CollisionFrontMetric, CollisionRearMetric, CollisionSideMetric,\n",
    "                               DisplacementErrorL2Metric, DistanceToRefTrajectoryMetric)\n",
    "from l5kit.cle.validators import RangeValidator, ValidationCountingAggregator\n",
    "\n",
    "from l5kit.visualization.visualizer.zarr_utils import simulation_out_to_visualizer_scene\n",
    "from l5kit.visualization.visualizer.visualizer import visualize\n",
    "from bokeh.io import output_notebook, show\n",
    "from l5kit.data import MapAPI\n",
    "\n",
    "from collections import defaultdict\n",
    "import os\n",
    "\n",
    "# set env variable for data\n",
    "os.environ[\"L5KIT_DATA_FOLDER\"] = \"/mnt/scratch/v_liuhaolan/l5kit_data\"\n",
    "dm = LocalDataManager(None)\n",
    "# get config\n",
    "cfg = load_config_data(\"./config.yaml\")\n",
    "\n",
    "\n",
    "\n",
    "# rasterisation and perturbation\n",
    "rasterizer = build_rasterizer(cfg, dm)\n",
    "\n",
    "# ===== INIT DATASET\n",
    "\n",
    "#eval_cfg = cfg[\"train_data_loader\"]\n",
    "eval_cfg = cfg[\"val_data_loader\"]\n",
    "\n",
    "rasterizer = build_rasterizer(cfg, dm)\n",
    "eval_zarr = ChunkedDataset(dm.require(eval_cfg[\"key\"])).open()\n",
    "eval_dataset = EgoDataset(cfg, eval_zarr, rasterizer)\n",
    "offline_dataset = OfflineEgoDataset(cfg, eval_zarr, rasterizer)\n",
    "\n",
    "print(eval_dataset)"
   ]
  },
  {
   "cell_type": "code",
   "execution_count": 15,
   "id": "74a9b0c2",
   "metadata": {},
   "outputs": [
    {
     "name": "stdout",
     "output_type": "stream",
     "text": [
      "0.013708114624023438\n",
      "5\n",
      "(33,)\n"
     ]
    }
   ],
   "source": [
    "import time\n",
    "start = time.time()\n",
    "data = offline_dataset[2000]\n",
    "\n",
    "print(time.time()-start)      # 0.01 seconds for getting agent negative kernels in rasterized images!\n",
    "\n",
    "# the last four frames + current frames\n",
    "print(len(data[\"agent\"]))\n",
    "\n",
    "print((data[\"agent\"][0]).shape)\n",
    "\n",
    "\n",
    "#print((data[\"agent\"][0]))\n",
    "# the format"
   ]
  },
  {
   "cell_type": "code",
   "execution_count": null,
   "id": "c147d10c",
   "metadata": {},
   "outputs": [],
   "source": []
  },
  {
   "cell_type": "code",
   "execution_count": 16,
   "id": "1abe25eb",
   "metadata": {},
   "outputs": [
    {
     "name": "stdout",
     "output_type": "stream",
     "text": [
      "(112, 112, 3)\n",
      "10\n"
     ]
    },
    {
     "data": {
      "image/png": "[encoded data removed]",
      "text/plain": [
       "<Figure size 432x288 with 1 Axes>"
      ]
     },
     "metadata": {
      "needs_background": "light"
     },
     "output_type": "display_data"
    }
   ],
   "source": [
    "from l5kit.geometry import transform_points\n",
    "from l5kit.visualization import TARGET_POINTS_COLOR, draw_trajectory\n",
    "\n",
    "box_cfg = cfg\n",
    "box_cfg[\"raster_params\"][\"map_type\"] = \"box_debug\"\n",
    "box_rasterizer = build_rasterizer(box_cfg, dm)\n",
    "\n",
    "box_dataset = EgoDataset(cfg, eval_zarr, box_rasterizer)\n",
    "\n",
    "se_cfg = cfg\n",
    "se_cfg[\"raster_params\"][\"map_type\"] = \"semantic_debug\"\n",
    "se_rasterizer = build_rasterizer(se_cfg, dm)\n",
    "se_dataset = EgoDataset(cfg, eval_zarr, se_rasterizer)\n",
    "\n",
    "\n",
    "data_ego = box_dataset[2000]\n",
    "im_ego = box_rasterizer.to_rgb(data_ego[\"image\"].transpose(1, 2, 0))\n",
    "print(im_ego.shape)\n",
    "target_positions = transform_points(data_ego[\"target_positions\"], data_ego[\"raster_from_agent\"])\n",
    "draw_trajectory(im_ego, target_positions, TARGET_POINTS_COLOR)\n",
    "plt.imshow(im_ego)\n",
    "\n",
    "print(len(data_ego[\"goal_list\"]))\n",
    "\n"
   ]
  },
  {
   "cell_type": "code",
   "execution_count": 12,
   "id": "5f965c9e",
   "metadata": {},
   "outputs": [
    {
     "name": "stdout",
     "output_type": "stream",
     "text": [
      "(112, 112, 3)\n",
      "176\n"
     ]
    },
    {
     "data": {
      "text/plain": [
       "<matplotlib.image.AxesImage at 0x7f31526a10a0>"
      ]
     },
     "execution_count": 12,
     "metadata": {},
     "output_type": "execute_result"
    },
    {
     "data": {
      "image/png": "[encoded data removed]",
      "text/plain": [
       "<Figure size 432x288 with 1 Axes>"
      ]
     },
     "metadata": {
      "needs_background": "light"
     },
     "output_type": "display_data"
    }
   ],
   "source": [
    "from l5kit.geometry import transform_points\n",
    "from l5kit.visualization import TARGET_POINTS_COLOR, draw_trajectory\n",
    "\n",
    "box_cfg = cfg\n",
    "box_cfg[\"raster_params\"][\"map_type\"] = \"box_debug\"\n",
    "box_rasterizer = build_rasterizer(box_cfg, dm)\n",
    "\n",
    "box_dataset = EgoDataset(cfg, eval_zarr, box_rasterizer)\n",
    "\n",
    "se_cfg = cfg\n",
    "se_cfg[\"raster_params\"][\"map_type\"] = \"semantic_debug\"\n",
    "se_rasterizer = build_rasterizer(se_cfg, dm)\n",
    "se_dataset = EgoDataset(cfg, eval_zarr, se_rasterizer)\n",
    "\n",
    "\n",
    "data_ego = box_dataset[2010]\n",
    "im_ego = box_rasterizer.to_rgb(data_ego[\"image\"].transpose(1, 2, 0))\n",
    "print(im_ego.shape)\n",
    "target_positions = transform_points(data_ego[\"target_positions\"], data_ego[\"raster_from_agent\"])\n",
    "draw_trajectory(im_ego, target_positions, TARGET_POINTS_COLOR)\n",
    "\n",
    "from l5kit.geometry import rotation33_as_yaw, transform_point, transform_points\n",
    "\n",
    "import cv2\n",
    "\n",
    "\n",
    "\n",
    "raster_from_world = data_ego[\"raster_from_world\"]\n",
    "\n",
    "#centerline_area = (data_ego[\"goal_list\"])\n",
    "centerline_area = []\n",
    "\n",
    "target_positions_pixels = transform_points(data_ego[\"target_positions\"], data_ego[\"raster_from_agent\"])\n",
    "original_pixel = target_positions_pixels[0]\n",
    "\n",
    "#centerline_area.append((original_pixel[0],original_pixel[1]))\n",
    "for i in range(0,31,2):\n",
    "    for j in range(-10,11,2):\n",
    "        centerline_area.append((original_pixel[0]+i,original_pixel[1]+j))\n",
    "\n",
    "print(len(centerline_area))\n",
    "        \n",
    "\n",
    "for k in centerline_area:\n",
    "#        print(j)\n",
    "    xy_points = k\n",
    "#    xy_points = (transform_point(k, raster_from_world))\n",
    "#        print(xy_points)\n",
    "    cv2.circle(im_ego, (int(xy_points[0]),int(xy_points[1])), radius=1, color=(255, 0, 0), thickness=-1)\n",
    "    \n",
    "    \n",
    "    \n",
    "plt.imshow(im_ego)"
   ]
  },
  {
   "cell_type": "code",
   "execution_count": 13,
   "id": "20ae28dd",
   "metadata": {},
   "outputs": [
    {
     "name": "stdout",
     "output_type": "stream",
     "text": [
      "[28. 56.]\n"
     ]
    }
   ],
   "source": [
    "print(original_pixel)"
   ]
  },
  {
   "cell_type": "code",
   "execution_count": null,
   "id": "30135e54",
   "metadata": {},
   "outputs": [],
   "source": [
    "eval_zarr.agents"
   ]
  },
  {
   "cell_type": "code",
   "execution_count": null,
   "id": "08e2a920",
   "metadata": {},
   "outputs": [],
   "source": [
    "data_ego = eval_dataset[2050]\n",
    "\n",
    "traj = (data_ego[\"target_positions\"])\n",
    "im_ego = rasterizer.to_rgb(data_ego[\"image\"].transpose(1, 2, 0))\n",
    "\n",
    "cnt = 0\n",
    "for j, _ in enumerate(traj):\n",
    "    traj[j] = traj[j] + cnt\n",
    "    cnt = cnt + 1\n",
    "\n",
    "target_positions = transform_points(traj, data_ego[\"raster_from_agent\"])\n",
    "draw_trajectory(im_ego, target_positions, TARGET_POINTS_COLOR)#, yaws=data_ego[\"target_yaws\"])\n",
    "plt.imshow(im_ego)\n",
    "\n",
    "print(data_ego[\"target_yaws\"][0])"
   ]
  },
  {
   "cell_type": "code",
   "execution_count": null,
   "id": "0a57af77",
   "metadata": {},
   "outputs": [],
   "source": [
    "data_ego = eval_dataset[2050]\n",
    "im_ego = rasterizer.to_rgb(data_ego[\"image\"].transpose(1, 2, 0))\n",
    "\n",
    "target_positions = transform_points(data_ego[\"target_positions\"], data_ego[\"raster_from_agent\"])\n",
    "draw_trajectory(im_ego, target_positions, TARGET_POINTS_COLOR)\n",
    "#plt.imshow(im_ego)\n",
    "\n",
    "for i in data_ego:\n",
    "    print(i)"
   ]
  },
  {
   "cell_type": "code",
   "execution_count": null,
   "id": "9b8e95cd",
   "metadata": {},
   "outputs": [],
   "source": [
    "from l5kit.planning import utils\n",
    "from l5kit.simulation.dataset import SimulationConfig, SimulationDataset\n",
    "\n",
    "from l5kit.rasterization import EGO_EXTENT_LENGTH, EGO_EXTENT_WIDTH\n",
    "simulated_extent = np.r_[EGO_EXTENT_LENGTH, EGO_EXTENT_WIDTH]\n",
    "\n",
    "from enum import IntEnum\n",
    "from typing import Callable, Optional, Tuple\n",
    "\n",
    "\n",
    "def detect_collision(pred_centroid: np.ndarray, pred_yaw: np.ndarray,\n",
    "                     pred_extent: np.ndarray, target_agents: np.ndarray):\n",
    "    \"\"\"\n",
    "    Computes whether a collision occured between ego and any another agent.\n",
    "    Also computes the type of collision: rear, front, or side.\n",
    "    For this, we compute the intersection of ego's four sides with a target\n",
    "    agent and measure the length of this intersection. A collision\n",
    "    is classified into a class, if the corresponding length is maximal,\n",
    "    i.e. a front collision exhibits the longest intersection with\n",
    "    egos front edge.\n",
    "    .. note:: please note that this funciton will stop upon finding the first\n",
    "              colision, so it won't return all collisions but only the first\n",
    "              one found.\n",
    "    :param pred_centroid: predicted centroid\n",
    "    :param pred_yaw: predicted yaw\n",
    "    :param pred_extent: predicted extent\n",
    "    :param target_agents: target agent\n",
    "    :return: None if not collision was found, and a tuple with the\n",
    "             collision type and the agent track_id\n",
    "    \"\"\"\n",
    "    ego_bbox = utils._get_bounding_box(centroid=pred_centroid, yaw=pred_yaw, extent=pred_extent)\n",
    "    within_range_mask = utils.within_range(pred_centroid, pred_extent,\n",
    "                                           target_agents[\"centroid\"], target_agents[\"extent\"])\n",
    "    \n",
    "    res = 0\n",
    "    for agent in target_agents[within_range_mask]:\n",
    "        agent_bbox = utils._get_bounding_box(agent[\"centroid\"], agent[\"yaw\"], agent[\"extent\"])\n",
    "\n",
    "        if ego_bbox.intersects(agent_bbox):\n",
    "            front_side, rear_side, left_side, right_side = utils._get_sides(ego_bbox)\n",
    "\n",
    "            intersection_length_per_side = np.asarray(\n",
    "                [\n",
    "                    agent_bbox.intersection(front_side).length,\n",
    "                    agent_bbox.intersection(rear_side).length,\n",
    "                    agent_bbox.intersection(left_side).length,\n",
    "                    agent_bbox.intersection(right_side).length,\n",
    "                ]\n",
    "            )\n",
    "            argmax_side = np.argmax(intersection_length_per_side)\n",
    "\n",
    "            # Remap here is needed because there are two sides that are\n",
    "            # mapped to the same collision type CollisionType.SIDE\n",
    "            return 1\n",
    "\n",
    "    return 0"
   ]
  },
  {
   "cell_type": "code",
   "execution_count": null,
   "id": "644c9186",
   "metadata": {},
   "outputs": [],
   "source": [
    "detect_collision( traj[6], 0,simulated_extent, eval_zarr.agents)"
   ]
  },
  {
   "cell_type": "code",
   "execution_count": null,
   "id": "8c29a7ce",
   "metadata": {},
   "outputs": [],
   "source": []
  }
 ],
 "metadata": {
  "kernelspec": {
   "display_name": "Python 3 (ipykernel)",
   "language": "python",
   "name": "python3"
  },
  "language_info": {
   "codemirror_mode": {
    "name": "ipython",
    "version": 3
   },
   "file_extension": ".py",
   "mimetype": "text/x-python",
   "name": "python",
   "nbconvert_exporter": "python",
   "pygments_lexer": "ipython3",
   "version": "3.8.13"
  }
 },
 "nbformat": 4,
 "nbformat_minor": 5
}
