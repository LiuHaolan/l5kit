{
 "cells": [
  {
   "cell_type": "markdown",
   "metadata": {
    "id": "swFeGE9Hu-eF"
   },
   "source": [
    "# Visualisation Examples\n",
    "\n",
    "This notebook shows some of the visualisation utility of our toolkit.\n",
    "\n",
    "The core packages for visualisation are:\n",
    "### `rasterization`\n",
    "contains classes for getting visual data as multi-channel tensors and turning them into interpretable RGB images.\n",
    "Every class has at least a `rasterize` method to get the tensor and a `to_rgb` method to convert it into an image.\n",
    "A few examples are:\n",
    "- `BoxRasterizer`: this object renders agents (e.g. vehicles or pedestrians) as oriented 2D boxes\n",
    "- `SatelliteRasterizer`: this object renders an oriented crop from a satellite map\n",
    "\n",
    "### `visualization`\n",
    "contains utilities to draw additional information (e.g. trajectories) onto RGB images. These utilities are commonly used after a `to_rgb` call to add other information to the final visualisation. \n",
    "One example is:\n",
    "- `draw_trajectory`: this function draws 2D trajectories from coordinates and yaws offset on an image\n"
   ]
  },
  {
   "cell_type": "code",
   "execution_count": 1,
   "metadata": {
    "cellView": "form",
    "id": "-2bOYHKU1tw2"
   },
   "outputs": [
    {
     "name": "stdout",
     "output_type": "stream",
     "text": [
      "Not running in Google Colab.\n"
     ]
    }
   ],
   "source": [
    "#@title Download L5 Sample Dataset and install L5Kit\n",
    "import os\n",
    "RunningInCOLAB = 'google.colab' in str(get_ipython())\n",
    "if RunningInCOLAB:\n",
    "    !wget https://raw.githubusercontent.com/lyft/l5kit/master/examples/setup_notebook_colab.sh -q\n",
    "    !sh ./setup_notebook_colab.sh\n",
    "    os.environ[\"L5KIT_DATA_FOLDER\"] = open(\"./dataset_dir.txt\", \"r\").read().strip()\n",
    "else:\n",
    "    os.environ[\"L5KIT_DATA_FOLDER\"] = \"/mnt/scratch/v_liuhaolan/l5kit_data\"\n",
    "    print(\"Not running in Google Colab.\")"
   ]
  },
  {
   "cell_type": "code",
   "execution_count": 2,
   "metadata": {},
   "outputs": [
    {
     "name": "stdout",
     "output_type": "stream",
     "text": [
      "Thu Sep 15 14:42:54 2022       \n",
      "+-----------------------------------------------------------------------------+\n",
      "| NVIDIA-SMI 455.23.05    Driver Version: 455.23.05    CUDA Version: 11.1     |\n",
      "|-------------------------------+----------------------+----------------------+\n",
      "| GPU  Name        Persistence-M| Bus-Id        Disp.A | Volatile Uncorr. ECC |\n",
      "| Fan  Temp  Perf  Pwr:Usage/Cap|         Memory-Usage | GPU-Util  Compute M. |\n",
      "|                               |                      |               MIG M. |\n",
      "|===============================+======================+======================|\n",
      "|   0  GeForce GTX 980     On   | 00000000:02:00.0 Off |                  N/A |\n",
      "| 28%   34C    P8    13W / 180W |   1484MiB /  4043MiB |      0%      Default |\n",
      "|                               |                      |                  N/A |\n",
      "+-------------------------------+----------------------+----------------------+\n",
      "|   1  GeForce GTX 980     On   | 00000000:03:00.0 Off |                  N/A |\n",
      "| 30%   36C    P8    13W / 180W |      4MiB /  4043MiB |      0%      Default |\n",
      "|                               |                      |                  N/A |\n",
      "+-------------------------------+----------------------+----------------------+\n",
      "|   2  GeForce GTX 980     On   | 00000000:83:00.0 Off |                  N/A |\n",
      "| 26%   38C    P8    13W / 180W |      4MiB /  4043MiB |      0%      Default |\n",
      "|                               |                      |                  N/A |\n",
      "+-------------------------------+----------------------+----------------------+\n",
      "|   3  GeForce GTX 980     On   | 00000000:84:00.0 Off |                  N/A |\n",
      "| 28%   37C    P8    13W / 180W |      4MiB /  4043MiB |      0%      Default |\n",
      "|                               |                      |                  N/A |\n",
      "+-------------------------------+----------------------+----------------------+\n",
      "                                                                               \n",
      "+-----------------------------------------------------------------------------+\n",
      "| Processes:                                                                  |\n",
      "|  GPU   GI   CI        PID   Type   Process name                  GPU Memory |\n",
      "|        ID   ID                                                   Usage      |\n",
      "|=============================================================================|\n",
      "|    0   N/A  N/A   1770136      C   ...3/envs/testenv/bin/python      638MiB |\n",
      "|    0   N/A  N/A   2816641      C   ...3/envs/testenv/bin/python      840MiB |\n",
      "|    1   N/A  N/A   1770136      C   ...3/envs/testenv/bin/python        0MiB |\n",
      "|    1   N/A  N/A   2816641      C   ...3/envs/testenv/bin/python        0MiB |\n",
      "|    2   N/A  N/A   1770136      C   ...3/envs/testenv/bin/python        0MiB |\n",
      "|    2   N/A  N/A   2816641      C   ...3/envs/testenv/bin/python        0MiB |\n",
      "|    3   N/A  N/A   1770136      C   ...3/envs/testenv/bin/python        0MiB |\n",
      "|    3   N/A  N/A   2816641      C   ...3/envs/testenv/bin/python        0MiB |\n",
      "+-----------------------------------------------------------------------------+\n"
     ]
    }
   ],
   "source": [
    "!nvidia-smi"
   ]
  },
  {
   "cell_type": "code",
   "execution_count": 3,
   "metadata": {
    "id": "Xkf2xhE7u-eJ"
   },
   "outputs": [],
   "source": [
    "import matplotlib.pyplot as plt\n",
    "\n",
    "import numpy as np\n",
    "\n",
    "from l5kit.data import ChunkedDataset, LocalDataManager\n",
    "from l5kit.dataset import EgoDataset, AgentDataset, OfflineEgoDataset\n",
    "\n",
    "from l5kit.rasterization import build_rasterizer\n",
    "from l5kit.configs import load_config_data\n",
    "from l5kit.visualization import draw_trajectory, TARGET_POINTS_COLOR\n",
    "from l5kit.geometry import transform_points\n",
    "from tqdm import tqdm\n",
    "from collections import Counter\n",
    "from l5kit.data import PERCEPTION_LABELS\n",
    "from prettytable import PrettyTable\n",
    "\n",
    "import os\n",
    "\n",
    "from l5kit.visualization.visualizer.zarr_utils import zarr_to_visualizer_scene\n",
    "from l5kit.visualization.visualizer.visualizer import visualize\n",
    "from bokeh.io import output_notebook, show\n",
    "from l5kit.data import MapAPI"
   ]
  },
  {
   "cell_type": "markdown",
   "metadata": {
    "id": "sS6kZYksu-eK"
   },
   "source": [
    "### First, let's configure where our data lives!\n",
    "The data is expected to live in a folder that can be configured using the `L5KIT_DATA_FOLDER` env variable. You data folder is expected to contain subfolders for the aerial and semantic maps as well as the scenes (`.zarr` files). \n",
    "In this example, the env variable is set to the local data folder. You should make sure the path points to the correct location for you.\n",
    "\n",
    "We built our code to work with a human-readable `yaml` config. This config file holds much useful information, however, we will only focus on a few functionalities concerning loading and visualization here."
   ]
  },
  {
   "cell_type": "code",
   "execution_count": 4,
   "metadata": {
    "id": "zZwXO7Ybu-eK"
   },
   "outputs": [
    {
     "name": "stdout",
     "output_type": "stream",
     "text": [
      "{'format_version': 4, 'debug': True, 'model_params': {'model_architecture': 'resnet50', 'history_num_frames': 4, 'future_num_frames': 12, 'step_time': 0.1, 'render_ego_history': True}, 'raster_params': {'raster_size': [128, 128], 'pixel_size': [0.5, 0.5], 'ego_center': [0.25, 0.5], 'map_type': 'py_semantic', 'satellite_map_key': 'aerial_map/aerial_map.png', 'semantic_map_key': 'semantic_map/semantic_map.pb', 'dataset_meta_key': 'meta.json', 'filter_agents_threshold': 0.5, 'disable_traffic_light_faces': False, 'set_origin_to_bottom': True}, 'val_data_loader': {'key': 'scenes/train_full.zarr', 'batch_size': 64, 'shuffle': True, 'num_workers': 16}}\n"
     ]
    }
   ],
   "source": [
    "import os\n",
    "from collections import Counter\n",
    "from typing import Dict, Optional\n",
    "\n",
    "import numpy as np\n",
    "from l5kit.data import ChunkedDataset, LocalDataManager\n",
    "from l5kit.geometry import rotation33_as_yaw\n",
    "\n",
    "# get config\n",
    "cfg = load_config_data(\"./visualization_config.yaml\")\n",
    "print(cfg)"
   ]
  },
  {
   "cell_type": "markdown",
   "metadata": {
    "id": "xfMKTjgEu-eK"
   },
   "source": [
    "### We can look into our current configuration for interesting fields\n",
    "\n",
    "\\- when loaded in python, the `yaml`file is converted into a python `dict`. \n",
    "\n",
    "`raster_params` contains all the information related to the transformation of the 3D world onto an image plane:\n",
    "  - `raster_size`: the image plane size\n",
    "  - `pixel_size`: how many meters correspond to a pixel\n",
    "  - `ego_center`: our raster is centered around an agent, we can move the agent in the image plane with this param\n",
    "  - `map_type`: the rasterizer to be employed. We currently support a satellite-based and a semantic-based one. We will look at the differences further down in this script"
   ]
  },
  {
   "cell_type": "code",
   "execution_count": 5,
   "metadata": {
    "id": "GTu9RRD6u-eL"
   },
   "outputs": [
    {
     "data": {
      "text/plain": [
       "<l5kit.data.zarr_dataset.ChunkedDataset at 0x7faeac11b520>"
      ]
     },
     "execution_count": 5,
     "metadata": {},
     "output_type": "execute_result"
    }
   ],
   "source": [
    "dm = LocalDataManager()\n",
    "data_path = 'scenes/train_full.zarr'\n",
    "dataset_path = dm.require(data_path)\n",
    "zarr_dataset = ChunkedDataset(dataset_path)\n",
    "zarr_dataset.open()\n"
   ]
  },
  {
   "cell_type": "markdown",
   "metadata": {
    "id": "TmvxVhQRu-eL"
   },
   "source": [
    "## Load the data\n",
    "\n",
    "The same config file is also used to load the data. Every split in the data has its own section, and multiple datasets can be used (as a whole or sliced). In this short example we will only use the first dataset from the `sample` set. You can change this by configuring the 'train_data_loader' variable in the config.\n",
    "\n",
    "You may also have noticed that we're building a `LocalDataManager` object. This will resolve relative paths from the config using the `L5KIT_DATA_FOLDER` env variable we have just set."
   ]
  },
  {
   "cell_type": "code",
   "execution_count": 6,
   "metadata": {
    "id": "fSuf-o1fu-eL"
   },
   "outputs": [
    {
     "name": "stdout",
     "output_type": "stream",
     "text": [
      "+------------+------------+------------+---------------+-----------------+----------------------+----------------------+----------------------+---------------------+\n",
      "| Num Scenes | Num Frames | Num Agents | Num TR lights | Total Time (hr) | Avg Frames per Scene | Avg Agents per Frame | Avg Scene Time (sec) | Avg Frame frequency |\n",
      "+------------+------------+------------+---------------+-----------------+----------------------+----------------------+----------------------+---------------------+\n",
      "|   134622   |  33437057  | 2655096629 |   314473872   |      928.68     |        248.38        |        79.41         |        24.83         |        10.00        |\n",
      "+------------+------------+------------+---------------+-----------------+----------------------+----------------------+----------------------+---------------------+\n"
     ]
    }
   ],
   "source": [
    "dm = LocalDataManager()\n",
    "dataset_path = dm.require(cfg[\"val_data_loader\"][\"key\"])\n",
    "zarr_dataset = ChunkedDataset(dataset_path)\n",
    "zarr_dataset.open()\n",
    "print(zarr_dataset)"
   ]
  },
  {
   "cell_type": "markdown",
   "metadata": {
    "id": "LkYsmiX8u-eL"
   },
   "source": [
    "## Working with the raw data\n",
    "\n",
    "`.zarr` files support most of the traditional numpy array operations. In the following cell we iterate over the frames to get a scatter plot of the AV locations:"
   ]
  },
  {
   "cell_type": "code",
   "execution_count": 7,
   "metadata": {
    "id": "zx6X7Hb4u-eL"
   },
   "outputs": [
    {
     "data": {
      "text/plain": [
       "'\\nframes = zarr_dataset.frames\\ncoords = np.zeros((len(frames), 2))\\nfor idx_coord, idx_data in enumerate(tqdm(range(len(frames)), desc=\"getting centroid to plot trajectory\")):\\n    frame = zarr_dataset.frames[idx_data]\\n    coords[idx_coord] = frame[\"ego_translation\"][:2]\\n\\n\\nplt.scatter(coords[:, 0], coords[:, 1], marker=\\'.\\')\\naxes = plt.gca()\\naxes.set_xlim([-2500, 1600])\\naxes.set_ylim([-2500, 1600])\\n'"
      ]
     },
     "execution_count": 7,
     "metadata": {},
     "output_type": "execute_result"
    }
   ],
   "source": [
    "\"\"\"\n",
    "frames = zarr_dataset.frames\n",
    "coords = np.zeros((len(frames), 2))\n",
    "for idx_coord, idx_data in enumerate(tqdm(range(len(frames)), desc=\"getting centroid to plot trajectory\")):\n",
    "    frame = zarr_dataset.frames[idx_data]\n",
    "    coords[idx_coord] = frame[\"ego_translation\"][:2]\n",
    "\n",
    "\n",
    "plt.scatter(coords[:, 0], coords[:, 1], marker='.')\n",
    "axes = plt.gca()\n",
    "axes.set_xlim([-2500, 1600])\n",
    "axes.set_ylim([-2500, 1600])\n",
    "\"\"\""
   ]
  },
  {
   "cell_type": "markdown",
   "metadata": {
    "id": "zG5NNUtNu-eM"
   },
   "source": [
    "Another easy thing to try is to get an idea of the agents types distribution. \n",
    "\n",
    "We can get all the agents `label_probabilities` and get the argmax for each raw. because `.zarr` files map to numpy array we can use all the traditional numpy operations and functions."
   ]
  },
  {
   "cell_type": "code",
   "execution_count": 8,
   "metadata": {
    "id": "s31SlObxu-eM"
   },
   "outputs": [
    {
     "data": {
      "text/plain": [
       "'\\nagents = zarr_dataset.agents\\nprobabilities = agents[\"label_probabilities\"]\\nlabels_indexes = np.argmax(probabilities, axis=1)\\ncounts = []\\nfor idx_label, label in enumerate(PERCEPTION_LABELS):\\n    counts.append(np.sum(labels_indexes == idx_label))\\n    \\ntable = PrettyTable(field_names=[\"label\", \"counts\"])\\nfor count, label in zip(counts, PERCEPTION_LABELS):\\n    table.add_row([label, count])\\nprint(table)\\n'"
      ]
     },
     "execution_count": 8,
     "metadata": {},
     "output_type": "execute_result"
    }
   ],
   "source": [
    "\"\"\"\n",
    "agents = zarr_dataset.agents\n",
    "probabilities = agents[\"label_probabilities\"]\n",
    "labels_indexes = np.argmax(probabilities, axis=1)\n",
    "counts = []\n",
    "for idx_label, label in enumerate(PERCEPTION_LABELS):\n",
    "    counts.append(np.sum(labels_indexes == idx_label))\n",
    "    \n",
    "table = PrettyTable(field_names=[\"label\", \"counts\"])\n",
    "for count, label in zip(counts, PERCEPTION_LABELS):\n",
    "    table.add_row([label, count])\n",
    "print(table)\n",
    "\"\"\""
   ]
  },
  {
   "cell_type": "markdown",
   "metadata": {
    "id": "1ug64ia6u-eM"
   },
   "source": [
    "## Working with data abstraction\n",
    "\n",
    "Even though it's absolutely fine to work with the raw data, we also provide classes that abstract data access to offer an easier way to generate inputs and targets.\n",
    "\n",
    "### Core Objects\n",
    "Along with the `rasterizer`, our toolkit contains other classes you may want to use while you build your solution. The `dataset` package, for example, already implements `PyTorch` ready datasets, so you can hit the ground running and start coding immediately.\n",
    "\n",
    "### Dataset package\n",
    "We will use two classes from the `dataset` package for this example. Both of them can be iterated and return multi-channel images from the rasterizer along with future trajectories offsets and other information.\n",
    "- `EgoDataset`: this dataset iterates over the AV annotations\n",
    "- `AgentDataset`: this dataset iterates over other agents annotations\n",
    "\n",
    "Both support multi-threading (through PyTorch DataLoader) OOB."
   ]
  },
  {
   "cell_type": "code",
   "execution_count": 16,
   "metadata": {
    "id": "EeyavHW5u-eM"
   },
   "outputs": [
    {
     "name": "stdout",
     "output_type": "stream",
     "text": [
      "64\n"
     ]
    }
   ],
   "source": [
    "from l5kit.dataset import EgoDataset, AgentDataset, OfflineEgoDataset\n",
    "\n",
    "from l5kit.kinematic import AckermanPerturbation\n",
    "from l5kit.random import GaussianRandomGenerator\n",
    "\n",
    "from l5kit.geometry import transform_points\n",
    "from l5kit.visualization import TARGET_POINTS_COLOR, draw_trajectory\n",
    "\n",
    "mean = np.array([0.0, 1.0, 0.0])  # lateral, longitudinal and angular\n",
    "std = np.array([0.5, 1.5, np.pi / 6])\n",
    "\n",
    "#mean = np.array([0.0, 0.0, 1.0])  # lateral, longitudinal and angular\n",
    "#std = np.array([0.5, 3.5, np.pi / 6])\n",
    "\n",
    "perturb_prob = 1\n",
    "\n",
    "\n",
    "perturbation = AckermanPerturbation(\n",
    "        random_offset_generator=GaussianRandomGenerator(mean=mean, std=std), perturb_prob=perturb_prob)\n",
    "\n",
    "\n",
    "rast = build_rasterizer(cfg, dm)\n",
    "dataset = EgoDataset(cfg, zarr_dataset, rast, augmented=False)#, perturbation=perturbation)\n",
    "\n",
    "\n",
    "\n",
    "\n",
    "from torch.utils.data import DataLoader\n",
    "\n",
    "#print(cfg)\n",
    "train_cfg = cfg[\"val_data_loader\"]\n",
    "print(train_cfg[\"batch_size\"])\n",
    "train_dataloader = DataLoader(dataset, shuffle=train_cfg[\"shuffle\"], batch_size=train_cfg[\"batch_size\"], \n",
    "                             num_workers=train_cfg[\"num_workers\"])\n",
    "\n",
    "data_ego = next(iter(train_dataloader))\n",
    "# torch.Size([64, 500, 2])\n",
    "\n"
   ]
  },
  {
   "cell_type": "code",
   "execution_count": 10,
   "metadata": {},
   "outputs": [
    {
     "name": "stdout",
     "output_type": "stream",
     "text": [
      "torch.Size([13, 128, 128])\n",
      "tensor([32.0000, 64.0000], dtype=torch.float64)\n"
     ]
    },
    {
     "data": {
      "image/png": "[encoded data removed]",
      "text/plain": [
       "<Figure size 432x288 with 1 Axes>"
      ]
     },
     "metadata": {
      "needs_background": "light"
     },
     "output_type": "display_data"
    }
   ],
   "source": [
    "#print(data_ego)\n",
    "\n",
    "print(data_ego[\"image\"][0].shape)\n",
    "\n",
    "device = (\"cuda:0\")\n",
    "data_ego_cuda = {k: v.to(device) for k, v in data_ego.items()}\n",
    "\n",
    "#model.eval()\n",
    "#traj = model(data_ego_cuda)\n",
    "#print(traj['positions'])\n",
    "\n",
    "im_ego = rast.to_rgb((data_ego[\"image\"][0]).numpy().transpose(1, 2, 0))\n",
    "target_positions = transform_points(data_ego[\"target_positions\"][0].numpy(), data_ego[\"raster_from_agent\"][0].numpy())\n",
    "\n",
    "# weird hack\n",
    "im_ego = np.ascontiguousarray(im_ego, dtype=np.uint8)\n",
    "\n",
    "#draw_trajectory(im_ego, target_positions, TARGET_POINTS_COLOR)\n",
    "#target_positions = transform_points(traj['positions'].cpu().numpy(), data_ego[\"raster_from_agent\"][0].numpy())\n",
    "\n",
    "#draw_trajectory(im_ego, (target_positions).astype(np.uint8), TARGET_POINTS_COLOR)\n",
    "\n",
    "#target_positions_pixels = transform_points(data[\"target_positions\"], data[\"raster_from_agent\"])\n",
    "\n",
    "import cv2\n",
    "xy_points = data_ego[\"goal_pixel\"][0]\n",
    "cv2.circle(im_ego, (int(xy_points[0]),int(xy_points[1])), radius=1, color=(255,0,0))\n",
    "\n",
    "print(xy_points)\n",
    "\n",
    "plt.imshow(im_ego)\n",
    "plt.axis('off')\n",
    "plt.show()\n",
    "\n",
    "\n"
   ]
  },
  {
   "cell_type": "code",
   "execution_count": 13,
   "metadata": {
    "scrolled": true
   },
   "outputs": [
    {
     "name": "stdout",
     "output_type": "stream",
     "text": [
      "0.11290836334228516\n",
      "torch.int64\n"
     ]
    },
    {
     "data": {
      "image/png": "[encoded data removed]",
      "text/plain": [
       "<Figure size 432x288 with 1 Axes>"
      ]
     },
     "metadata": {
      "needs_background": "light"
     },
     "output_type": "display_data"
    },
    {
     "data": {
      "text/plain": [
       "<matplotlib.image.AxesImage at 0x7fae1ce8f6d0>"
      ]
     },
     "execution_count": 13,
     "metadata": {},
     "output_type": "execute_result"
    },
    {
     "data": {
      "image/png": "[encoded data removed]",
      "text/plain": [
       "<Figure size 432x288 with 1 Axes>"
      ]
     },
     "metadata": {
      "needs_background": "light"
     },
     "output_type": "display_data"
    }
   ],
   "source": [
    "import torch\n",
    "\n",
    "def batch_gaussian_tensor_obj(xL, yL, H, W, obj_list, obj_num, road_mask,  device, sigma=5 ):\n",
    "\n",
    " #channel = torch.zeros((H*W), dtype=torch.float)#.to(\"cuda:0\")\n",
    "    batch_size = xL.shape[0]\n",
    "    channel = torch.full((batch_size, H, W), 0.5).to(device)\n",
    "\n",
    "    x = torch.arange(H).view(H,1).repeat(1,W).to(device)\n",
    "    y = torch.arange(W).repeat(H,1).to(device)\n",
    "\n",
    "    for i in range(batch_size):\n",
    "        channel[i] += 0.5*torch.exp((-((x - xL[i]) ** 2 + (y - yL[i]) ** 2) / (2 * sigma ** 2)))\n",
    "        \n",
    "        \n",
    "        obnum = obj_num[i]\n",
    "        for j in range(obnum):\n",
    "            xy = obj_list[i][j]\n",
    "            xo = xy[1]\n",
    "            yo = xy[0]\n",
    "            channel[i] += -0.5*torch.exp((-((x - xo) ** 2 + (y - yo) ** 2) / (2 * sigma ** 2)))\n",
    "        \n",
    "        channel[i][(road_mask[i]==0)] = 0\n",
    "           \n",
    "           \n",
    "    return channel\n",
    "\n",
    "gt_goal_positions_pixels = data_ego[\"goal_pixel\"]\n",
    "batch_road_mask = data_ego[\"road_mask\"] # torch.permute(data_ego[\"road_mask\"],(0,2,1))\n",
    "\n",
    "import time\n",
    "start = time.time()\n",
    "gt_map_tensor = batch_gaussian_tensor_obj(gt_goal_positions_pixels[:,1], gt_goal_positions_pixels[:,0], 128, 128, data_ego[\"ocg\"], data_ego[\"obj_num\"], batch_road_mask,sigma=3,device=\"cuda:0\")\n",
    "\n",
    "print(time.time()-start)\n",
    "# it takes 0.1 seconds\n",
    "\n",
    "heatmap = gt_map_tensor[0].view(128,128).cpu().numpy()\n",
    "\n",
    "#heatmap = batch_road_mask[0]\n",
    "\n",
    "print(data_ego[\"road_mask\"][0].dtype)\n",
    "plt.imshow(heatmap, cmap='hot')\n",
    "\n",
    "plt.show()\n",
    "batch_weight = torch.where(gt_map_tensor[0].view(128,128) != 0.5, 1.0, 0.8)\n",
    "plt.imshow(batch_weight.cpu().numpy(), cmap='hot')\n"
   ]
  },
  {
   "cell_type": "markdown",
   "metadata": {
    "id": "D2lFtn-zu-eN"
   },
   "source": [
    "## What if I want to visualise the Autonomous Vehicle (AV)?\n",
    "\n",
    "Let's get a sample from the dataset and use our `rasterizer` to get an RGB image we can plot. \n",
    "\n",
    "If we want to plot the ground truth trajectory, we can convert the dataset's `target_position` (displacements in meters in agent coordinates) into pixel coordinates in the image space, and call our utility function `draw_trajectory` (note that you can use this function for the predicted trajectories, as well)."
   ]
  },
  {
   "cell_type": "code",
   "execution_count": 14,
   "metadata": {
    "scrolled": false
   },
   "outputs": [
    {
     "name": "stdout",
     "output_type": "stream",
     "text": [
      "[34.27910399 63.98776618]\n"
     ]
    },
    {
     "data": {
      "image/png": "[encoded data removed]",
      "text/plain": [
       "<Figure size 432x288 with 1 Axes>"
      ]
     },
     "metadata": {
      "needs_background": "light"
     },
     "output_type": "display_data"
    },
    {
     "name": "stdout",
     "output_type": "stream",
     "text": [
      "(100, 2)\n"
     ]
    }
   ],
   "source": [
    "\n",
    "idx = 4561\n",
    "#idx = 17895\n",
    "data = dataset[idx]\n",
    "\n",
    "#data = dataset[0]\n",
    "\n",
    "im = data[\"image\"].transpose(1, 2, 0)\n",
    "im = dataset.rasterizer.to_rgb(im)\n",
    "target_positions_pixels = transform_points(data[\"target_positions\"], data[\"raster_from_agent\"])\n",
    "draw_trajectory(im, target_positions_pixels, TARGET_POINTS_COLOR, yaws=data[\"target_yaws\"])\n",
    "\n",
    "print(target_positions_pixels[0])\n",
    "\n",
    "\n",
    "\n",
    "#print(data)\n",
    "\n",
    "#heatmap = (data[\"gt_heatmap\"])\n",
    "#plt.figure(figsize=(15,15))\n",
    "#plt.imshow(heatmap)\n",
    "import cv2\n",
    "ocg = data[\"ocg\"]\n",
    "for i in ocg:\n",
    "#    print(i)\n",
    "    cv2.circle(im, (int(i[0]), int(i[1])), radius=1, color=(255, 0, 0), thickness=-1)\n",
    "\n",
    "plt.imshow(im)\n",
    "plt.show()\n",
    "\n",
    "print(ocg.shape)"
   ]
  },
  {
   "cell_type": "code",
   "execution_count": null,
   "metadata": {
    "scrolled": true
   },
   "outputs": [],
   "source": [
    "gt = (data[\"goal_pixel\"])\n",
    "\n",
    "\n",
    "\n",
    "\"\"\"\n",
    "ocg = dataset[idx][\"ocg\"]\n",
    "oblist = []\n",
    "for i in ocg:\n",
    "    if i[0] < 28 or i[0] > 84:\n",
    "        continue\n",
    "    if i[1] < 28 or i[1] > 84:\n",
    "        continue\n",
    "    oblist.append([i[0]-28,i[1]-28])\n",
    "\n",
    "print(oblist)\n",
    "\"\"\"\n",
    "oblist = dataset[idx][\"ocg\"]\n",
    "obnum = dataset[idx][\"obj_num\"]\n",
    "#print(oblist)\n",
    "#print(oblist.shape[0])\n",
    "\n",
    "new_map = gaussian(gt[0],gt[1], 112, 112, sigma=3)\n",
    "\n",
    "obj_map = negative_gaussian(oblist,obnum, 112, 112,sigma=3)\n",
    "\n",
    "new_map = 0.5*np.ones((112,112)) + new_map + obj_map\n",
    "\n",
    "road_mask = dataset[idx][\"road_mask\"]#[28:84,28:84]\n",
    "new_map[np.where(road_mask==0)] = 0\n",
    "\n",
    "plt.figure(figsize=(10,10))\n",
    "plt.imshow(new_map)\n",
    "\n"
   ]
  },
  {
   "cell_type": "code",
   "execution_count": null,
   "metadata": {},
   "outputs": [],
   "source": [
    "road_mask = dataset.get_mask(idx)[\"road_mask\"][28:84,28:84]\n",
    "print(road_mask.shape)\n",
    "# get the zero indices, and then use them to mask the original picture.\n",
    "\n",
    "plt.figure(figsize=(8,8))\n",
    "plt.imshow(road_mask)\n",
    "print(road_mask)"
   ]
  },
  {
   "cell_type": "code",
   "execution_count": 15,
   "metadata": {},
   "outputs": [],
   "source": [
    "import math\n",
    "def gaussian(xL, yL, H, W, sigma=2):\n",
    "\n",
    "    channel = [0.5*math.exp(-((c - xL) ** 2 + (r - yL) ** 2) / (2 * sigma ** 2)) for r in range(H) for c in range(W)]\n",
    "    channel = np.array(channel, dtype=np.float32)\n",
    "    channel = np.reshape(channel, newshape=(H, W))\n",
    "\n",
    "    return channel\n",
    "\n",
    "def negative_gaussian(oblist,obnum, H, W, sigma=2):\n",
    "\n",
    "    channel = [0.0]*(H*W)\n",
    "    channel = np.array(channel)\n",
    "    for i in range(obnum):\n",
    "        xy = oblist[i]\n",
    "        xL = xy[0]\n",
    "        yL = xy[1]\n",
    "        adc = [- 0.5*math.exp(-((c - xL) ** 2 + (r - yL) ** 2) / (2 * sigma ** 2)) for r in range(H) for c in range(W)]\n",
    "        adc = np.array(adc)\n",
    "        channel += adc\n",
    "    \n",
    "    # may need to clip to zero when necessary\n",
    "    \n",
    "    channel = np.array(channel, dtype=np.float32)\n",
    "    print(channel.shape)\n",
    "    channel = np.reshape(channel, newshape=(H, W))\n",
    "    \n",
    "    return channel\n",
    "\n",
    "import torch\n",
    "def gaussian_tensor(xL, yL, H, W, sigma=5, device=\"cuda:0\"):\n",
    "\n",
    "    #channel = torch.zeros((H*W), dtype=torch.float)#.to(\"cuda:0\")\n",
    "    x = torch.arange(H).view(H,1).repeat(1,W).to(device)\n",
    "    y = torch.arange(W).repeat(H,1).to(device)\n",
    "    channel = torch.exp((-((x - xL) ** 2 + (y - yL) ** 2) / (2 * sigma ** 2)))\n",
    "\n",
    "    channel = channel.reshape(H, W)\n",
    "\n",
    "    return channel"
   ]
  },
  {
   "cell_type": "code",
   "execution_count": 51,
   "metadata": {},
   "outputs": [
    {
     "name": "stdout",
     "output_type": "stream",
     "text": [
      "(13, 128, 128)\n",
      "0.05475783348083496\n"
     ]
    },
    {
     "data": {
      "image/png": "[encoded data removed]",
      "text/plain": [
       "<Figure size 432x288 with 1 Axes>"
      ]
     },
     "metadata": {
      "needs_background": "light"
     },
     "output_type": "display_data"
    },
    {
     "data": {
      "image/png": "[encoded data removed]",
      "text/plain": [
       "<Figure size 432x288 with 1 Axes>"
      ]
     },
     "metadata": {
      "needs_background": "light"
     },
     "output_type": "display_data"
    }
   ],
   "source": [
    "import math\n",
    "def gaussian(xL, yL, H, W, sigma=2):\n",
    "\n",
    "    channel = [0.5*math.exp(-((c - xL) ** 2 + (r - yL) ** 2) / (2 * sigma ** 2)) for r in range(H) for c in range(W)]\n",
    "    channel = np.array(channel, dtype=np.float32)\n",
    "    channel = np.reshape(channel, newshape=(H, W))\n",
    "\n",
    "    return channel\n",
    "\n",
    "data_ego = dataset[9432]\n",
    "# torch.Size([64, 500, 2])\n",
    "\n",
    "print(data_ego[\"image\"].shape)\n",
    "\n",
    "gt_goal_positions_pixels = data_ego[\"goal_pixel\"]\n",
    "\n",
    "\n",
    "#model.eval()\n",
    "#traj = model(data_ego_cuda)\n",
    "#print(traj['positions'])\n",
    "\n",
    "im_ego = rast.to_rgb((data_ego[\"image\"]).transpose(1, 2, 0))\n",
    "target_positions = transform_points(data_ego[\"target_positions\"], data_ego[\"raster_from_agent\"])\n",
    "\n",
    "# weird hack\n",
    "im_ego = np.ascontiguousarray(im_ego, dtype=np.uint8)\n",
    "\n",
    "import time\n",
    "start = time.time()\n",
    "gt_map_tensor = gaussian(gt_goal_positions_pixels[1], gt_goal_positions_pixels[0], 128, 128,sigma=5)\n",
    "\n",
    "print(time.time()-start)\n",
    "# it takes 0.1 seconds\n",
    "\n",
    "heatmap = gt_map_tensor#.view(128,128)\n",
    "\n",
    "#heatmap = batch_road_mask[0]\n",
    "\n",
    "plt.imshow(heatmap, cmap='hot')\n",
    "\n",
    "plt.show()\n",
    "\n",
    "plt.imshow(im_ego)\n",
    "plt.axis('off')\n",
    "plt.show()"
   ]
  },
  {
   "cell_type": "code",
   "execution_count": 50,
   "metadata": {},
   "outputs": [
    {
     "name": "stdout",
     "output_type": "stream",
     "text": [
      "(128, 128, 3)\n"
     ]
    },
    {
     "data": {
      "image/png": "[encoded data removed]",
      "text/plain": [
       "<Figure size 432x288 with 1 Axes>"
      ]
     },
     "metadata": {
      "needs_background": "light"
     },
     "output_type": "display_data"
    }
   ],
   "source": [
    "alpha = 0.4\n",
    "\n",
    "cmap = plt.get_cmap('hot')\n",
    "full_heatmap_r = cmap(heatmap)[:,:,:3]\n",
    "\n",
    "img_feature = ((im_ego[:, :, :3] ) * alpha + 255*full_heatmap_r * (1 - alpha)).astype(np.uint8)\n",
    "\n",
    "plt.axis(\"off\")\n",
    "plt.imshow(img_feature)\n",
    "\n",
    "print(im_ego.shape)"
   ]
  },
  {
   "cell_type": "code",
   "execution_count": null,
   "metadata": {},
   "outputs": [],
   "source": [
    "#Function to create heatmaps by convoluting a 2D gaussian kernel over a (x,y) keypoint.\n",
    "\n",
    "import math\n",
    "def gaussian(xL, yL, H, W, sigma=5):\n",
    "\n",
    "    channel = [math.exp(-((c - xL) ** 2 + (r - yL) ** 2) / (2 * sigma ** 2)) for r in range(H) for c in range(W)]\n",
    "    channel = np.array(channel, dtype=np.float32)\n",
    "    channel = np.reshape(channel, newshape=(H, W))\n",
    "\n",
    "    return channel"
   ]
  },
  {
   "cell_type": "code",
   "execution_count": null,
   "metadata": {},
   "outputs": [],
   "source": [
    "\n",
    "#Generate heatmaps for one sample image\n",
    "heatmaps = []\n",
    "\n",
    "#for i in range(0, 30, 2):\n",
    "#    x = int(y_train[0][i])\n",
    "#    y = int(y_train[0][i + 1])\n",
    "x = 10\n",
    "y = 6\n",
    "import time\n",
    "start = time.time()\n",
    "heatmap = gaussian(x, y, 11, 28,sigma=2)\n",
    "\n",
    "print(time.time()-start)\n",
    "heatmaps.append(heatmap)\n",
    "    \n",
    "heatmaps = np.array(heatmaps)\n",
    "\n",
    "plt.figure(figsize=(15,15))\n",
    "plt.imshow(heatmaps[0])\n",
    "\n",
    "print(heatmaps[0].shape)"
   ]
  },
  {
   "cell_type": "code",
   "execution_count": null,
   "metadata": {},
   "outputs": [],
   "source": [
    "# validation code\n",
    "import cv2\n",
    "\n",
    "import tqdm\n",
    "import math\n",
    "\n",
    "\n",
    "goal_stats = np.zeros((112,112))\n",
    "for data in tqdm.tqdm(range(0,len(dataset),1000)):\n",
    "    data = dataset[data]\n",
    "    # current_positions_pixels = transform_points(data[\"target_positions\"], data[\"raster_from_agent\"])[-1]\n",
    "    #coor = data[\"goal_list\"][data[\"goal_gt\"]]\n",
    "    coor = [0,0]\n",
    "    coor[0] = math.floor(data[\"goal_pixel\"][0])\n",
    "    coor[1] = math.floor(data[\"goal_pixel\"][1])\n",
    "    #print(coor)\n",
    "    goal_stats[coor[0]][coor[1]] += 1\n",
    "    # count the stats\n",
    " #goal_stats.append(current_positions_pixels)\n",
    "#centerline_area = data[\"goal_list\"]\n",
    "\n",
    "print(len(goal_stats))\n",
    "\n",
    "#img = 255 * np.ones(shape=(rast.raster_size[1], rast.raster_size[0]), dtype=np.uint8)\n",
    "\n",
    "\n",
    "\n",
    "plt.imshow(goal_stats, cmap='hot')\n",
    "plt.show()"
   ]
  },
  {
   "cell_type": "code",
   "execution_count": null,
   "metadata": {},
   "outputs": [],
   "source": [
    "print(np.count_nonzero(goal_stats))"
   ]
  },
  {
   "cell_type": "code",
   "execution_count": null,
   "metadata": {},
   "outputs": [],
   "source": [
    "#print(goal_stats)\n",
    "print(data[\"goal_pixel\"])\n",
    "goal_stats2 = 1/(1 + np.exp(-goal_stats))#np.log(1+goal_stats)#\n",
    "#goal_stats2 /= np.max(goal_stats2)\n",
    "plt.imshow(goal_stats2, cmap='hot')\n",
    "#plt.show()\n",
    "\n",
    "print(goal_stats[29][70])\n",
    "#print(np.max(goal_stats))"
   ]
  },
  {
   "cell_type": "code",
   "execution_count": null,
   "metadata": {},
   "outputs": [],
   "source": [
    "# validation code\n",
    "import cv2\n",
    "\n",
    "import tqdm\n",
    "import math\n",
    "\n",
    "\n",
    "goal_stats = np.zeros((112,112))\n",
    "for data in tqdm.tqdm(range(0,len(dataset),1000)):\n",
    "    data = dataset[data]\n",
    "    # current_positions_pixels = transform_points(data[\"target_positions\"], data[\"raster_from_agent\"])[-1]\n",
    "    #coor = data[\"goal_list\"][data[\"goal_gt\"]]\n",
    "    coor = [0,0]\n",
    "    coor[0] = math.floor(data[\"goal_pixel\"][0])\n",
    "    coor[1] = math.floor(data[\"goal_pixel\"][1])\n",
    "    #print(coor)\n",
    "    goal_stats[coor[0]][coor[1]] = 1\n",
    "    # count the stats\n",
    " #goal_stats.append(current_positions_pixels)\n",
    "#centerline_area = data[\"goal_list\"]\n",
    "\n",
    "print(len(goal_stats))\n",
    "\n",
    "#img = 255 * np.ones(shape=(rast.raster_size[1], rast.raster_size[0]), dtype=np.uint8)\n",
    "\n",
    "\n",
    "\n",
    "plt.imshow(goal_stats, cmap='hot')\n",
    "plt.show()"
   ]
  },
  {
   "cell_type": "code",
   "execution_count": null,
   "metadata": {},
   "outputs": [],
   "source": [
    "from l5kit.dataset import EgoDataset, AgentDataset, OfflineEgoDataset\n",
    "\n",
    "rast = build_rasterizer(cfg, dm)\n",
    "dataset = OfflineEgoDataset(cfg, zarr_dataset, rast)\n",
    "\n",
    "# validation code\n",
    "import cv2\n",
    "\n",
    "import tqdm\n",
    "import math\n",
    "\n",
    "\n",
    "goal_stats = np.zeros((112,112))\n",
    "for data in tqdm.tqdm(range(0,len(dataset),1000)):\n",
    "    data = dataset[data]\n",
    "    # current_positions_pixels = transform_points(data[\"target_positions\"], data[\"raster_from_agent\"])[-1]\n",
    "    #coor = data[\"goal_list\"][data[\"goal_gt\"]]\n",
    "    coor = [0,0]\n",
    "    coor[0] = math.floor(data[\"goal_pixel\"][0])\n",
    "    coor[1] = math.floor(data[\"goal_pixel\"][1])\n",
    "    #print(coor)\n",
    "    goal_stats[coor[0]][coor[1]] = 1\n",
    "    # count the stats\n",
    " #goal_stats.append(current_positions_pixels)\n",
    "#centerline_area = data[\"goal_list\"]\n",
    "\n",
    "print(len(goal_stats))\n",
    "\n",
    "#img = 255 * np.ones(shape=(rast.raster_size[1], rast.raster_size[0]), dtype=np.uint8)\n",
    "\n",
    "\n",
    "\n",
    "plt.imshow(goal_stats, cmap='hot')\n",
    "plt.show()"
   ]
  },
  {
   "cell_type": "code",
   "execution_count": null,
   "metadata": {
    "scrolled": true
   },
   "outputs": [],
   "source": [
    "\n",
    "gt_goal_stats = []\n",
    "for data in tqdm.tqdm(range(0,len(dataset),100000)):\n",
    "    data = dataset[data]\n",
    "    #print(data[\"goal_list\"][data[\"goal_gt\"]])\n",
    "    #print(data[\"goal_pixel\"])\n",
    "print(len(gt_goal_stats))\n"
   ]
  },
  {
   "cell_type": "code",
   "execution_count": null,
   "metadata": {},
   "outputs": [],
   "source": [
    "\n",
    "gt_goal_stats = []\n",
    "for data in tqdm.tqdm(range(0,len(dataset),10000)):\n",
    "    data = dataset[data]\n",
    "    current_positions_pixels = data[\"goal_list\"][data[\"goal_gt\"]]\n",
    "    gt_goal_stats.append(current_positions_pixels)\n",
    "print(len(gt_goal_stats))\n"
   ]
  },
  {
   "cell_type": "code",
   "execution_count": null,
   "metadata": {},
   "outputs": [],
   "source": [
    "#centerline_area = dataset[0][\"goal_list\"]\n",
    "\n",
    "img = 255 * np.ones(shape=(rast.raster_size[1], rast.raster_size[0], 3), dtype=np.uint8)\n",
    "\n",
    "#for k in goal_stats:\n",
    "#    cv2.circle(img, (int(k[0]),int(k[1])), radius=1, color=(255, 0, 0), thickness=-1)\n",
    "\n",
    "for k in gt_goal_stats:\n",
    "#        print(j)\n",
    "#        xy_points = (transform_point(k, raster_from_world))\n",
    "#        print(xy_points)\n",
    "    cv2.circle(img, (int(k[0]),int(k[1])), radius=1, color=(0, 0, 255), thickness=-1)\n",
    "\n",
    "    \n",
    "original_pixel = [28,56]\n",
    "centerline_area = []\n",
    "# centerline_area.append((original_pixel[0],original_pixel[1]))\n",
    "#for i in range(0,40,2):\n",
    "#    for j in range(-10,10,2):\n",
    "#        centerline_area.append((original_pixel[0]+i,original_pixel[1]+j))\n",
    "\n",
    "for i in range(0,56,2):\n",
    "    for j in range(-10,11,2):\n",
    "        centerline_area.append((original_pixel[0]+i,original_pixel[1]+j))\n",
    "\n",
    "print(len(centerline_area))\n",
    "\n",
    "for k in centerline_area:\n",
    "#        print(j)\n",
    "        xy_points = k\n",
    "#        xy_points = (transform_point(k, raster_from_world))\n",
    "#        print(xy_points)\n",
    "        cv2.circle(img, (int(xy_points[0]),int(xy_points[1])), radius=0, color=(0, 255, 0), thickness=-1)\n",
    "\n",
    "\n",
    "    \n",
    "plt.imshow(img)\n",
    "plt.show()"
   ]
  },
  {
   "cell_type": "code",
   "execution_count": null,
   "metadata": {},
   "outputs": [],
   "source": [
    "import time\n",
    "start = time.time()\n",
    "target_matrix=np.zeros((len(data[\"goal_list\"]),2),dtype=int)\n",
    "for k in range(len(data[\"goal_list\"])):\n",
    "#        print(j)\n",
    "#        xy_points = (transform_point(k, raster_from_world))\n",
    "#        print(xy_points)\n",
    "    target_matrix[k,:] = np.array([int(data[\"goal_list\"][k][0]),int(data[\"goal_list\"][k][1])])\n",
    "print(\"time: {} s\".format(time.time()-start))   "
   ]
  },
  {
   "cell_type": "code",
   "execution_count": null,
   "metadata": {},
   "outputs": [],
   "source": [
    "\n",
    "\n",
    "#target_mlp = MLP(in_channels=(2048+2), out_channels=1, hidden_unit=128)\n",
    "#goal_tensor = torch.tensor(target_matrix)\n",
    "\n",
    "# adding a training test to validate our idea!\n"
   ]
  },
  {
   "cell_type": "code",
   "execution_count": null,
   "metadata": {},
   "outputs": [],
   "source": [
    "\n",
    "\n",
    "from torch.utils.data import DataLoader\n",
    "\n",
    "#print(cfg)\n",
    "train_cfg = cfg[\"val_data_loader\"]\n",
    "print(train_cfg[\"batch_size\"])\n",
    "train_dataloader = DataLoader(dataset, shuffle=train_cfg[\"shuffle\"], batch_size=train_cfg[\"batch_size\"], \n",
    "                             num_workers=train_cfg[\"num_workers\"])\n",
    "\n",
    "sample_data = next(iter(train_dataloader))\n",
    "# torch.Size([64, 500, 2])"
   ]
  },
  {
   "cell_type": "code",
   "execution_count": null,
   "metadata": {},
   "outputs": [],
   "source": [
    "print(sample_data['image'].shape)"
   ]
  },
  {
   "cell_type": "code",
   "execution_count": null,
   "metadata": {},
   "outputs": [],
   "source": [
    "#model_path = \"/mnt/home/v_liuhaolan/haolan/l5kit/lyft_model/planning_model_20201208.pt\"\n",
    "model_path = \"/mnt/home/v_liuhaolan/haolan/l5kit/nmp/planning_tnt_stage1_shared1_lr_4_2.pt\"\n",
    "\n",
    "\n",
    "\n",
    "\n",
    "import sys\n",
    "import torch\n",
    "from torch import nn\n",
    "device = torch.device(\"cuda:0\" if torch.cuda.is_available() else \"cpu\")\n",
    "\n",
    "sys.path.insert(0, '/mnt/home/v_liuhaolan/haolan/l5kit/nmp')\n",
    "rasterizer = build_rasterizer(cfg, dm)\n",
    "\n",
    "from model.models import RasterizedTNTWithHistoryStage1Version1\n",
    "model = RasterizedTNTWithHistoryStage1Version1(\n",
    "        model_arch=\"resnet50\",\n",
    "        num_input_channels=rasterizer.num_channels(),\n",
    "        num_targets=3 * cfg[\"model_params\"][\"future_num_frames\"],  # X, Y, Yaw * number of future states,\n",
    "        weights_scaling= [1., 1., 1.],\n",
    "#        criterion=nn.L1Loss(reduction=\"none\")\n",
    "         criterion=torch.nn.HuberLoss(reduction=\"none\"),\n",
    "        num_mlp_hidden = 64\n",
    "        )\n",
    "\n",
    "\n",
    "\n",
    "\"\"\"\n",
    "from model.models import RasterizedTNT\n",
    "model = RasterizedTNT(\n",
    "        model_arch=\"resnet50\",\n",
    "        num_input_channels=rasterizer.num_channels(),\n",
    "        num_targets=3 * cfg[\"model_params\"][\"future_num_frames\"],  # X, Y, Yaw * number of future states,\n",
    "        weights_scaling= [1., 1., 1.],\n",
    "#        criterion=nn.L1Loss(reduction=\"none\")\n",
    "         criterion=torch.nn.HuberLoss(reduction=\"none\"),\n",
    "        num_mlp_hidden = 128\n",
    "        )\n",
    "\n",
    "from model.models import RasterizedImitationModel\n",
    "model = RasterizedImitationModel(\n",
    "        model_arch=\"resnet50\",\n",
    "        num_input_channels=rasterizer.num_channels(),\n",
    "        num_targets=3 * cfg[\"model_params\"][\"future_num_frames\"],  # X, Y, Yaw * number of future states,\n",
    "        weights_scaling= [1., 1., 1.],\n",
    "        criterion=nn.L1Loss(reduction=\"none\")\n",
    "        )\n",
    "\n",
    "\n",
    "from model.models import RasterizedTNTWithHistory\n",
    "model = RasterizedTNTWithHistory(\n",
    "        model_arch=\"resnet50\",\n",
    "        num_input_channels=rasterizer.num_channels(),\n",
    "        num_targets=3 * cfg[\"model_params\"][\"future_num_frames\"],  # X, Y, Yaw * number of future states,\n",
    "        weights_scaling= [1., 1., 1.],\n",
    "#        criterion=nn.L1Loss(reduction=\"none\")\n",
    "         criterion=torch.nn.HuberLoss(reduction=\"none\"),\n",
    "        num_mlp_hidden = 128\n",
    "        )\n",
    "\"\"\"\n",
    "#model = torch.load(model_path)\n",
    "model.load_state_dict(torch.load(model_path))\n",
    "\n",
    "\n",
    "#model = torch.load(model_path)\n",
    "model = model.to(device)\n",
    "model = model.eval()\n",
    "torch.set_grad_enabled(False)"
   ]
  },
  {
   "cell_type": "code",
   "execution_count": null,
   "metadata": {},
   "outputs": [],
   "source": [
    "sample_data = {k: v.to(device) for k, v in sample_data.items()}\n",
    "\n",
    "res = model(sample_data)\n"
   ]
  },
  {
   "cell_type": "code",
   "execution_count": null,
   "metadata": {},
   "outputs": [],
   "source": [
    "\n",
    "#print(score)"
   ]
  },
  {
   "cell_type": "code",
   "execution_count": null,
   "metadata": {},
   "outputs": [],
   "source": [
    "idx = 11\n",
    "\n",
    "m = nn.Softmax(dim=0)\n",
    "score = (m(res[\"goal_score\"][idx]).cpu().numpy())\n",
    "coor = (sample_data[\"goal_list\"][idx].cpu().numpy())\n",
    "\n",
    "\n",
    "im = sample_data['image'][idx].cpu().numpy().transpose(1, 2, 0)\n",
    "im = dataset.rasterizer.to_rgb(im)\n",
    "im = np.ascontiguousarray(im, dtype=np.uint8)\n",
    "\n",
    "import cv2 \n",
    "\"\"\"\n",
    "for k in range((score.shape[0])):\n",
    "#        print(j)\n",
    "        xy_points = coor[k]\n",
    "#        xy_points = (transform_point(k, raster_from_world))\n",
    "#        print(xy_points)\n",
    "        intensity = score[k]\n",
    "    \n",
    "        cv2.circle(im, (int(xy_points[0]),int(xy_points[1])), radius=0, color=(0, int(255*intensity), 0), thickness=-1)\n",
    "\"\"\"\n",
    "xy_points = coor[5]\n",
    "print( coor[5])\n",
    "cv2.circle(im, (int(xy_points[0]),int(xy_points[1])), radius=3, color=(255, 0, 0), thickness=-1)\n",
    "\n",
    "\n",
    "#target_positions_pixels = transform_points(sample_data[\"target_positions\"].numpy()[0], sample_data[\"raster_from_agent\"][0])\n",
    "\n",
    "#print(target_positions_pixels)\n",
    "#draw_trajectory(im, target_positions_pixels, TARGET_POINTS_COLOR, yaws=sample_data[\"target_yaws\"][0])\n",
    "\n",
    "plt.imshow(im)\n",
    "plt.show()"
   ]
  },
  {
   "cell_type": "code",
   "execution_count": null,
   "metadata": {},
   "outputs": [],
   "source": [
    "#model_path = \"/mnt/home/v_liuhaolan/haolan/l5kit/lyft_model/planning_model_20201208.pt\"\n",
    "model_path = \"/mnt/home/v_liuhaolan/haolan/l5kit/nmp/ckpt/multimodal/planning_mm_2.pt\"\n",
    "\n",
    "\n",
    "\n",
    "\n",
    "import sys\n",
    "import torch\n",
    "from torch import nn\n",
    "device = torch.device(\"cuda:0\" if torch.cuda.is_available() else \"cpu\")\n",
    "\n",
    "sys.path.insert(0, '/mnt/home/v_liuhaolan/haolan/l5kit/nmp')\n",
    "rasterizer = build_rasterizer(cfg, dm)\n",
    "\n",
    "from l5kit.planning.rasterized.multimodal_model import RasterizedMultiModalPlanningModel\n",
    "model = RasterizedMultiModalPlanningModel(\n",
    "        model_arch=\"resnet50\",\n",
    "        num_input_channels=rasterizer.num_channels(),\n",
    "        future_num_frames=cfg[\"model_params\"][\"future_num_frames\"],  # X, Y, Yaw * number of future states,\n",
    "        num_outputs = 3,\n",
    "        weights_scaling= [1., 1., 1.],\n",
    "        num_modes = 5,\n",
    "#        criterion=nn.L1Loss(reduction=\"none\")\n",
    "         criterion=torch.nn.HuberLoss(reduction=\"none\"),\n",
    "        )\n",
    "\n",
    "\n",
    "\n",
    "\n",
    "\"\"\"\n",
    "from model.models import RasterizedTNT\n",
    "model = RasterizedTNT(\n",
    "        model_arch=\"resnet50\",\n",
    "        num_input_channels=rasterizer.num_channels(),\n",
    "        num_targets=3 * cfg[\"model_params\"][\"future_num_frames\"],  # X, Y, Yaw * number of future states,\n",
    "        weights_scaling= [1., 1., 1.],\n",
    "#        criterion=nn.L1Loss(reduction=\"none\")\n",
    "         criterion=torch.nn.HuberLoss(reduction=\"none\"),\n",
    "        num_mlp_hidden = 128\n",
    "        )\n",
    "\n",
    "from model.models import RasterizedImitationModel\n",
    "model = RasterizedImitationModel(\n",
    "        model_arch=\"resnet50\",\n",
    "        num_input_channels=rasterizer.num_channels(),\n",
    "        num_targets=3 * cfg[\"model_params\"][\"future_num_frames\"],  # X, Y, Yaw * number of future states,\n",
    "        weights_scaling= [1., 1., 1.],\n",
    "        criterion=nn.L1Loss(reduction=\"none\")\n",
    "        )\n",
    "\n",
    "\n",
    "from model.models import RasterizedTNTWithHistory\n",
    "model = RasterizedTNTWithHistory(\n",
    "        model_arch=\"resnet50\",\n",
    "        num_input_channels=rasterizer.num_channels(),\n",
    "        num_targets=3 * cfg[\"model_params\"][\"future_num_frames\"],  # X, Y, Yaw * number of future states,\n",
    "        weights_scaling= [1., 1., 1.],\n",
    "#        criterion=nn.L1Loss(reduction=\"none\")\n",
    "         criterion=torch.nn.HuberLoss(reduction=\"none\"),\n",
    "        num_mlp_hidden = 128\n",
    "        )\n",
    "\"\"\"\n",
    "#model = torch.load(model_path)\n",
    "model.load_state_dict(torch.load(model_path))\n",
    "\n",
    "\n",
    "#model = torch.load(model_path)\n",
    "model = model.to(device)\n",
    "model = model.eval()\n",
    "torch.set_grad_enabled(False)"
   ]
  },
  {
   "cell_type": "code",
   "execution_count": null,
   "metadata": {},
   "outputs": [],
   "source": [
    "\n",
    "from torch.utils.data import DataLoader\n",
    "\n",
    "#print(cfg)\n",
    "train_cfg = cfg[\"val_data_loader\"]\n",
    "print(train_cfg[\"batch_size\"])\n",
    "train_dataloader = DataLoader(dataset, shuffle=train_cfg[\"shuffle\"], batch_size=train_cfg[\"batch_size\"], \n",
    "                             num_workers=train_cfg[\"num_workers\"])"
   ]
  },
  {
   "cell_type": "code",
   "execution_count": null,
   "metadata": {},
   "outputs": [],
   "source": [
    "\n",
    "\n",
    "sample_data = next(iter(train_dataloader))\n",
    "sample_data = {k: v.to(device) for k, v in sample_data.items()}\n",
    "\n",
    "res = model(sample_data)"
   ]
  },
  {
   "cell_type": "code",
   "execution_count": null,
   "metadata": {},
   "outputs": [],
   "source": []
  },
  {
   "cell_type": "code",
   "execution_count": null,
   "metadata": {},
   "outputs": [],
   "source": [
    "#print(res)\n",
    "idx = 46\n",
    "\n",
    "target = res[\"positions_all\"][idx]\n",
    "target = target.view(5, 12, 2)\n",
    "\n",
    "target = target[:,-1,:].squeeze(1)\n",
    "\n",
    "# mode = 5\n",
    "# each with 12 positions\n",
    "\n",
    "print(target.shape)\n",
    "\n",
    "im = sample_data['image'][idx].cpu().numpy().transpose(1, 2, 0)\n",
    "im = dataset.rasterizer.to_rgb(im)\n",
    "im = np.ascontiguousarray(im, dtype=np.uint8)\n",
    "\n",
    "import cv2 \n",
    "\"\"\"\n",
    "for k in range((score.shape[0])):\n",
    "#        print(j)\n",
    "        xy_points = coor[k]\n",
    "#        xy_points = (transform_point(k, raster_from_world))\n",
    "#        print(xy_points)\n",
    "        intensity = score[k]\n",
    "    \n",
    "        cv2.circle(im, (int(xy_points[0]),int(xy_points[1])), radius=0, color=(0, int(255*intensity), 0), thickness=-1)\n",
    "\"\"\"\n",
    "#xy_points = coor[5]\n",
    "from l5kit.geometry import transform_point\n",
    "\n",
    "#print( coor[5])\n",
    "raster_from_agent = sample_data[\"raster_from_agent\"][idx].cpu()\n",
    "target = target.cpu()\n",
    "for i in range(5):\n",
    "    xyz = target[i,:]\n",
    "    \n",
    "    xy_points = (transform_point(xyz, raster_from_agent))\n",
    "    print(xy_points)\n",
    "    \n",
    "    cv2.circle(im, (int(xy_points[0]),int(xy_points[1])), radius=1, color=(255, 0, 0))#, thickness=-1)\n",
    "\n",
    "\n",
    "#target_positions_pixels = transform_points(sample_data[\"target_positions\"].numpy()[0], sample_data[\"raster_from_agent\"][0])\n",
    "\n",
    "#print(target_positions_pixels)\n",
    "#draw_trajectory(im, target_positions_pixels, TARGET_POINTS_COLOR, yaws=sample_data[\"target_yaws\"][0])\n",
    "\n",
    "plt.imshow(im)\n",
    "plt.show()\n",
    "\n",
    "\n",
    "# maybe we can calculate their average distance from optimal points and long points"
   ]
  },
  {
   "cell_type": "code",
   "execution_count": null,
   "metadata": {},
   "outputs": [],
   "source": [
    "import torch\n",
    "from torch import nn\n",
    "\n",
    "goal_batch = sample_data[\"goal_list\"]\n",
    "target_mlp = MLP(in_channels=(2048+2), out_channels=1, hidden_unit=128)\n",
    "\n",
    "feature_batch = torch.rand((64,2048))\n",
    "feature_batch=feature_batch.unsqueeze(1).repeat(1,500,1)\n",
    "input_batch = torch.cat([feature_batch,goal_batch],dim=2)\n",
    "\n",
    "x = target_mlp(input_batch).squeeze(dim=2)\n",
    "\n",
    "#mask invalid part\n",
    "for batch_num in range(x.shape[0]):\n",
    "    x[batch_num][sample_data[\"goal_num\"][batch_num]:] = -float(\"inf\")\n",
    "\n",
    "softmax_layer = nn.Softmax(dim=1)\n",
    "x = softmax_layer(x)\n",
    "        \n",
    "# validation code\n",
    "print(input_batch.shape)\n",
    "print(x[0].shape)\n",
    "cnt = 0\n",
    "for p in range(sample_data[\"goal_num\"][0]):\n",
    "    cnt += x[0][p]\n",
    "print(cnt)\n"
   ]
  },
  {
   "cell_type": "code",
   "execution_count": null,
   "metadata": {},
   "outputs": [],
   "source": [
    "future_frame = 20\n",
    "motion_network = MLP(in_channels=(2048+2), out_channels=future_frame*3, hidden_unit=128)\n",
    "\n",
    "\n",
    "#input_batch = torch.cat([feature_batch,gt_goal_batch],dim=2) # (64,500,2050)\n",
    "sample_data[\"target_positions\"][:,-1,:2].shape\n"
   ]
  },
  {
   "cell_type": "code",
   "execution_count": null,
   "metadata": {},
   "outputs": [],
   "source": [
    "import torch\n",
    "cost_map = torch.rand([224,224])\n",
    "print(cost_map.shape)\n",
    "\n",
    "import time\n",
    "start = time.time()\n",
    "def max_margin_loss(batch_negative_index, batch_gt_index, cost_map):\n",
    "    cost = 0\n",
    "    for i in range(len(batch_negative_index)):\n",
    "#        dist = sqrt((batch_negative_index[i][0]-batch_gt_index[i][0]))\n",
    "        cost += cost_map[batch_gt_index[i][0]][batch_gt_index[i][1]] - cost_map[batch_negative_index[i][0]][batch_negative_index[i][1]]\n",
    "    return cost\n",
    "    \n",
    "sampled_index = np.round(sampled_positions_pixels,0).astype(int)\n",
    "target_index = np.round(target_positions_pixels,0).astype(int)\n",
    "\n",
    "#print(target_index)\n",
    "print(max_margin_loss(sampled_index, target_index, cost_map))\n",
    "\n",
    "print(\"time: {} s\".format(time.time()-start))"
   ]
  },
  {
   "cell_type": "markdown",
   "metadata": {
    "id": "VjoW9U1au-eN"
   },
   "source": [
    "## What if I want to change the rasterizer?\n",
    "\n",
    "We can do so easily by building a new rasterizer and new dataset for it. In this example, we change the value to `py_satellite` which renders boxes on an aerial image."
   ]
  },
  {
   "cell_type": "code",
   "execution_count": null,
   "metadata": {
    "id": "7PVnOk9Wu-eN"
   },
   "outputs": [],
   "source": [
    "cfg[\"raster_params\"][\"map_type\"] = \"py_semantic\"\n",
    "rast = build_rasterizer(cfg, dm)\n",
    "dataset = EgoDataset(cfg, zarr_dataset, rast)\n",
    "data = dataset[50]\n",
    "\n",
    "im = data[\"image\"].transpose(1, 2, 0)\n",
    "im = dataset.rasterizer.to_rgb(im)\n",
    "target_positions_pixels = transform_points(data[\"target_positions\"], data[\"raster_from_agent\"])\n",
    "draw_trajectory(im, target_positions_pixels, TARGET_POINTS_COLOR, yaws=data[\"target_yaws\"])\n",
    "\n",
    "HISTORY_POINTS_COLOR = (0, 128, 25)\n",
    "target_positions_pixels = transform_points(data[\"history_positions\"], data[\"raster_from_agent\"])\n",
    "draw_trajectory(im, target_positions_pixels, HISTORY_POINTS_COLOR, yaws=data[\"history_yaws\"])\n",
    "\n",
    "plt.imshow(im)\n",
    "plt.show()"
   ]
  },
  {
   "cell_type": "markdown",
   "metadata": {
    "id": "05uDhF5su-eO"
   },
   "source": [
    "## What if I want to visualise an agent?\n",
    "\n",
    "Glad you asked! We can just replace the `EgoDataset` with an `AgentDataset`. Now we're iterating over agents and not the AV anymore, and the first one happens to be the pace car (you will see this one around a lot in the dataset)."
   ]
  },
  {
   "cell_type": "code",
   "execution_count": null,
   "metadata": {
    "id": "ofI0bBXiu-eO"
   },
   "outputs": [],
   "source": [
    "dataset = AgentDataset(cfg, zarr_dataset, rast)\n",
    "data = dataset[0]\n",
    "\n",
    "im = data[\"image\"].transpose(1, 2, 0)\n",
    "im = dataset.rasterizer.to_rgb(im)\n",
    "target_positions_pixels = transform_points(data[\"target_positions\"], data[\"raster_from_agent\"])\n",
    "draw_trajectory(im, target_positions_pixels, TARGET_POINTS_COLOR, yaws=data[\"target_yaws\"])\n",
    "\n",
    "plt.imshow(im)\n",
    "plt.show()"
   ]
  },
  {
   "cell_type": "markdown",
   "metadata": {
    "id": "K27NrgJKu-eO"
   },
   "source": [
    "## System Origin and Orientation\n",
    "\n",
    "~At this point you may have noticed that we vertically flip the image before plotting it.~\n",
    "\n",
    "Vertical flipping is not required anymore as it's already performed inside the rasteriser.\n",
    "\n",
    "\n",
    "Further, all our rotations are counter-clockwise for positive value of the angle."
   ]
  },
  {
   "cell_type": "markdown",
   "metadata": {
    "id": "xVWp27SUu-eO"
   },
   "source": [
    "## How does an entire scene look like?\n",
    "\n",
    "It's easy to visualise an individual scene using our toolkit. Both `EgoDataset` and `AgentDataset` provide 2 methods for getting interesting indices:\n",
    "- `get_frame_indices` returns the indices for a given frame. For the `EgoDataset` this matches a single observation, while more than one index could be available for the `AgentDataset`, as that given frame may contain more than one valid agent\n",
    "- `get_scene_indices` returns indices for a given scene. For both datasets, these might return more than one index\n",
    "\n",
    "In this example, we visualise a scene from the ego's point of view:"
   ]
  },
  {
   "cell_type": "code",
   "execution_count": null,
   "metadata": {
    "id": "MKM_DmM0u-eO"
   },
   "outputs": [],
   "source": [
    "from IPython.display import display, clear_output\n",
    "import PIL\n",
    " \n",
    "cfg[\"raster_params\"][\"map_type\"] = \"py_semantic\"\n",
    "rast = build_rasterizer(cfg, dm)\n",
    "dataset = EgoDataset(cfg, zarr_dataset, rast)\n",
    "scene_idx = 1\n",
    "indexes = dataset.get_scene_indices(scene_idx)\n",
    "images = []\n",
    "\n",
    "for idx in indexes:\n",
    "    \n",
    "    data = dataset[idx]\n",
    "    im = data[\"image\"].transpose(1, 2, 0)\n",
    "    im = dataset.rasterizer.to_rgb(im)\n",
    "    target_positions_pixels = transform_points(data[\"target_positions\"], data[\"raster_from_agent\"])\n",
    "    center_in_pixels = np.asarray(cfg[\"raster_params\"][\"ego_center\"]) * cfg[\"raster_params\"][\"raster_size\"]\n",
    "    draw_trajectory(im, target_positions_pixels, TARGET_POINTS_COLOR, yaws=data[\"target_yaws\"])\n",
    "    clear_output(wait=True)\n",
    "    display(PIL.Image.fromarray(im))"
   ]
  },
  {
   "cell_type": "markdown",
   "metadata": {
    "id": "42dZn5re-HMF"
   },
   "source": [
    "# Introducing a new visualizer\n",
    "starting from l5kit `v1.3.0` you can now use an interactive visualiser (based on Bokeh) to inspect the scene.\n",
    "\n",
    "The visualization can be built starting from individual scenes and allows for a closer inspection over ego, agents and trajectories.\n",
    "\n",
    "`PRO TIP`: try to hover over one agent to show information about it"
   ]
  },
  {
   "cell_type": "code",
   "execution_count": null,
   "metadata": {
    "scrolled": false
   },
   "outputs": [],
   "source": [
    "output_notebook()\n",
    "mapAPI = MapAPI.from_cfg(dm, cfg)\n",
    "for scene_idx in range(10):\n",
    "    out = zarr_to_visualizer_scene(zarr_dataset.get_scene_dataset(scene_idx), mapAPI)\n",
    "    out_vis = visualize(scene_idx, out)\n",
    "    show(out_vis)"
   ]
  }
 ],
 "metadata": {
  "colab": {
   "collapsed_sections": [],
   "name": "Copy of visualise_data.ipynb",
   "provenance": []
  },
  "kernelspec": {
   "display_name": "Python 3 (ipykernel)",
   "language": "python",
   "name": "python3"
  },
  "language_info": {
   "codemirror_mode": {
    "name": "ipython",
    "version": 3
   },
   "file_extension": ".py",
   "mimetype": "text/x-python",
   "name": "python",
   "nbconvert_exporter": "python",
   "pygments_lexer": "ipython3",
   "version": "3.8.13"
  },
  "pycharm": {
   "stem_cell": {
    "cell_type": "raw",
    "metadata": {
     "collapsed": false
    },
    "source": []
   }
  }
 },
 "nbformat": 4,
 "nbformat_minor": 1
}
