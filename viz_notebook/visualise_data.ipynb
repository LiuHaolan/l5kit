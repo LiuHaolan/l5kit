{
 "cells": [
  {
   "cell_type": "markdown",
   "metadata": {
    "id": "swFeGE9Hu-eF"
   },
   "source": [
    "# Visualisation Examples\n",
    "\n",
    "This notebook shows some of the visualisation utility of our toolkit.\n",
    "\n",
    "The core packages for visualisation are:\n",
    "### `rasterization`\n",
    "contains classes for getting visual data as multi-channel tensors and turning them into interpretable RGB images.\n",
    "Every class has at least a `rasterize` method to get the tensor and a `to_rgb` method to convert it into an image.\n",
    "A few examples are:\n",
    "- `BoxRasterizer`: this object renders agents (e.g. vehicles or pedestrians) as oriented 2D boxes\n",
    "- `SatelliteRasterizer`: this object renders an oriented crop from a satellite map\n",
    "\n",
    "### `visualization`\n",
    "contains utilities to draw additional information (e.g. trajectories) onto RGB images. These utilities are commonly used after a `to_rgb` call to add other information to the final visualisation. \n",
    "One example is:\n",
    "- `draw_trajectory`: this function draws 2D trajectories from coordinates and yaws offset on an image\n"
   ]
  },
  {
   "cell_type": "code",
   "execution_count": 1,
   "metadata": {
    "cellView": "form",
    "id": "-2bOYHKU1tw2"
   },
   "outputs": [
    {
     "name": "stdout",
     "output_type": "stream",
     "text": [
      "Not running in Google Colab.\n"
     ]
    }
   ],
   "source": [
    "#@title Download L5 Sample Dataset and install L5Kit\n",
    "import os\n",
    "RunningInCOLAB = 'google.colab' in str(get_ipython())\n",
    "if RunningInCOLAB:\n",
    "    !wget https://raw.githubusercontent.com/lyft/l5kit/master/examples/setup_notebook_colab.sh -q\n",
    "    !sh ./setup_notebook_colab.sh\n",
    "    os.environ[\"L5KIT_DATA_FOLDER\"] = open(\"./dataset_dir.txt\", \"r\").read().strip()\n",
    "else:\n",
    "    os.environ[\"L5KIT_DATA_FOLDER\"] = \"/mnt/scratch/v_liuhaolan/l5kit_data\"\n",
    "    print(\"Not running in Google Colab.\")"
   ]
  },
  {
   "cell_type": "code",
   "execution_count": 2,
   "metadata": {
    "id": "Xkf2xhE7u-eJ"
   },
   "outputs": [],
   "source": [
    "import matplotlib.pyplot as plt\n",
    "\n",
    "import numpy as np\n",
    "\n",
    "from l5kit.data import ChunkedDataset, LocalDataManager\n",
    "from l5kit.dataset import EgoDataset, AgentDataset\n",
    "\n",
    "from l5kit.rasterization import build_rasterizer\n",
    "from l5kit.configs import load_config_data\n",
    "from l5kit.visualization import draw_trajectory, TARGET_POINTS_COLOR\n",
    "from l5kit.geometry import transform_points\n",
    "from tqdm import tqdm\n",
    "from collections import Counter\n",
    "from l5kit.data import PERCEPTION_LABELS\n",
    "from prettytable import PrettyTable\n",
    "\n",
    "import os\n",
    "\n",
    "from l5kit.visualization.visualizer.zarr_utils import zarr_to_visualizer_scene\n",
    "from l5kit.visualization.visualizer.visualizer import visualize\n",
    "from bokeh.io import output_notebook, show\n",
    "from l5kit.data import MapAPI"
   ]
  },
  {
   "cell_type": "markdown",
   "metadata": {
    "id": "sS6kZYksu-eK"
   },
   "source": [
    "### First, let's configure where our data lives!\n",
    "The data is expected to live in a folder that can be configured using the `L5KIT_DATA_FOLDER` env variable. You data folder is expected to contain subfolders for the aerial and semantic maps as well as the scenes (`.zarr` files). \n",
    "In this example, the env variable is set to the local data folder. You should make sure the path points to the correct location for you.\n",
    "\n",
    "We built our code to work with a human-readable `yaml` config. This config file holds much useful information, however, we will only focus on a few functionalities concerning loading and visualization here."
   ]
  },
  {
   "cell_type": "code",
   "execution_count": 3,
   "metadata": {
    "id": "zZwXO7Ybu-eK"
   },
   "outputs": [
    {
     "name": "stdout",
     "output_type": "stream",
     "text": [
      "{'format_version': 4, 'model_params': {'model_architecture': 'resnet50', 'history_num_frames': 0, 'future_num_frames': 20, 'step_time': 0.1, 'render_ego_history': True}, 'raster_params': {'raster_size': [112, 112], 'pixel_size': [0.5, 0.5], 'ego_center': [0.25, 0.5], 'map_type': 'py_semantic', 'satellite_map_key': 'aerial_map/aerial_map.png', 'semantic_map_key': 'semantic_map/semantic_map.pb', 'dataset_meta_key': 'meta.json', 'filter_agents_threshold': 0.5, 'disable_traffic_light_faces': False, 'set_origin_to_bottom': True}, 'val_data_loader': {'key': 'scenes/train_full.zarr', 'batch_size': 64, 'shuffle': True, 'num_workers': 16}}\n"
     ]
    }
   ],
   "source": [
    "# Dataset is assumed to be on the folder specified\n",
    "# in the L5KIT_DATA_FOLDER environment variable\n",
    "\n",
    "# get config\n",
    "cfg = load_config_data(\"./visualization_config.yaml\")\n",
    "print(cfg)"
   ]
  },
  {
   "cell_type": "markdown",
   "metadata": {
    "id": "xfMKTjgEu-eK"
   },
   "source": [
    "### We can look into our current configuration for interesting fields\n",
    "\n",
    "\\- when loaded in python, the `yaml`file is converted into a python `dict`. \n",
    "\n",
    "`raster_params` contains all the information related to the transformation of the 3D world onto an image plane:\n",
    "  - `raster_size`: the image plane size\n",
    "  - `pixel_size`: how many meters correspond to a pixel\n",
    "  - `ego_center`: our raster is centered around an agent, we can move the agent in the image plane with this param\n",
    "  - `map_type`: the rasterizer to be employed. We currently support a satellite-based and a semantic-based one. We will look at the differences further down in this script"
   ]
  },
  {
   "cell_type": "code",
   "execution_count": 4,
   "metadata": {
    "id": "GTu9RRD6u-eL"
   },
   "outputs": [
    {
     "name": "stdout",
     "output_type": "stream",
     "text": [
      "current raster_param:\n",
      "\n",
      "raster_size:[112, 112]\n",
      "pixel_size:[0.5, 0.5]\n",
      "ego_center:[0.25, 0.5]\n",
      "map_type:py_semantic\n",
      "satellite_map_key:aerial_map/aerial_map.png\n",
      "semantic_map_key:semantic_map/semantic_map.pb\n",
      "dataset_meta_key:meta.json\n",
      "filter_agents_threshold:0.5\n",
      "disable_traffic_light_faces:False\n",
      "set_origin_to_bottom:True\n"
     ]
    }
   ],
   "source": [
    "print(f'current raster_param:\\n')\n",
    "for k,v in cfg[\"raster_params\"].items():\n",
    "    print(f\"{k}:{v}\")"
   ]
  },
  {
   "cell_type": "markdown",
   "metadata": {
    "id": "TmvxVhQRu-eL"
   },
   "source": [
    "## Load the data\n",
    "\n",
    "The same config file is also used to load the data. Every split in the data has its own section, and multiple datasets can be used (as a whole or sliced). In this short example we will only use the first dataset from the `sample` set. You can change this by configuring the 'train_data_loader' variable in the config.\n",
    "\n",
    "You may also have noticed that we're building a `LocalDataManager` object. This will resolve relative paths from the config using the `L5KIT_DATA_FOLDER` env variable we have just set."
   ]
  },
  {
   "cell_type": "code",
   "execution_count": 5,
   "metadata": {
    "id": "fSuf-o1fu-eL"
   },
   "outputs": [
    {
     "name": "stdout",
     "output_type": "stream",
     "text": [
      "+------------+------------+------------+---------------+-----------------+----------------------+----------------------+----------------------+---------------------+\n",
      "| Num Scenes | Num Frames | Num Agents | Num TR lights | Total Time (hr) | Avg Frames per Scene | Avg Agents per Frame | Avg Scene Time (sec) | Avg Frame frequency |\n",
      "+------------+------------+------------+---------------+-----------------+----------------------+----------------------+----------------------+---------------------+\n",
      "|   134622   |  33437057  | 2655096629 |   314473872   |      928.68     |        248.38        |        79.41         |        24.83         |        10.00        |\n",
      "+------------+------------+------------+---------------+-----------------+----------------------+----------------------+----------------------+---------------------+\n"
     ]
    }
   ],
   "source": [
    "dm = LocalDataManager()\n",
    "dataset_path = dm.require(cfg[\"val_data_loader\"][\"key\"])\n",
    "zarr_dataset = ChunkedDataset(dataset_path)\n",
    "zarr_dataset.open()\n",
    "print(zarr_dataset)"
   ]
  },
  {
   "cell_type": "markdown",
   "metadata": {
    "id": "LkYsmiX8u-eL"
   },
   "source": [
    "## Working with the raw data\n",
    "\n",
    "`.zarr` files support most of the traditional numpy array operations. In the following cell we iterate over the frames to get a scatter plot of the AV locations:"
   ]
  },
  {
   "cell_type": "code",
   "execution_count": 20,
   "metadata": {
    "id": "zx6X7Hb4u-eL"
   },
   "outputs": [
    {
     "data": {
      "text/plain": [
       "'\\nframes = zarr_dataset.frames\\ncoords = np.zeros((len(frames), 2))\\nfor idx_coord, idx_data in enumerate(tqdm(range(len(frames)), desc=\"getting centroid to plot trajectory\")):\\n    frame = zarr_dataset.frames[idx_data]\\n    coords[idx_coord] = frame[\"ego_translation\"][:2]\\n\\n\\nplt.scatter(coords[:, 0], coords[:, 1], marker=\\'.\\')\\naxes = plt.gca()\\naxes.set_xlim([-2500, 1600])\\naxes.set_ylim([-2500, 1600])\\n'"
      ]
     },
     "execution_count": 20,
     "metadata": {},
     "output_type": "execute_result"
    }
   ],
   "source": [
    "\"\"\"\n",
    "frames = zarr_dataset.frames\n",
    "coords = np.zeros((len(frames), 2))\n",
    "for idx_coord, idx_data in enumerate(tqdm(range(len(frames)), desc=\"getting centroid to plot trajectory\")):\n",
    "    frame = zarr_dataset.frames[idx_data]\n",
    "    coords[idx_coord] = frame[\"ego_translation\"][:2]\n",
    "\n",
    "\n",
    "plt.scatter(coords[:, 0], coords[:, 1], marker='.')\n",
    "axes = plt.gca()\n",
    "axes.set_xlim([-2500, 1600])\n",
    "axes.set_ylim([-2500, 1600])\n",
    "\"\"\""
   ]
  },
  {
   "cell_type": "markdown",
   "metadata": {
    "id": "zG5NNUtNu-eM"
   },
   "source": [
    "Another easy thing to try is to get an idea of the agents types distribution. \n",
    "\n",
    "We can get all the agents `label_probabilities` and get the argmax for each raw. because `.zarr` files map to numpy array we can use all the traditional numpy operations and functions."
   ]
  },
  {
   "cell_type": "code",
   "execution_count": 21,
   "metadata": {
    "id": "s31SlObxu-eM"
   },
   "outputs": [
    {
     "data": {
      "text/plain": [
       "'\\nagents = zarr_dataset.agents\\nprobabilities = agents[\"label_probabilities\"]\\nlabels_indexes = np.argmax(probabilities, axis=1)\\ncounts = []\\nfor idx_label, label in enumerate(PERCEPTION_LABELS):\\n    counts.append(np.sum(labels_indexes == idx_label))\\n    \\ntable = PrettyTable(field_names=[\"label\", \"counts\"])\\nfor count, label in zip(counts, PERCEPTION_LABELS):\\n    table.add_row([label, count])\\nprint(table)\\n'"
      ]
     },
     "execution_count": 21,
     "metadata": {},
     "output_type": "execute_result"
    }
   ],
   "source": [
    "\"\"\"\n",
    "agents = zarr_dataset.agents\n",
    "probabilities = agents[\"label_probabilities\"]\n",
    "labels_indexes = np.argmax(probabilities, axis=1)\n",
    "counts = []\n",
    "for idx_label, label in enumerate(PERCEPTION_LABELS):\n",
    "    counts.append(np.sum(labels_indexes == idx_label))\n",
    "    \n",
    "table = PrettyTable(field_names=[\"label\", \"counts\"])\n",
    "for count, label in zip(counts, PERCEPTION_LABELS):\n",
    "    table.add_row([label, count])\n",
    "print(table)\n",
    "\"\"\""
   ]
  },
  {
   "cell_type": "markdown",
   "metadata": {
    "id": "1ug64ia6u-eM"
   },
   "source": [
    "## Working with data abstraction\n",
    "\n",
    "Even though it's absolutely fine to work with the raw data, we also provide classes that abstract data access to offer an easier way to generate inputs and targets.\n",
    "\n",
    "### Core Objects\n",
    "Along with the `rasterizer`, our toolkit contains other classes you may want to use while you build your solution. The `dataset` package, for example, already implements `PyTorch` ready datasets, so you can hit the ground running and start coding immediately.\n",
    "\n",
    "### Dataset package\n",
    "We will use two classes from the `dataset` package for this example. Both of them can be iterated and return multi-channel images from the rasterizer along with future trajectories offsets and other information.\n",
    "- `EgoDataset`: this dataset iterates over the AV annotations\n",
    "- `AgentDataset`: this dataset iterates over other agents annotations\n",
    "\n",
    "Both support multi-threading (through PyTorch DataLoader) OOB."
   ]
  },
  {
   "cell_type": "code",
   "execution_count": 14,
   "metadata": {
    "id": "EeyavHW5u-eM"
   },
   "outputs": [],
   "source": [
    "rast = build_rasterizer(cfg, dm)\n",
    "dataset = EgoDataset(cfg, zarr_dataset, rast)"
   ]
  },
  {
   "cell_type": "markdown",
   "metadata": {
    "id": "D2lFtn-zu-eN"
   },
   "source": [
    "## What if I want to visualise the Autonomous Vehicle (AV)?\n",
    "\n",
    "Let's get a sample from the dataset and use our `rasterizer` to get an RGB image we can plot. \n",
    "\n",
    "If we want to plot the ground truth trajectory, we can convert the dataset's `target_position` (displacements in meters in agent coordinates) into pixel coordinates in the image space, and call our utility function `draw_trajectory` (note that you can use this function for the predicted trajectories, as well)."
   ]
  },
  {
   "cell_type": "code",
   "execution_count": 23,
   "metadata": {},
   "outputs": [
    {
     "name": "stdout",
     "output_type": "stream",
     "text": [
      "[     248      497      746 ... 33436561 33436809 33437057]\n"
     ]
    }
   ],
   "source": [
    "print(dataset.cumulative_sizes)"
   ]
  },
  {
   "cell_type": "code",
   "execution_count": 15,
   "metadata": {
    "id": "mvAlKr8Vu-eN"
   },
   "outputs": [
    {
     "data": {
      "image/png": "[encoded data removed]",
      "text/plain": [
       "<Figure size 432x288 with 1 Axes>"
      ]
     },
     "metadata": {
      "needs_background": "light"
     },
     "output_type": "display_data"
    }
   ],
   "source": [
    "cfg[\"raster_params\"][\"map_type\"] = \"py_semantic\"\n",
    "rast = build_rasterizer(cfg, dm)\n",
    "dataset = EgoDataset(cfg, zarr_dataset, rast)\n",
    "\n",
    "#print(len(dataset))\n",
    "\n",
    "data = dataset[14500]\n",
    "\n",
    "#im = data[\"image\"].transpose(1, 2, 0)\n",
    "im = data[\"image\"].transpose(1,2,0)\n",
    "im = dataset.rasterizer.to_rgb(im)\n",
    "\n",
    "#target_positions_pixels = transform_points(data[\"target_positions\"], data[\"raster_from_agent\"])\n",
    "#draw_trajectory(im, target_positions_pixels, TARGET_POINTS_COLOR, yaws=data[\"target_yaws\"])\n",
    "\n",
    "# how to solve the \"raster from agent\" prediction?\n",
    "\n",
    "#history_positions_pixels = transform_points(data[\"history_positions\"], data[\"raster_from_agent\"])\n",
    "#print(data[\"history_positions\"])\n",
    "#draw_trajectory(im, data[\"negative_positions_pixels\"], TARGET_POINTS_COLOR, yaws=data[\"target_yaws\"])\n",
    "\n",
    "\n",
    "#print(data[\"target_positions\"])\n",
    "\n",
    "\n",
    "#print(data[\"target_positions\"])\n",
    "target_positions_pixels = transform_points(data[\"target_positions\"], data[\"raster_from_agent\"])\n",
    "draw_trajectory(im, target_positions_pixels, TARGET_POINTS_COLOR, yaws=data[\"target_yaws\"])\n",
    "\n",
    "\"\"\"\n",
    "# build the trajectory sampling function\n",
    "def sample_traj(history_traj, shooting_delta):\n",
    "    res_traj = history_traj.copy()\n",
    "    delta = -0.05\n",
    "    for i in range(len(history_traj)):\n",
    "        delta = delta + shooting_delta\n",
    "        res_traj[i][1] -= delta\n",
    "    return res_traj\n",
    "\n",
    "# we can adjust the shooting_delta to query different sample trajectories\n",
    "sampled_positions_maps = sample_traj(data[\"target_positions\"], shooting_delta = 0.3)\n",
    "\n",
    "#print(sampled_positions_maps)\n",
    "sampled_positions_pixels = transform_points(sampled_positions_maps, data[\"raster_from_agent\"])\n",
    "\n",
    "draw_trajectory(im, sampled_positions_pixels, TARGET_POINTS_COLOR, yaws=data[\"target_yaws\"])\n",
    "\"\"\"\n",
    "plt.imshow(im)\n",
    "plt.show()\n",
    "\n",
    "#print(np.round(sampled_positions_pixels,0))\n",
    "\n"
   ]
  },
  {
   "cell_type": "code",
   "execution_count": 25,
   "metadata": {},
   "outputs": [
    {
     "name": "stdout",
     "output_type": "stream",
     "text": [
      "[80 56]\n"
     ]
    }
   ],
   "source": [
    "#gt_goal_positions_pixels = transform_point((data[\"target_positions\"][-1,:2]), data[\"raster_from_agent\"])\n",
    "#print(gt_goal_positions_pixels)\n",
    "#xy = (data[\"goal_list\"]-gt_goal_positions_pixels)\n",
    "#xyz\n",
    "\n",
    "#print(np.argmax(np.linalg.norm(xy, axis=-1)))\n",
    "#print(data[\"goal_gt\"])\n",
    "import torch\n",
    "from torch import nn\n",
    "a = torch.rand(64,500)\n",
    "b = torch.ones(64, dtype=torch.long)\n",
    "\n",
    "loss = nn.NLLLoss(reduction='none')(a,b)[:4]\n",
    "#print(loss.shape)\n",
    "\n",
    "print(data[\"goal_list\"][data[\"goal_gt\"]])"
   ]
  },
  {
   "cell_type": "code",
   "execution_count": 26,
   "metadata": {},
   "outputs": [
    {
     "ename": "NameError",
     "evalue": "name 'lane_indices' is not defined",
     "output_type": "error",
     "traceback": [
      "\u001b[0;31m---------------------------------------------------------------------------\u001b[0m",
      "\u001b[0;31mNameError\u001b[0m                                 Traceback (most recent call last)",
      "Input \u001b[0;32mIn [26]\u001b[0m, in \u001b[0;36m<cell line: 1>\u001b[0;34m()\u001b[0m\n\u001b[0;32m----> 1\u001b[0m \u001b[43mlane_indices\u001b[49m\n",
      "\u001b[0;31mNameError\u001b[0m: name 'lane_indices' is not defined"
     ]
    }
   ],
   "source": []
  },
  {
   "cell_type": "code",
   "execution_count": 8,
   "metadata": {},
   "outputs": [
    {
     "name": "stdout",
     "output_type": "stream",
     "text": [
      "[  72  121  131  420  464  529  547  639  880  889  981 1067 1071 1099\n",
      " 1112 1115 1202 1308 1336 1418 1469 1536 1694 1714 1722 1869 1933 2159\n",
      " 2181 2299 2494 2529 2601 2849 2946 3017 3049 3070 3077 3205 3233 3274\n",
      " 3362 3609 3655 3740 3809 3897 3941 4209 4220 4255 4311 4354 4369 4404\n",
      " 4585 4851 4861 4947 5013 5146 5382 5597 5690 5702 5852 6076 6090 6134\n",
      " 6159 6171 6193 6215 6376 6516 6614 6711 6746 6758 6805 6910 6989 7134\n",
      " 7226 7311 7321 7359 7442 7650 7686 7832 7964 8094 8213 8222 8296 8449]\n",
      "224\n",
      "142\n"
     ]
    },
    {
     "data": {
      "image/png": "[encoded data removed]",
      "text/plain": [
       "<Figure size 432x288 with 1 Axes>"
      ]
     },
     "metadata": {
      "needs_background": "light"
     },
     "output_type": "display_data"
    }
   ],
   "source": [
    "# rerendering the semantic map in the image space\n",
    "\n",
    "import cv2\n",
    "from l5kit.rasterization.semantic_rasterizer import indices_in_bounds\n",
    "from l5kit.geometry import rotation33_as_yaw, transform_point, transform_points\n",
    "from l5kit.data.map_api import InterpolationMethod, MapAPI, TLFacesColors\n",
    "\n",
    "from collections import defaultdict\n",
    "from enum import IntEnum\n",
    "from typing import Dict, List, Optional\n",
    "\n",
    "img = 255 * np.ones(shape=(rast.raster_size[1], rast.raster_size[0], 3), dtype=np.uint8)\n",
    "\n",
    "data = dataset[4515]\n",
    "\n",
    "\n",
    "\n",
    "current_positions_pixels = transform_points(data[\"history_positions\"], data[\"raster_from_agent\"])[-1]\n",
    "\n",
    "#cv2.circle(img, (int(current_positions_pixels[0]),int(current_positions_pixels[1])), radius=3, color=(0, 0, 255), thickness=-1)\n",
    "\n",
    "\n",
    "raster_from_world = data[\"raster_from_world\"]\n",
    "world_from_raster = np.linalg.inv(raster_from_world)\n",
    "#print(raster_from_world)\n",
    "\n",
    "raster_radius = float(np.linalg.norm(rast.raster_size * rast.pixel_size)) / 4\n",
    "#raster_radius = 0\n",
    "\n",
    "center_in_raster_px = np.asarray(rast.raster_size) * (0.25, 0.5)\n",
    "center_in_world = transform_point(center_in_raster_px, world_from_raster)\n",
    "#print(center_in_world)\n",
    "lane_indices = indices_in_bounds(center_in_world, rast.sem_rast.mapAPI.bounds_info[\"lanes\"][\"bounds\"], raster_radius)\n",
    "\n",
    "#lane_indices = lane_indices[0:1]\n",
    "print(lane_indices)\n",
    "\n",
    "\n",
    "CV2_SUB_VALUES = {\"shift\": 9, \"lineType\": cv2.LINE_AA}\n",
    "CV2_SHIFT_VALUE = 2 ** CV2_SUB_VALUES[\"shift\"]\n",
    "\n",
    "\n",
    "\n",
    "class RasterEls(IntEnum):  # map elements\n",
    "    LANE_NOTL = 0\n",
    "    ROAD = 1\n",
    "    CROSSWALK = 2\n",
    "    \n",
    "COLORS = {\n",
    "    TLFacesColors.GREEN.name: (0, 255, 0),\n",
    "    TLFacesColors.RED.name: (255, 0, 0),\n",
    "    TLFacesColors.YELLOW.name: (255, 255, 0),\n",
    "    RasterEls.LANE_NOTL.name: (255, 217, 82),\n",
    "    RasterEls.ROAD.name: (17, 17, 31),\n",
    "    RasterEls.CROSSWALK.name: (255, 117, 69),\n",
    "}\n",
    "    \n",
    "def cv2_subpixel(coords: np.ndarray) -> np.ndarray:\n",
    "    \"\"\"\n",
    "    Cast coordinates to numpy.int but keep fractional part by previously multiplying by 2**CV2_SHIFT\n",
    "    cv2 calls will use shift to restore original values with higher precision\n",
    "    Args:\n",
    "        coords (np.ndarray): XY coords as float\n",
    "    Returns:\n",
    "        np.ndarray: XY coords as int for cv2 shift draw\n",
    "    \"\"\"\n",
    "    coords = coords * CV2_SHIFT_VALUE\n",
    "    coords = coords.astype(np.int)\n",
    "    return coords    \n",
    "\n",
    "# TB Tested\n",
    "INTERPOLATION_POINTS = 20\n",
    "lanes_mask: Dict[str, np.ndarray] = defaultdict(lambda: np.zeros(len(lane_indices) * 2, dtype=np.bool))\n",
    "lanes_area = np.zeros((len(lane_indices) * 2, INTERPOLATION_POINTS, 2))\n",
    "\n",
    "\n",
    "self = rast.sem_rast\n",
    "\n",
    "\n",
    "\n",
    "\n",
    "for idx, lane_idx in enumerate(lane_indices):\n",
    "    lane_idx = self.mapAPI.bounds_info[\"lanes\"][\"ids\"][lane_idx]\n",
    "\n",
    "    lane_dict = self.mapAPI.get_lane_coords(lane_idx)\n",
    "    xyz_left = lane_dict[\"xyz_left\"][:,:2]\n",
    "    xyz_right = lane_dict[\"xyz_right\"][:,:2]\n",
    "#    print(xyz_left.shape)\n",
    " \n",
    "    lane_coords = self.mapAPI.get_lane_as_interpolation(\n",
    "        lane_idx, INTERPOLATION_POINTS, InterpolationMethod.INTER_ENSURE_LEN\n",
    "    )\n",
    "    # interpolate over polyline to always have the same number of points\n",
    "#    print(lane_coords[\"xyz_left\"].shape)\n",
    "    lanes_area[idx * 2] = lane_coords[\"xyz_left\"][:, :2]\n",
    "    lanes_area[idx * 2 + 1] = lane_coords[\"xyz_right\"][::-1, :2]\n",
    "\n",
    "    lane_type = RasterEls.LANE_NOTL.name\n",
    "#    lane_tl_ids = set(self.mapAPI.get_lane_traffic_control_ids(lane_idx))\n",
    "#    for tl_id in lane_tl_ids.intersection(active_tl_ids):\n",
    "#        lane_type = self.mapAPI.get_color_for_face(tl_id)\n",
    "\n",
    "    lanes_mask[lane_type][idx * 2: idx * 2 + 2] = True\n",
    "\n",
    "    \n",
    "\n",
    "def goalGen(map_api, lane_indices, current_pixels, raster_from_world):\n",
    "    centerline_area = []\n",
    "    \n",
    "    for idx, lane_idx in enumerate(lane_indices):\n",
    "        lane_idx = map_api.bounds_info[\"lanes\"][\"ids\"][lane_idx]\n",
    "\n",
    "        lane_dict = map_api.get_lane_coords(lane_idx)\n",
    "\n",
    "        xyz_left = lane_dict[\"xyz_left\"]\n",
    "        xyz_right = lane_dict[\"xyz_right\"]\n",
    "\n",
    "        mid_steps = 3\n",
    "        xyz_left = self.mapAPI.interpolate(xyz_left, mid_steps, InterpolationMethod.INTER_METER)\n",
    "        xyz_right = self.mapAPI.interpolate(xyz_right, mid_steps, InterpolationMethod.INTER_METER)\n",
    "        if (xyz_left).shape[0] < (xyz_right).shape[0]:\n",
    "            xyz_right = xyz_right[:(xyz_left).shape[0]]\n",
    "\n",
    "        if (xyz_left).shape[0] > (xyz_right).shape[0]:\n",
    "            xyz_left = xyz_left[:(xyz_right).shape[0]]\n",
    "\n",
    "        xyz_center = (xyz_left+xyz_right)/2\n",
    "        xyz_center = xyz_center[:,:2]\n",
    "        # get_lane_as_interpolation is stateful function\n",
    "        # use stateless interpolate instead\n",
    "\n",
    "        # if the distance is bigger than TARGET_THRESHOLD\n",
    "        from math import sqrt\n",
    "        TARGET_THRESHOLD = 3\n",
    "\n",
    "        for p in xyz_center:\n",
    "            valid = True\n",
    "            for q in centerline_area:\n",
    "                d = q-p\n",
    "                dist = sqrt((d[0]*d[0]+d[1]*d[1]))\n",
    "                if dist < TARGET_THRESHOLD:\n",
    "                    valid = False\n",
    "\n",
    "            if valid:\n",
    "                centerline_area.append(p)   \n",
    "\n",
    "\n",
    "    print(len(centerline_area))\n",
    "    tmp_area = centerline_area\n",
    "    centerline_area = []\n",
    "\n",
    "    # traverse the centerline_area to filter\n",
    "    for k in tmp_area:\n",
    "        xy_points = (transform_point(k, raster_from_world))\n",
    "        if current_pixels[0] < xy_points[0] :\n",
    "            centerline_area.append(k)\n",
    "    \n",
    "    print(len(centerline_area))\n",
    "    return centerline_area\n",
    "\n",
    "centerline_area = goalGen(self.mapAPI, lane_indices, current_positions_pixels, raster_from_world)\n",
    "\n",
    "\n",
    "\n",
    "# reserve 200 points? \n",
    "\n",
    "   \n",
    "if len(lanes_area):\n",
    "    lanes_area = cv2_subpixel(transform_points(lanes_area.reshape((-1, 2)), raster_from_world))\n",
    "\n",
    "#    for lane_area in lanes_area.reshape((-1, INTERPOLATION_POINTS * 2, 2)):\n",
    "        # need to for-loop otherwise some of them are empty\n",
    "#        cv2.fillPoly(img, [lane_area], COLORS[RasterEls.ROAD.name], **CV2_SUB_VALUES)\n",
    "\n",
    "    lanes_area = lanes_area.reshape((-1, INTERPOLATION_POINTS, 2))\n",
    "    for name, mask in lanes_mask.items():  # draw each type of lane with its own color\n",
    "        cv2.polylines(img, lanes_area[mask], False, COLORS[name], **CV2_SUB_VALUES)\n",
    "\n",
    "#xy_points = (data[\"goal_list\"][data[\"goal_gt\"]])\n",
    "#        print(xy_points)\n",
    "#cv2.circle(img, (int(xy_points[0]),int(xy_points[1])), radius=3, color=(0, 0, 255), thickness=-1)\n",
    "\n",
    "for k in centerline_area:\n",
    "#        print(j)\n",
    "    xy_points = (transform_point(k, raster_from_world))\n",
    "#        print(xy_points)\n",
    "    cv2.circle(img, (int(xy_points[0]),int(xy_points[1])), radius=1, color=(255, 0, 0), thickness=-1)\n",
    "\n",
    "plt.imshow(img)\n",
    "plt.show()"
   ]
  },
  {
   "cell_type": "code",
   "execution_count": 63,
   "metadata": {},
   "outputs": [
    {
     "name": "stdout",
     "output_type": "stream",
     "text": [
      "[  72  121  131  420  464  529  547  639  880  889  981 1067 1071 1099\n",
      " 1112 1115 1202 1308 1336 1418 1469 1536 1694 1714 1722 1869 1933 2159\n",
      " 2181 2299 2494 2529 2601 2849 2946 3017 3049 3070 3077 3205 3233 3274\n",
      " 3362 3609 3655 3740 3809 3897 3941 4209 4220 4255 4311 4354 4369 4404\n",
      " 4585 4851 4861 4947 5013 5146 5382 5597 5690 5702 5852 6076 6090 6134\n",
      " 6159 6171 6193 6215 6376 6516 6614 6711 6746 6758 6805 6910 6989 7134\n",
      " 7226 7311 7321 7359 7442 7650 7686 7832 7964 8094 8213 8222 8296 8449]\n",
      "142\n"
     ]
    },
    {
     "data": {
      "image/png": "[encoded data removed]",
      "text/plain": [
       "<Figure size 432x288 with 1 Axes>"
      ]
     },
     "metadata": {
      "needs_background": "light"
     },
     "output_type": "display_data"
    }
   ],
   "source": [
    "# rerendering the semantic map in the image space\n",
    "\n",
    "import cv2\n",
    "from l5kit.rasterization.semantic_rasterizer import indices_in_bounds\n",
    "from l5kit.geometry import rotation33_as_yaw, transform_point, transform_points\n",
    "from l5kit.data.map_api import InterpolationMethod, MapAPI, TLFacesColors\n",
    "\n",
    "from collections import defaultdict\n",
    "from enum import IntEnum\n",
    "from typing import Dict, List, Optional\n",
    "\n",
    "img = 255 * np.ones(shape=(rast.raster_size[1], rast.raster_size[0], 3), dtype=np.uint8)\n",
    "\n",
    "data = dataset[4515]\n",
    "\n",
    "\n",
    "current_positions_pixels = transform_points(data[\"history_positions\"], data[\"raster_from_agent\"])[-1]\n",
    "\n",
    "#cv2.circle(img, (int(current_positions_pixels[0]),int(current_positions_pixels[1])), radius=3, color=(0, 0, 255), thickness=-1)\n",
    "\n",
    "\n",
    "raster_from_world = data[\"raster_from_world\"]\n",
    "world_from_raster = np.linalg.inv(raster_from_world)\n",
    "#print(raster_from_world)\n",
    "\n",
    "raster_radius = float(np.linalg.norm(rast.raster_size * rast.pixel_size)) / 2\n",
    "#raster_radius = 0\n",
    "\n",
    "center_in_raster_px = np.asarray(rast.raster_size) * (0.25, 0.5)\n",
    "center_in_world = transform_point(center_in_raster_px, world_from_raster)\n",
    "#print(center_in_world)\n",
    "lane_indices = indices_in_bounds(center_in_world, rast.sem_rast.mapAPI.bounds_info[\"lanes\"][\"bounds\"], raster_radius)\n",
    "\n",
    "#lane_indices = lane_indices[0:1]\n",
    "print(lane_indices)\n",
    "\n",
    "\n",
    "CV2_SUB_VALUES = {\"shift\": 9, \"lineType\": cv2.LINE_AA}\n",
    "CV2_SHIFT_VALUE = 2 ** CV2_SUB_VALUES[\"shift\"]\n",
    "\n",
    "\n",
    "\n",
    "class RasterEls(IntEnum):  # map elements\n",
    "    LANE_NOTL = 0\n",
    "    ROAD = 1\n",
    "    CROSSWALK = 2\n",
    "    \n",
    "COLORS = {\n",
    "    TLFacesColors.GREEN.name: (0, 255, 0),\n",
    "    TLFacesColors.RED.name: (255, 0, 0),\n",
    "    TLFacesColors.YELLOW.name: (255, 255, 0),\n",
    "    RasterEls.LANE_NOTL.name: (255, 217, 82),\n",
    "    RasterEls.ROAD.name: (17, 17, 31),\n",
    "    RasterEls.CROSSWALK.name: (255, 117, 69),\n",
    "}\n",
    "    \n",
    "def cv2_subpixel(coords: np.ndarray) -> np.ndarray:\n",
    "    \"\"\"\n",
    "    Cast coordinates to numpy.int but keep fractional part by previously multiplying by 2**CV2_SHIFT\n",
    "    cv2 calls will use shift to restore original values with higher precision\n",
    "    Args:\n",
    "        coords (np.ndarray): XY coords as float\n",
    "    Returns:\n",
    "        np.ndarray: XY coords as int for cv2 shift draw\n",
    "    \"\"\"\n",
    "    coords = coords * CV2_SHIFT_VALUE\n",
    "    coords = coords.astype(np.int)\n",
    "    return coords    \n",
    "\n",
    "# TB Tested\n",
    "INTERPOLATION_POINTS = 20\n",
    "lanes_mask: Dict[str, np.ndarray] = defaultdict(lambda: np.zeros(len(lane_indices) * 2, dtype=np.bool))\n",
    "lanes_area = np.zeros((len(lane_indices) * 2, INTERPOLATION_POINTS, 2))\n",
    "\n",
    "\n",
    "self = rast.sem_rast\n",
    "\n",
    "centerline_area = []\n",
    "\n",
    "\n",
    "\n",
    "for idx, lane_idx in enumerate(lane_indices):\n",
    "    lane_idx = self.mapAPI.bounds_info[\"lanes\"][\"ids\"][lane_idx]\n",
    "\n",
    "    lane_dict = self.mapAPI.get_lane_coords(lane_idx)\n",
    "    xyz_left = lane_dict[\"xyz_left\"][:,:2]\n",
    "    xyz_right = lane_dict[\"xyz_right\"][:,:2]\n",
    "#    print(xyz_left.shape)\n",
    " \n",
    "    lane_coords = self.mapAPI.get_lane_as_interpolation(\n",
    "        lane_idx, INTERPOLATION_POINTS, InterpolationMethod.INTER_ENSURE_LEN\n",
    "    )\n",
    "    # interpolate over polyline to always have the same number of points\n",
    "#    print(lane_coords[\"xyz_left\"].shape)\n",
    "    lanes_area[idx * 2] = lane_coords[\"xyz_left\"][:, :2]\n",
    "    lanes_area[idx * 2 + 1] = lane_coords[\"xyz_right\"][::-1, :2]\n",
    "\n",
    "    lane_type = RasterEls.LANE_NOTL.name\n",
    "#    lane_tl_ids = set(self.mapAPI.get_lane_traffic_control_ids(lane_idx))\n",
    "#    for tl_id in lane_tl_ids.intersection(active_tl_ids):\n",
    "#        lane_type = self.mapAPI.get_color_for_face(tl_id)\n",
    "\n",
    "    lanes_mask[lane_type][idx * 2: idx * 2 + 2] = True\n",
    "\n",
    "    \n",
    "\n",
    "\n",
    "\n",
    "for idx, lane_idx in enumerate(lane_indices):\n",
    "    lane_idx = self.mapAPI.bounds_info[\"lanes\"][\"ids\"][lane_idx]\n",
    " #   print(lane_idx)\n",
    "    \n",
    "    lane_dict = self.mapAPI.get_lane_coords(lane_idx)\n",
    "    \n",
    "    xyz_left = lane_dict[\"xyz_left\"]\n",
    "    xyz_right = lane_dict[\"xyz_right\"]\n",
    "    \n",
    "#    print(len(xyz_left))\n",
    "#    for i in range(len(xyz_left)):\n",
    "#        xy_points = (transform_point(xyz_left[i][:2], raster_from_world))\n",
    "#        cv2.circle(img, (int(xy_points[0]),int(xy_points[1])), radius=1, color=(0, 0, 255), thickness=-1)\n",
    "    \n",
    "#    for i in range(len(xyz_right)):\n",
    "#        xy_points = (transform_point(xyz_right[i][:2], raster_from_world))\n",
    "#        cv2.circle(img, (int(xy_points[0]),int(xy_points[1])), radius=1, color=(0, 0, 255), thickness=-1)\n",
    "    mid_steps = 3\n",
    "    xyz_left = self.mapAPI.interpolate(xyz_left, mid_steps, InterpolationMethod.INTER_METER)\n",
    "    xyz_right = self.mapAPI.interpolate(xyz_right, mid_steps, InterpolationMethod.INTER_METER)\n",
    "    if (xyz_left).shape[0] < (xyz_right).shape[0]:\n",
    "        xyz_right = xyz_right[:(xyz_left).shape[0]]\n",
    "     \n",
    "    if (xyz_left).shape[0] > (xyz_right).shape[0]:\n",
    "        xyz_left = xyz_left[:(xyz_right).shape[0]]\n",
    "    \n",
    "    xyz_center = (xyz_left+xyz_right)/2\n",
    "    \n",
    "    \n",
    "#    xyz_center = self.mapAPI.interpolate(xyz_center, mid_steps, InterpolationMethod.INTER_METER)\n",
    "    xyz_center = xyz_center[:,:2]\n",
    "    # get_lane_as_interpolation is stateful function\n",
    "    # use stateless interpolate instead\n",
    "    \n",
    "    # if the distance is bigger than TARGET_THRESHOLD\n",
    "    from math import sqrt\n",
    "    TARGET_THRESHOLD = 3\n",
    "    \n",
    "    for p in xyz_center:\n",
    "        valid = True\n",
    "        for q in centerline_area:\n",
    "            d = q-p\n",
    "            dist = sqrt((d[0]*d[0]+d[1]*d[1]))\n",
    "            if dist < TARGET_THRESHOLD:\n",
    "                valid = False\n",
    "\n",
    "        if valid:\n",
    "            centerline_area.append(p)   \n",
    "        \n",
    "        \n",
    "tmp_area = centerline_area\n",
    "centerline_area = []\n",
    "# traverse the centerline_area to filter\n",
    "for k in tmp_area:\n",
    "#        print(j)\n",
    "        xy_points = (transform_point(k, raster_from_world))\n",
    "        if current_positions_pixels[0] < xy_points[0] :\n",
    "            centerline_area.append(k)\n",
    "#        print(xy_points)\n",
    "\n",
    "\n",
    "print(len(centerline_area))\n",
    "\n",
    "# reserve 200 points? \n",
    "\n",
    "   \n",
    "if len(lanes_area):\n",
    "    lanes_area = cv2_subpixel(transform_points(lanes_area.reshape((-1, 2)), raster_from_world))\n",
    "\n",
    "#    for lane_area in lanes_area.reshape((-1, INTERPOLATION_POINTS * 2, 2)):\n",
    "        # need to for-loop otherwise some of them are empty\n",
    "#        cv2.fillPoly(img, [lane_area], COLORS[RasterEls.ROAD.name], **CV2_SUB_VALUES)\n",
    "\n",
    "    lanes_area = lanes_area.reshape((-1, INTERPOLATION_POINTS, 2))\n",
    "    for name, mask in lanes_mask.items():  # draw each type of lane with its own color\n",
    "        cv2.polylines(img, lanes_area[mask], False, COLORS[name], **CV2_SUB_VALUES)\n",
    "\n",
    "#xy_points = (data[\"goal_list\"][data[\"goal_gt\"]])\n",
    "#        print(xy_points)\n",
    "#cv2.circle(img, (int(xy_points[0]),int(xy_points[1])), radius=3, color=(0, 0, 255), thickness=-1)\n",
    "\n",
    "for k in centerline_area:\n",
    "#        print(j)\n",
    "        xy_points = (transform_point(k, raster_from_world))\n",
    "#        print(xy_points)\n",
    "        cv2.circle(img, (int(xy_points[0]),int(xy_points[1])), radius=1, color=(255, 0, 0), thickness=-1)\n",
    "\n",
    "plt.imshow(img)\n",
    "plt.show()"
   ]
  },
  {
   "cell_type": "code",
   "execution_count": 12,
   "metadata": {},
   "outputs": [
    {
     "data": {
      "text/plain": [
       "(1, 2)"
      ]
     },
     "execution_count": 12,
     "metadata": {},
     "output_type": "execute_result"
    }
   ],
   "source": [
    "data[\"history_positions\"].shape\n"
   ]
  },
  {
   "cell_type": "code",
   "execution_count": 64,
   "metadata": {},
   "outputs": [],
   "source": [
    "#MAP_LAYERS = [\"junction\", \"node\", \"segment\", \"lane\"]\n",
    "\n",
    "\n",
    "def element_of_type(elem, layer_name):\n",
    "    return elem.element.HasField(layer_name)\n",
    "\n",
    "\n",
    "def get_elements_from_layer(map_api, layer_name):\n",
    "    return [elem for elem in map_api.elements if element_of_type(elem, layer_name)]\n",
    "\n",
    "all_lanes = get_elements_from_layer(rast.sem_rast.mapAPI, \"lane\")\n",
    "all_lane_dict = {}\n",
    "\n",
    "for lane in all_lanes:\n",
    "    all_lane_dict[rast.sem_rast.mapAPI.id_as_str(lane.id)] = lane\n",
    "\n",
    "    \n",
    "#print(all_lane_dict.keys())\n",
    "#print(all_lane_dict[rast.sem_rast.mapAPI.id_as_str(7098)])\n",
    "#print(all_lanes[10].element.lane.adjacent_lane_change_left)"
   ]
  },
  {
   "cell_type": "code",
   "execution_count": 16,
   "metadata": {},
   "outputs": [
    {
     "name": "stdout",
     "output_type": "stream",
     "text": [
      "89\n"
     ]
    },
    {
     "data": {
      "image/png": "[encoded data removed]",
      "text/plain": [
       "<Figure size 432x288 with 1 Axes>"
      ]
     },
     "metadata": {
      "needs_background": "light"
     },
     "output_type": "display_data"
    }
   ],
   "source": [
    "# validation code\n",
    "import cv2\n",
    "centerline_area = data[\"goal_list\"]\n",
    "for k in centerline_area:\n",
    "#        print(j)\n",
    "#        xy_points = (transform_point(k, raster_from_world))\n",
    "#        print(xy_points)\n",
    "    cv2.circle(im, (int(k[0]),int(k[1])), radius=1, color=(255, 0, 0), thickness=-1)\n",
    "print(len(centerline_area))\n",
    "plt.imshow(im)\n",
    "plt.show()"
   ]
  },
  {
   "cell_type": "code",
   "execution_count": null,
   "metadata": {},
   "outputs": [],
   "source": [
    "import time\n",
    "start = time.time()\n",
    "target_matrix=np.zeros((len(data[\"goal_list\"]),2),dtype=int)\n",
    "for k in range(len(data[\"goal_list\"])):\n",
    "#        print(j)\n",
    "#        xy_points = (transform_point(k, raster_from_world))\n",
    "#        print(xy_points)\n",
    "    target_matrix[k,:] = np.array([int(data[\"goal_list\"][k][0]),int(data[\"goal_list\"][k][1])])\n",
    "print(\"time: {} s\".format(time.time()-start))   "
   ]
  },
  {
   "cell_type": "code",
   "execution_count": 9,
   "metadata": {},
   "outputs": [
    {
     "name": "stdout",
     "output_type": "stream",
     "text": [
      "64\n"
     ]
    },
    {
     "name": "stderr",
     "output_type": "stream",
     "text": [
      "/mnt/home/v_liuhaolan/miniconda3/envs/testenv/lib/python3.8/site-packages/torch/utils/data/dataloader.py:487: UserWarning: This DataLoader will create 16 worker processes in total. Our suggested max number of worker in current system is 2, which is smaller than what this DataLoader is going to create. Please be aware that excessive worker creation might get DataLoader running slow or even freeze, lower the worker number to avoid potential slowness/freeze if necessary.\n",
      "  warnings.warn(_create_warning_msg(\n"
     ]
    }
   ],
   "source": [
    "\n",
    "\n",
    "from torch.utils.data import DataLoader\n",
    "\n",
    "#print(cfg)\n",
    "train_cfg = cfg[\"val_data_loader\"]\n",
    "print(train_cfg[\"batch_size\"])\n",
    "train_dataloader = DataLoader(dataset, shuffle=train_cfg[\"shuffle\"], batch_size=train_cfg[\"batch_size\"], \n",
    "                             num_workers=train_cfg[\"num_workers\"])\n",
    "\n",
    "#target_mlp = MLP(in_channels=(2048+2), out_channels=1, hidden_unit=128)\n",
    "#goal_tensor = torch.tensor(target_matrix)\n",
    "\n",
    "# adding a training test to validate our idea!\n"
   ]
  },
  {
   "cell_type": "code",
   "execution_count": 10,
   "metadata": {},
   "outputs": [
    {
     "name": "stdout",
     "output_type": "stream",
     "text": [
      "torch.Size([64, 89, 2])\n"
     ]
    }
   ],
   "source": [
    "sample_data = next(iter(train_dataloader))\n",
    "# torch.Size([64, 500, 2])"
   ]
  },
  {
   "cell_type": "code",
   "execution_count": 11,
   "metadata": {},
   "outputs": [
    {
     "name": "stdout",
     "output_type": "stream",
     "text": [
      "torch.Size([64, 1, 2])\n"
     ]
    }
   ],
   "source": [
    "print(sample_data[\"history_positions\"].shape)  \n"
   ]
  },
  {
   "cell_type": "code",
   "execution_count": null,
   "metadata": {},
   "outputs": [],
   "source": [
    "import torch\n",
    "from torch import nn\n",
    "\n",
    "goal_batch = sample_data[\"goal_list\"]\n",
    "target_mlp = MLP(in_channels=(2048+2), out_channels=1, hidden_unit=128)\n",
    "\n",
    "feature_batch = torch.rand((64,2048))\n",
    "feature_batch=feature_batch.unsqueeze(1).repeat(1,500,1)\n",
    "input_batch = torch.cat([feature_batch,goal_batch],dim=2)\n",
    "\n",
    "x = target_mlp(input_batch).squeeze(dim=2)\n",
    "\n",
    "#mask invalid part\n",
    "for batch_num in range(x.shape[0]):\n",
    "    x[batch_num][sample_data[\"goal_num\"][batch_num]:] = -float(\"inf\")\n",
    "\n",
    "softmax_layer = nn.Softmax(dim=1)\n",
    "x = softmax_layer(x)\n",
    "        \n",
    "# validation code\n",
    "print(input_batch.shape)\n",
    "print(x[0].shape)\n",
    "cnt = 0\n",
    "for p in range(sample_data[\"goal_num\"][0]):\n",
    "    cnt += x[0][p]\n",
    "print(cnt)\n"
   ]
  },
  {
   "cell_type": "code",
   "execution_count": null,
   "metadata": {},
   "outputs": [],
   "source": [
    "future_frame = 20\n",
    "motion_network = MLP(in_channels=(2048+2), out_channels=future_frame*3, hidden_unit=128)\n",
    "\n",
    "\n",
    "#input_batch = torch.cat([feature_batch,gt_goal_batch],dim=2) # (64,500,2050)\n",
    "sample_data[\"target_positions\"][:,-1,:2].shape\n"
   ]
  },
  {
   "cell_type": "code",
   "execution_count": null,
   "metadata": {},
   "outputs": [],
   "source": [
    "import torch\n",
    "cost_map = torch.rand([224,224])\n",
    "print(cost_map.shape)\n",
    "\n",
    "import time\n",
    "start = time.time()\n",
    "def max_margin_loss(batch_negative_index, batch_gt_index, cost_map):\n",
    "    cost = 0\n",
    "    for i in range(len(batch_negative_index)):\n",
    "#        dist = sqrt((batch_negative_index[i][0]-batch_gt_index[i][0]))\n",
    "        cost += cost_map[batch_gt_index[i][0]][batch_gt_index[i][1]] - cost_map[batch_negative_index[i][0]][batch_negative_index[i][1]]\n",
    "    return cost\n",
    "    \n",
    "sampled_index = np.round(sampled_positions_pixels,0).astype(int)\n",
    "target_index = np.round(target_positions_pixels,0).astype(int)\n",
    "\n",
    "#print(target_index)\n",
    "print(max_margin_loss(sampled_index, target_index, cost_map))\n",
    "\n",
    "print(\"time: {} s\".format(time.time()-start))"
   ]
  },
  {
   "cell_type": "markdown",
   "metadata": {
    "id": "VjoW9U1au-eN"
   },
   "source": [
    "## What if I want to change the rasterizer?\n",
    "\n",
    "We can do so easily by building a new rasterizer and new dataset for it. In this example, we change the value to `py_satellite` which renders boxes on an aerial image."
   ]
  },
  {
   "cell_type": "code",
   "execution_count": null,
   "metadata": {
    "id": "7PVnOk9Wu-eN"
   },
   "outputs": [],
   "source": [
    "cfg[\"raster_params\"][\"map_type\"] = \"py_semantic\"\n",
    "rast = build_rasterizer(cfg, dm)\n",
    "dataset = EgoDataset(cfg, zarr_dataset, rast)\n",
    "data = dataset[50]\n",
    "\n",
    "im = data[\"image\"].transpose(1, 2, 0)\n",
    "im = dataset.rasterizer.to_rgb(im)\n",
    "target_positions_pixels = transform_points(data[\"target_positions\"], data[\"raster_from_agent\"])\n",
    "draw_trajectory(im, target_positions_pixels, TARGET_POINTS_COLOR, yaws=data[\"target_yaws\"])\n",
    "\n",
    "HISTORY_POINTS_COLOR = (0, 128, 25)\n",
    "target_positions_pixels = transform_points(data[\"history_positions\"], data[\"raster_from_agent\"])\n",
    "draw_trajectory(im, target_positions_pixels, HISTORY_POINTS_COLOR, yaws=data[\"history_yaws\"])\n",
    "\n",
    "plt.imshow(im)\n",
    "plt.show()"
   ]
  },
  {
   "cell_type": "markdown",
   "metadata": {
    "id": "05uDhF5su-eO"
   },
   "source": [
    "## What if I want to visualise an agent?\n",
    "\n",
    "Glad you asked! We can just replace the `EgoDataset` with an `AgentDataset`. Now we're iterating over agents and not the AV anymore, and the first one happens to be the pace car (you will see this one around a lot in the dataset)."
   ]
  },
  {
   "cell_type": "code",
   "execution_count": null,
   "metadata": {
    "id": "ofI0bBXiu-eO"
   },
   "outputs": [],
   "source": [
    "dataset = AgentDataset(cfg, zarr_dataset, rast)\n",
    "data = dataset[0]\n",
    "\n",
    "im = data[\"image\"].transpose(1, 2, 0)\n",
    "im = dataset.rasterizer.to_rgb(im)\n",
    "target_positions_pixels = transform_points(data[\"target_positions\"], data[\"raster_from_agent\"])\n",
    "draw_trajectory(im, target_positions_pixels, TARGET_POINTS_COLOR, yaws=data[\"target_yaws\"])\n",
    "\n",
    "plt.imshow(im)\n",
    "plt.show()"
   ]
  },
  {
   "cell_type": "markdown",
   "metadata": {
    "id": "K27NrgJKu-eO"
   },
   "source": [
    "## System Origin and Orientation\n",
    "\n",
    "~At this point you may have noticed that we vertically flip the image before plotting it.~\n",
    "\n",
    "Vertical flipping is not required anymore as it's already performed inside the rasteriser.\n",
    "\n",
    "\n",
    "Further, all our rotations are counter-clockwise for positive value of the angle."
   ]
  },
  {
   "cell_type": "markdown",
   "metadata": {
    "id": "xVWp27SUu-eO"
   },
   "source": [
    "## How does an entire scene look like?\n",
    "\n",
    "It's easy to visualise an individual scene using our toolkit. Both `EgoDataset` and `AgentDataset` provide 2 methods for getting interesting indices:\n",
    "- `get_frame_indices` returns the indices for a given frame. For the `EgoDataset` this matches a single observation, while more than one index could be available for the `AgentDataset`, as that given frame may contain more than one valid agent\n",
    "- `get_scene_indices` returns indices for a given scene. For both datasets, these might return more than one index\n",
    "\n",
    "In this example, we visualise a scene from the ego's point of view:"
   ]
  },
  {
   "cell_type": "code",
   "execution_count": null,
   "metadata": {
    "id": "MKM_DmM0u-eO"
   },
   "outputs": [],
   "source": [
    "from IPython.display import display, clear_output\n",
    "import PIL\n",
    " \n",
    "cfg[\"raster_params\"][\"map_type\"] = \"py_semantic\"\n",
    "rast = build_rasterizer(cfg, dm)\n",
    "dataset = EgoDataset(cfg, zarr_dataset, rast)\n",
    "scene_idx = 1\n",
    "indexes = dataset.get_scene_indices(scene_idx)\n",
    "images = []\n",
    "\n",
    "for idx in indexes:\n",
    "    \n",
    "    data = dataset[idx]\n",
    "    im = data[\"image\"].transpose(1, 2, 0)\n",
    "    im = dataset.rasterizer.to_rgb(im)\n",
    "    target_positions_pixels = transform_points(data[\"target_positions\"], data[\"raster_from_agent\"])\n",
    "    center_in_pixels = np.asarray(cfg[\"raster_params\"][\"ego_center\"]) * cfg[\"raster_params\"][\"raster_size\"]\n",
    "    draw_trajectory(im, target_positions_pixels, TARGET_POINTS_COLOR, yaws=data[\"target_yaws\"])\n",
    "    clear_output(wait=True)\n",
    "    display(PIL.Image.fromarray(im))"
   ]
  },
  {
   "cell_type": "markdown",
   "metadata": {
    "id": "42dZn5re-HMF"
   },
   "source": [
    "# Introducing a new visualizer\n",
    "starting from l5kit `v1.3.0` you can now use an interactive visualiser (based on Bokeh) to inspect the scene.\n",
    "\n",
    "The visualization can be built starting from individual scenes and allows for a closer inspection over ego, agents and trajectories.\n",
    "\n",
    "`PRO TIP`: try to hover over one agent to show information about it"
   ]
  },
  {
   "cell_type": "code",
   "execution_count": null,
   "metadata": {
    "scrolled": false
   },
   "outputs": [],
   "source": [
    "output_notebook()\n",
    "mapAPI = MapAPI.from_cfg(dm, cfg)\n",
    "for scene_idx in range(10):\n",
    "    out = zarr_to_visualizer_scene(zarr_dataset.get_scene_dataset(scene_idx), mapAPI)\n",
    "    out_vis = visualize(scene_idx, out)\n",
    "    show(out_vis)"
   ]
  }
 ],
 "metadata": {
  "colab": {
   "collapsed_sections": [],
   "name": "Copy of visualise_data.ipynb",
   "provenance": []
  },
  "kernelspec": {
   "display_name": "Python 3 (ipykernel)",
   "language": "python",
   "name": "python3"
  },
  "language_info": {
   "codemirror_mode": {
    "name": "ipython",
    "version": 3
   },
   "file_extension": ".py",
   "mimetype": "text/x-python",
   "name": "python",
   "nbconvert_exporter": "python",
   "pygments_lexer": "ipython3",
   "version": "3.8.13"
  },
  "pycharm": {
   "stem_cell": {
    "cell_type": "raw",
    "metadata": {
     "collapsed": false
    },
    "source": []
   }
  }
 },
 "nbformat": 4,
 "nbformat_minor": 1
}
