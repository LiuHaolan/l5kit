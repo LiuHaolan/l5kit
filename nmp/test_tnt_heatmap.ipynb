{
 "cells": [
  {
   "cell_type": "markdown",
   "metadata": {},
   "source": [
    "# Closed-Loop Evaluation\n",
    "In this notebook you are going to evaluate a CNN-based policy to control the SDV with a protocol named *closed-loop* evaluation.\n",
    "\n",
    "**Note: this notebook assumes you've already run the [training notebook](./train.ipynb) and stored your model successfully.**\n",
    "\n",
    "## What is closed-loop evaluation?\n",
    "In closed-loop evaluation the model is in **full control of the SDV**. At each time step, we predict the future trajectory and then move the AV to the first of the model's predictions. \n",
    "\n",
    "We refer to this process with the terms **forward-simulate** or **unroll**.\n",
    "\n",
    "![closed-loop](../../docs/images/planning/closed-loop.svg)\n",
    "\n",
    "\n",
    "## What can we use closed-loop evaluation for?\n",
    "Closed-loop is crucial to asses a model's capabilities before deploying it in the real world. **Ideally, we would test the model on the road in the real world**. However, this is clearly very expensive and scales poorly. Forward-simulation is an attempt to evaluate the system in a setting which is as close as possible to a real road test on the same route.\n",
    "\n",
    "Differently from open-loop, the model is now in full control of the SDV and predictions are used to compute the future location of the SDV.\n",
    "\n",
    "## Is closed-loop evaluation enough?\n",
    "Closed-loop evaluation is an important step forward towards evaluating how our policy would perform on the road. However, it still has some limitations.\n",
    "\n",
    "The critical one is the **non-reactivity of other traffic participants**. In fact, while the SDV is now controlled by our policy, other actors are still being replayed from the original log. In this setting, a chasing car will not slow down if our policy choses a different speed profile for the SDV, resulting in a rear collision that wouldn't obviously occur in the real world.\n",
    "\n",
    "For this reason, closed-loop evaluation is only accurate for the first few seconds of forward simulation. This can be mitigated when enough data exists for the task."
   ]
  },
  {
   "cell_type": "markdown",
   "metadata": {},
   "source": [
    "### Imports"
   ]
  },
  {
   "cell_type": "code",
   "execution_count": null,
   "metadata": {},
   "outputs": [],
   "source": [
    "import matplotlib.pyplot as plt\n",
    "import numpy as np\n",
    "import torch\n",
    "from prettytable import PrettyTable\n",
    "\n",
    "from l5kit.configs import load_config_data\n",
    "from l5kit.data import LocalDataManager, ChunkedDataset\n",
    "from l5kit.dataset import EgoDataset\n",
    "from l5kit.rasterization import build_rasterizer\n",
    "\n",
    "from l5kit.simulation.dataset import SimulationConfig\n",
    "from l5kit.simulation.unroll import ClosedLoopSimulator\n",
    "from l5kit.cle.closed_loop_evaluator import ClosedLoopEvaluator, EvaluationPlan\n",
    "from l5kit.cle.metrics import (CollisionFrontMetric, CollisionRearMetric, CollisionSideMetric,\n",
    "                               DisplacementErrorL2Metric, DistanceToRefTrajectoryMetric)\n",
    "from l5kit.cle.validators import RangeValidator, ValidationCountingAggregator\n",
    "\n",
    "from l5kit.visualization.visualizer.zarr_utils import simulation_out_to_visualizer_scene\n",
    "from l5kit.visualization.visualizer.visualizer import visualize\n",
    "from bokeh.io import output_notebook, show\n",
    "from l5kit.data import MapAPI\n",
    "\n",
    "from collections import defaultdict\n",
    "import os"
   ]
  },
  {
   "cell_type": "markdown",
   "metadata": {},
   "source": [
    "## Prepare data path and load cfg\n",
    "\n",
    "By setting the `L5KIT_DATA_FOLDER` variable, we can point the script to the folder where the data lies.\n",
    "\n",
    "Then, we load our config file with relative paths and other configurations (rasteriser, training params...)."
   ]
  },
  {
   "cell_type": "code",
   "execution_count": null,
   "metadata": {},
   "outputs": [],
   "source": [
    "# set env variable for data\n",
    "os.environ[\"L5KIT_DATA_FOLDER\"] = \"/mnt/scratch/v_liuhaolan/l5kit_data\"\n",
    "dm = LocalDataManager(None)\n",
    "# get config\n",
    "cfg = load_config_data(\"./goal-config.yaml\")\n",
    "print(cfg)\n",
    "#cfg = load_config_data(\"./nmp-config.yaml\")"
   ]
  },
  {
   "cell_type": "code",
   "execution_count": null,
   "metadata": {},
   "outputs": [],
   "source": [
    "!echo $PWD"
   ]
  },
  {
   "cell_type": "code",
   "execution_count": null,
   "metadata": {},
   "outputs": [],
   "source": [
    "\n",
    "#model_path = \"/mnt/home/v_liuhaolan/haolan/l5kit/lyft_model/planning_model_20201208.pt\"\n",
    "#model_path = \"/mnt/home/v_liuhaolan/haolan/l5kit/nmp/planning_goalmap_focal_1_40000.pt\"\n",
    "#model_path = \"/mnt/home/v_liuhaolan/haolan/l5kit/nmp/ckpt/planning_1_augmented_fixed.pt\"\n",
    "#model_path = \"/mnt/home/v_liuhaolan/haolan/l5kit/nmp/gaussian/balanced/planning_goalmap_4_5000.pt\"\n",
    "#model_path=\"/mnt/home/v_liuhaolan/haolan/l5kit/nmp/gaussian/new/planning_0_15000_mse_weighted_lr4.pt\"\n",
    "\n",
    "#model_path=\"/mnt/home/v_liuhaolan/haolan/l5kit/nmp/gaussian/new/planning_2_5000_mse_weighted_lr4.pt\" # pretty good!\n",
    "#planning_0_20000_mse_weighted_lr4.pt\" # a model that drives a bit aggressive \n",
    "model_path=\"/mnt/home/v_liuhaolan/haolan/l5kit/nmp/gaussian/new/planning_0_35000_mse_balanced.pt\"\n",
    "#model_path=\"/mnt/home/v_liuhaolan/haolan/l5kit/nmp/gaussian/new/planning_1_20000_mse_weighted_0.4.pt\"\n",
    "#model_path=\"/mnt/home/v_liuhaolan/haolan/l5kit/nmp/gaussian/optimized/planning_goalmap_balanced_0_20000.pt\"\n",
    "import torch\n",
    "device = torch.device(\"cuda:0\" if torch.cuda.is_available() else \"cpu\")\n",
    "\n",
    "\n",
    "\n",
    "import sys\n",
    "from torch import nn\n",
    "sys.path.insert(0, '/mnt/home/v_liuhaolan/haolan/l5kit/nmp')\n",
    "rasterizer = build_rasterizer(cfg, dm)\n",
    "\n",
    "from model.goal_map import RasterizedGaussianGoalMapWithUNet\n",
    "model = RasterizedGaussianGoalMapWithUNet(\n",
    "        model_arch=\"resnet50\",#cfg[\"model_params\"][\"model_architecture\"],\n",
    "        num_input_channels=rasterizer.num_channels(),\n",
    "        num_targets=3 * cfg[\"model_params\"][\"future_num_frames\"],  # X, Y, Yaw * number of future states,\n",
    "        weights_scaling= [1., 1., 1.],\n",
    "#        criterion=nn.L1Loss(reduction=\"none\")\n",
    "         criterion=torch.nn.HuberLoss(reduction=\"none\"),\n",
    "        # num_history = (cfg[\"model_params\"][\"history_num_frames\"] + 1)*2 ,\n",
    "        num_mlp_hidden = 64\n",
    "        )\n",
    "\n",
    "\"\"\"\n",
    "from model.goal_map import RasterizedGaussianGoalMapWithUNet\n",
    "model = RasterizedGaussianGoalMapWithUNet(\n",
    "        model_arch=\"resnet50\",#cfg[\"model_params\"][\"model_architecture\"],\n",
    "        num_input_channels=rasterizer.num_channels(),\n",
    "        num_targets=3 * cfg[\"model_params\"][\"future_num_frames\"],  # X, Y, Yaw * number of future states,\n",
    "        weights_scaling= [1., 1., 1.],\n",
    "#        criterion=nn.L1Loss(reduction=\"none\")\n",
    "         criterion=torch.nn.HuberLoss(reduction=\"none\"),\n",
    "        # num_history = (cfg[\"model_params\"][\"history_num_frames\"] + 1)*2 ,\n",
    "        num_mlp_hidden = 64\n",
    "        )\n",
    "\n",
    "\n",
    "\n",
    "\n",
    "model_path = \"/mnt/home/v_liuhaolan/haolan/l5kit/nmp/planning_goalmap_0_100_early_stopping.pt\"\n",
    "\n",
    "from model.goal_map import RasterizedGoalMapAdaptive\n",
    "model = RasterizedGoalMapAdaptive(\n",
    "        model_arch=\"unet\",\n",
    "        num_input_channels=rasterizer.num_channels(),\n",
    "        num_targets=3 * cfg[\"model_params\"][\"future_num_frames\"],  # X, Y, Yaw * number of future states,\n",
    "        weights_scaling= [1., 1., 1.],\n",
    "#        criterion=nn.L1Loss(reduction=\"none\")\n",
    "         criterion=torch.nn.HuberLoss(reduction=\"none\"),\n",
    "        # num_history = (cfg[\"model_params\"][\"history_num_frames\"] + 1)*2 ,\n",
    "        num_mlp_hidden = 64\n",
    "        )\n",
    "\n",
    "#from l5kit.planning.rasterized.model import RasterizedPlanningModel\n",
    "from model.models import RasterizedImitationModel\n",
    "model = RasterizedImitationModel(\n",
    "        model_arch=\"resnet50\",\n",
    "        num_input_channels=rasterizer.num_channels(),\n",
    "        num_targets=3 * cfg[\"model_params\"][\"future_num_frames\"],  # X, Y, Yaw * number of future states,\n",
    "        weights_scaling= [1., 1., 1.],\n",
    "        criterion=nn.L1Loss(reduction=\"none\")\n",
    "#         criterion=torch.nn.HuberLoss(reduction=\"none\"),\n",
    "        )\n",
    "\n",
    "\n",
    "\n",
    "\n",
    "\n",
    "from model.models import RasterizedGoalPlanning\n",
    "model = RasterizedGoalPlanning(\n",
    "        model_arch=\"resnet50\",\n",
    "        num_input_channels=rasterizer.num_channels(),\n",
    "        num_targets=3 * cfg[\"model_params\"][\"future_num_frames\"],  # X, Y, Yaw * number of future states,\n",
    "        weights_scaling= [1., 1., 1.],\n",
    "#        criterion=nn.L1Loss(reduction=\"none\")\n",
    "         criterion=torch.nn.HuberLoss(reduction=\"none\"),\n",
    "        num_history = (cfg[\"model_params\"][\"history_num_frames\"] + 1)*2 ,\n",
    "        num_mlp_hidden = 64\n",
    ")\n",
    "\n",
    "from model.models import RasterizedTNT\n",
    "model = RasterizedTNT(\n",
    "        model_arch=\"resnet50\",\n",
    "        num_input_channels=rasterizer.num_channels(),\n",
    "        num_targets=3 * cfg[\"model_params\"][\"future_num_frames\"],  # X, Y, Yaw * number of future states,\n",
    "        weights_scaling= [1., 1., 1.],\n",
    "#        criterion=nn.L1Loss(reduction=\"none\")\n",
    "         criterion=torch.nn.HuberLoss(reduction=\"none\"),\n",
    "        num_mlp_hidden = 128\n",
    "        )\n",
    "\n",
    "from model.models import RasterizedImitationModel\n",
    "model = RasterizedImitationModel(\n",
    "        model_arch=\"resnet50\",\n",
    "        num_input_channels=rasterizer.num_channels(),\n",
    "        num_targets=3 * cfg[\"model_params\"][\"future_num_frames\"],  # X, Y, Yaw * number of future states,\n",
    "        weights_scaling= [1., 1., 1.],\n",
    "        criterion=nn.L1Loss(reduction=\"none\")\n",
    "        )\n",
    "\n",
    "\n",
    "from model.models import RasterizedTNTWithHistory\n",
    "model = RasterizedTNTWithHistory(\n",
    "        model_arch=\"resnet50\",\n",
    "        num_input_channels=rasterizer.num_channels(),\n",
    "        num_targets=3 * cfg[\"model_params\"][\"future_num_frames\"],  # X, Y, Yaw * number of future states,\n",
    "        weights_scaling= [1., 1., 1.],\n",
    "#        criterion=nn.L1Loss(reduction=\"none\")\n",
    "         criterion=torch.nn.HuberLoss(reduction=\"none\"),\n",
    "        num_mlp_hidden = 128\n",
    "        )\n",
    "\"\"\"\n",
    "#model = torch.load(model_path)\n",
    "model.load_state_dict(torch.load(model_path))\n",
    "\n",
    "\n",
    "#model = torch.load(model_path)\n",
    "model = model.to(device)\n",
    "model = model.eval()\n",
    "torch.set_grad_enabled(False)\n",
    "\n",
    "print(model)"
   ]
  },
  {
   "cell_type": "code",
   "execution_count": null,
   "metadata": {},
   "outputs": [],
   "source": []
  },
  {
   "cell_type": "markdown",
   "metadata": {},
   "source": [
    "## Load the model"
   ]
  },
  {
   "cell_type": "code",
   "execution_count": null,
   "metadata": {
    "scrolled": true
   },
   "outputs": [],
   "source": []
  },
  {
   "cell_type": "code",
   "execution_count": null,
   "metadata": {},
   "outputs": [],
   "source": [
    "from l5kit.kinematic import AckermanPerturbation\n",
    "from l5kit.random import GaussianRandomGenerator\n",
    "\n",
    "from l5kit.geometry import transform_points\n",
    "from l5kit.visualization import TARGET_POINTS_COLOR, draw_trajectory\n",
    "\n",
    "mean = np.array([0.0, 0.0, 0.0])  # lateral, longitudinal and angular\n",
    "std = np.array([0.5, 1.5, np.pi / 6])\n",
    "\n",
    "#mean = np.array([0.0, 0.0, 1.0])  # lateral, longitudinal and angular\n",
    "#std = np.array([0.5, 3.5, np.pi / 6])\n",
    "\n",
    "perturb_prob = cfg[\"train_data_loader\"][\"perturb_probability\"]\n",
    "\n",
    "\n",
    "perturbation = AckermanPerturbation(\n",
    "        random_offset_generator=GaussianRandomGenerator(mean=mean, std=std), perturb_prob=perturb_prob)\n",
    "\n",
    "\n",
    "\n",
    "# rasterisation and perturbation\n",
    "rasterizer = build_rasterizer(cfg, dm)\n",
    "\n",
    "# ===== INIT DATASET\n",
    "\n",
    "#eval_cfg = cfg[\"train_data_loader\"]\n",
    "eval_cfg = cfg[\"val_data_loader\"]\n",
    "\n",
    "rasterizer = build_rasterizer(cfg, dm)\n",
    "eval_zarr = ChunkedDataset(dm.require(eval_cfg[\"key\"])).open()\n",
    "eval_dataset = EgoDataset(cfg, eval_zarr, rasterizer)\n",
    "print(eval_dataset)\n",
    "\n",
    "\n",
    "\n",
    "# before leaving, ensure perturb_prob is correct\n",
    "perturbation.perturb_prob = perturb_prob\n",
    "print(perturb_prob)"
   ]
  },
  {
   "cell_type": "code",
   "execution_count": null,
   "metadata": {},
   "outputs": [],
   "source": [
    "from l5kit.kinematic import AckermanPerturbation\n",
    "from l5kit.random import GaussianRandomGenerator\n",
    "\n",
    "from l5kit.geometry import transform_points\n",
    "from l5kit.visualization import TARGET_POINTS_COLOR, draw_trajectory\n",
    "\n",
    "mean = np.array([0.0, 0.0, 0.0])  # lateral, longitudinal and angular\n",
    "std = np.array([1.5, 1.5, np.pi / 6])\n",
    "\n",
    "#mean = np.array([0.0, 0.0, 1.0])  # lateral, longitudinal and angular\n",
    "#std = np.array([0.5, 3.5, np.pi / 6])\n",
    "\n",
    "perturb_prob = 1\n",
    "\n",
    "perturbation = AckermanPerturbation(\n",
    "        random_offset_generator=GaussianRandomGenerator(mean=mean, std=std), perturb_prob=perturb_prob)\n",
    "\n",
    "\n",
    "\n",
    "# rasterisation and perturbation\n",
    "rasterizer = build_rasterizer(cfg, dm)\n",
    "\n",
    "# ===== INIT DATASET\n",
    "\n",
    "#eval_cfg = cfg[\"train_data_loader\"]\n",
    "train_cfg = cfg[\"train_data_loader\"]\n",
    "\n",
    "rasterizer = build_rasterizer(cfg, dm)\n",
    "train_zarr = ChunkedDataset(dm.require(train_cfg[\"key\"])).open()\n",
    "train_dataset = EgoDataset(cfg, train_zarr, rasterizer)#, perturbation=perturbation)\n",
    "print(train_dataset)\n",
    "\n",
    "\n",
    "\n",
    "# before leaving, ensure perturb_prob is correct\n",
    "perturbation.perturb_prob = perturb_prob\n",
    "print(perturb_prob)"
   ]
  },
  {
   "cell_type": "code",
   "execution_count": null,
   "metadata": {},
   "outputs": [],
   "source": [
    "# Create an input tensor image for your model..\n",
    "\"\"\"\n",
    "im_ego = rasterizer.to_rgb(data_ego[\"image\"].transpose(1, 2, 0))\n",
    "print(data_ego[\"image\"].shape)\n",
    "target_positions = transform_points(data_ego[\"target_positions\"], data_ego[\"raster_from_agent\"])\n",
    "draw_trajectory(im_ego, target_positions, TARGET_POINTS_COLOR)\n",
    "plt.imshow(im_ego)\n",
    "plt.axis('off')\n",
    "plt.show()\n",
    "\"\"\""
   ]
  },
  {
   "cell_type": "code",
   "execution_count": null,
   "metadata": {},
   "outputs": [],
   "source": [
    "\"\"\"\n",
    "\n",
    "for j in range(0,20000, 8000):\n",
    "    # plot same example with and without perturbation\n",
    "    for perturbation_value in [1, 0]:\n",
    "        perturbation.perturb_prob = perturbation_value\n",
    "\n",
    "        data_ego = eval_dataset[j]\n",
    "        im_ego = rasterizer.to_rgb(data_ego[\"image\"].transpose(1, 2, 0))\n",
    "        print(data_ego[\"image\"].shape)\n",
    "        target_positions = transform_points(data_ego[\"target_positions\"], data_ego[\"raster_from_agent\"])\n",
    "        draw_trajectory(im_ego, target_positions, TARGET_POINTS_COLOR)\n",
    "        plt.imshow(im_ego)\n",
    "        plt.axis('off')\n",
    "        plt.show()\n",
    "\n",
    "# before leaving, ensure perturb_prob is correct\n",
    "perturbation.perturb_prob = perturb_prob\n",
    "\n",
    "\"\"\""
   ]
  },
  {
   "cell_type": "code",
   "execution_count": null,
   "metadata": {},
   "outputs": [],
   "source": [
    "\n",
    "\n",
    "from torch.utils.data import DataLoader\n",
    "\n",
    "eval_dataloader = DataLoader(eval_dataset, shuffle=True, batch_size=16)\n",
    "#eval_dataloader = DataLoader(train_dataset, shuffle=True, batch_size=16)\n",
    "\n",
    "\n",
    "data_ego = next(iter(eval_dataloader))\n",
    "\n",
    "#print(data_ego)\n",
    "\n",
    "print(data_ego[\"image\"][0].shape)\n",
    "\n",
    "evice = (\"cuda:0\")\n",
    "data_ego_cuda = {k: v.to(device) for k, v in data_ego.items()}\n",
    "\n",
    "model.eval()\n",
    "traj = model(data_ego_cuda)\n",
    "#print(traj['positions'])\n",
    "\n",
    "im_ego = rasterizer.to_rgb((data_ego[\"image\"][0]).numpy().transpose(1, 2, 0))\n",
    "target_positions = transform_points(data_ego[\"target_positions\"][0].numpy(), data_ego[\"raster_from_agent\"][0].numpy())\n",
    "\n",
    "# weird hack\n",
    "im_ego = np.ascontiguousarray(im_ego, dtype=np.uint8)\n",
    "\n",
    "#draw_trajectory(im_ego, target_positions, TARGET_POINTS_COLOR)\n",
    "target_positions = transform_points(traj['positions'].cpu().numpy(), data_ego[\"raster_from_agent\"][0].numpy())\n",
    "\n",
    "#draw_trajectory(im_ego, (target_positions).astype(np.uint8), TARGET_POINTS_COLOR)\n",
    "\n",
    "#target_positions_pixels = transform_points(data[\"target_positions\"], data[\"raster_from_agent\"])\n",
    "\n",
    "import cv2\n",
    "xy_points = data_ego[\"goal_pixel\"][0]\n",
    "cv2.circle(im_ego, (int(xy_points[0]),int(xy_points[1])), radius=1, color=(255,0,0))\n",
    "\n",
    "print(xy_points)\n",
    "\n",
    "plt.imshow(im_ego)\n",
    "plt.axis('off')\n",
    "plt.show()\n"
   ]
  },
  {
   "cell_type": "code",
   "execution_count": null,
   "metadata": {
    "scrolled": true
   },
   "outputs": [],
   "source": [
    "# grid heatmap\n",
    "#heatmap = traj[\"heatmap\"][0].view(11,28).cpu().numpy()\n",
    "heatmap = traj[\"heatmap\"][0].view(112,112).cpu().numpy()\n",
    "\n",
    "\n",
    "plt.imshow(heatmap, cmap='hot')\n",
    "\n",
    "plt.show()\n",
    "\n",
    "heatmap = traj[\"heatmap\"][0][28:84,28:84].view(56,56).cpu().numpy()\n",
    "\n",
    "\n",
    "plt.imshow(heatmap, cmap='hot')\n",
    "\n",
    "plt.show()\n"
   ]
  },
  {
   "cell_type": "code",
   "execution_count": null,
   "metadata": {},
   "outputs": [],
   "source": [
    "# grid heatmap full\n",
    "heatmap = traj[\"heatmap\"][0].view(112,112).cpu().numpy()\n",
    "\n",
    "plt.imshow(heatmap, cmap='hot')\n",
    "pg = traj[\"predicted_goal\"][0]\n",
    "print(pg)\n",
    "plt.show()"
   ]
  },
  {
   "cell_type": "code",
   "execution_count": null,
   "metadata": {},
   "outputs": [],
   "source": [
    "#heatmap = data_ego[\"gt_heatmap_full\"][0].view(112,112).cpu().numpy()\n",
    "\n",
    "import torch\n",
    "def gaussian_tensor(xL, yL, H, W, device, sigma=5):\n",
    "\n",
    "    #channel = torch.zeros((H*W), dtype=torch.float)#.to(\"cuda:0\")\n",
    "    x = torch.arange(H).view(H,1).repeat(1,W).to(device)\n",
    "    y = torch.arange(W).repeat(H,1).to(device)\n",
    "    channel = torch.exp((-((x - xL) ** 2 + (y - yL) ** 2) / (2 * sigma ** 2)))\n",
    "\n",
    "    channel = channel.reshape(H, W)\n",
    "\n",
    "    return channel\n",
    "\n",
    "def batch_gaussian_tensor(xL, yL, H, W, device, sigma=5 ):\n",
    "\n",
    " #channel = torch.zeros((H*W), dtype=torch.float)#.to(\"cuda:0\")\n",
    "    batch_size = xL.shape[0]\n",
    "    channel = torch.zeros(batch_size, H, W).to(device)\n",
    "\n",
    "    x = torch.arange(H).view(H,1).repeat(1,W).to(device)\n",
    "    y = torch.arange(W).repeat(H,1).to(device)\n",
    "    \n",
    "    for i in range(batch_size):\n",
    "        channel[i] = torch.exp((-((x - xL[i]) ** 2 + (y - yL[i]) ** 2) / (2 * sigma ** 2)))\n",
    "\n",
    "    channel = channel.reshape(batch_size, H, W)\n",
    "\n",
    "    return channel\n",
    "\n",
    "\n",
    "gt_goal_positions_pixels = data_ego[\"goal_pixel\"]\n",
    "\n",
    "#print(gt_goal_positions_pixels)\n",
    "gt_goal_positions_pixels = gt_goal_positions_pixels.to(\"cuda:0\")\n",
    "\n",
    "from time import time\n",
    "start = time()\n",
    "heatmap = batch_gaussian_tensor(gt_goal_positions_pixels[:,1], gt_goal_positions_pixels[:,0], 112, 112,sigma=2,device=\"cuda:0\")\n",
    "print(time()-start)\n",
    "\n",
    "heatmap = heatmap[0].cpu().numpy().squeeze()\n",
    "plt.imshow(heatmap, cmap='hot')\n",
    "\n",
    "plt.show()\n",
    "pg = traj[\"predicted_goal\"][0]\n",
    "print(pg)"
   ]
  },
  {
   "cell_type": "code",
   "execution_count": null,
   "metadata": {},
   "outputs": [],
   "source": [
    "heatmap = traj[\"heatmap\"][0].view(112,112).cpu().numpy()\n",
    "\n",
    "plt.imshow(heatmap, cmap='hot')\n",
    "\n",
    "a = np.argmax(heatmap)\n",
    "print([a//112, a%112])\n",
    "\n",
    "plt.show()"
   ]
  },
  {
   "cell_type": "markdown",
   "metadata": {},
   "source": [
    "## Load the evaluation data\n",
    "Differently from training and open loop evaluation, this setting is intrinsically sequential. As such, we won't be using any of PyTorch's parallelisation functionalities."
   ]
  },
  {
   "cell_type": "code",
   "execution_count": null,
   "metadata": {},
   "outputs": [],
   "source": [
    "#device = 'cpu'"
   ]
  },
  {
   "cell_type": "markdown",
   "metadata": {},
   "source": [
    "## Define some simulation properties\n",
    "We define here some common simulation properties such as the length of the simulation and how many scene to simulate.\n",
    "\n",
    "**NOTE: these properties have a significant impact on the execution time. We suggest you to increase them only if your setup includes a GPU**"
   ]
  },
  {
   "cell_type": "code",
   "execution_count": null,
   "metadata": {},
   "outputs": [],
   "source": [
    "num_scenes_to_unroll = 30\n",
    "num_simulation_steps = 130"
   ]
  },
  {
   "cell_type": "markdown",
   "metadata": {},
   "source": [
    "# Closed-loop simulation\n",
    "\n",
    "We define a closed-loop simulation that drives the SDV for `num_simulation_steps` steps while using the log-replay agents.\n",
    "\n",
    "Then, we unroll the selected scenes.\n",
    "The simulation output contains all the information related to the scene, including the annotated and simulated positions, states, and trajectories of the SDV and the agents.  \n",
    "If you want to know more about what the simulation output contains, please refer to the source code of the class `SimulationOutput`."
   ]
  },
  {
   "cell_type": "code",
   "execution_count": null,
   "metadata": {},
   "outputs": [],
   "source": [
    "# ==== DEFINE CLOSED-LOOP SIMULATION\n",
    "sim_cfg = SimulationConfig(use_ego_gt=False, use_agents_gt=True, disable_new_agents=True,\n",
    "                           distance_th_far=500, distance_th_close=50, num_simulation_steps=num_simulation_steps,\n",
    "                           start_frame_index=0, show_info=True)\n",
    "\n",
    "sim_loop = ClosedLoopSimulator(sim_cfg, train_dataset, device, model_ego=model, model_agents=None, keys_to_exclude={\"image\",\"loss\",\"loss1\",\"loss2\",\"goal_score\",\"regression\",\"heatmap\"})\n",
    "\n",
    "#sim_loop = ClosedLoopSimulator(sim_cfg, eval_dataset, device, model_ego=model, model_agents=None, keys_to_exclude={\"image\",\"loss\",\"loss1\",\"loss2\",\"goal_score\",\"regression\",\"heatmap\"})\n",
    "#sim_loop = ClosedLoopSimulator(sim_cfg, eval_dataset, device, model_ego=None, model_agents=None, keys_to_exclude={\"image\",\"loss\",\"motion_loss\",\"target_loss\"})"
   ]
  },
  {
   "cell_type": "code",
   "execution_count": null,
   "metadata": {},
   "outputs": [],
   "source": [
    "# ==== UNROLL\n",
    "import time\n",
    "start = time.time()\n",
    "\n",
    "#scenes_to_unroll = list(range(0, len(eval_zarr.scenes), len(eval_zarr.scenes)//num_scenes_to_unroll))\n",
    "scenes_to_unroll = list(range(0, len(train_zarr.scenes), len(train_zarr.scenes)//num_scenes_to_unroll))\n",
    "\n",
    "\n",
    "sim_outs = sim_loop.unroll(scenes_to_unroll)\n",
    "\n",
    "print(time.time()-start)"
   ]
  },
  {
   "cell_type": "code",
   "execution_count": null,
   "metadata": {},
   "outputs": [],
   "source": [
    "print(train_dataset)"
   ]
  },
  {
   "cell_type": "markdown",
   "metadata": {},
   "source": [
    "# Closed-loop metrics\n",
    "In this setting **metrics are particularly challenging**.\n",
    "In fact, we would like to penalise some of the simulation drift (e.g. going off road or in the opposite lane) while at the same time allow others (e.g. different speed profiles).\n",
    "\n",
    "\n",
    "### Collisions\n",
    "Our SDV should avoid collisions with other agents. In this example, we won't distinguish between collisions caused by non-reactivity of other agents and actual collisions, and we will simply report them all categorised by where they occurred (front, rear and side with respect to the AV).\n",
    "\n",
    "However, if we only considered collisions, our SDV could pass all tests by simply driving off-road or in a different lane.\n",
    "\n",
    "\n",
    "### Distance from reference trajectory\n",
    "To address the issue presented above, we require our SDV to loosely stick to the original trajectory in the data. By setting the right threshold on the distance we can allow for different speed profiles and small steerings, while pensalising large deviations like driving off-road.\n",
    "\n",
    "We can do so by computing the distance between the simulated trajectory and the annotated one in world coordinates.\n",
    "\n",
    "\n",
    "### Displacement error (L2)\n",
    "In addition, we can measure the displacement between each point of the simulated trajectory and the corresponding annotated one in world coordinates.\n",
    "\n",
    "With this metric, we can spot large deviations between the speed of the simulated policy and the annotated one."
   ]
  },
  {
   "cell_type": "code",
   "execution_count": null,
   "metadata": {},
   "outputs": [],
   "source": [
    "metrics = [DisplacementErrorL2Metric(),\n",
    "           DistanceToRefTrajectoryMetric(),\n",
    "           CollisionFrontMetric(),\n",
    "           CollisionRearMetric(),\n",
    "           CollisionSideMetric()]\n",
    "\n",
    "validators = [RangeValidator(\"displacement_error_l2\", DisplacementErrorL2Metric, max_value=30),\n",
    "              RangeValidator(\"distance_ref_trajectory\", DistanceToRefTrajectoryMetric, max_value=4),\n",
    "              RangeValidator(\"collision_front\", CollisionFrontMetric, max_value=0),\n",
    "              RangeValidator(\"collision_rear\", CollisionRearMetric, max_value=0),\n",
    "              RangeValidator(\"collision_side\", CollisionSideMetric, max_value=0)]\n",
    "\n",
    "intervention_validators = [\"displacement_error_l2\",\n",
    "                           \"distance_ref_trajectory\",\n",
    "                           \"collision_front\",\n",
    "                           \"collision_rear\",\n",
    "                           \"collision_side\"]\n",
    "\n",
    "cle_evaluator = ClosedLoopEvaluator(EvaluationPlan(metrics=metrics,\n",
    "                                                   validators=validators,\n",
    "                                                   composite_metrics=[],\n",
    "                                                   intervention_validators=intervention_validators))"
   ]
  },
  {
   "cell_type": "markdown",
   "metadata": {},
   "source": [
    "# Quantitative evaluation\n",
    "\n",
    "We can now compute the metric evaluation, collect the results and aggregate them."
   ]
  },
  {
   "cell_type": "code",
   "execution_count": null,
   "metadata": {},
   "outputs": [],
   "source": [
    "cle_evaluator.evaluate(sim_outs)\n",
    "validation_results = cle_evaluator.validation_results()\n",
    "agg = ValidationCountingAggregator().aggregate(validation_results)\n",
    "cle_evaluator.reset()"
   ]
  },
  {
   "cell_type": "markdown",
   "metadata": {},
   "source": [
    "## Reporting errors from the closed-loop\n",
    "\n",
    "We can now report the metrics and plot them."
   ]
  },
  {
   "cell_type": "code",
   "execution_count": null,
   "metadata": {},
   "outputs": [],
   "source": [
    "fields = [\"metric\", \"value\"]\n",
    "table = PrettyTable(field_names=fields)\n",
    "\n",
    "values = []\n",
    "names = []\n",
    "\n",
    "for metric_name in agg:\n",
    "    table.add_row([metric_name, agg[metric_name].item()])\n",
    "    values.append(agg[metric_name].item())\n",
    "    names.append(metric_name)\n",
    "\n",
    "print(table)\n",
    "\n",
    "plt.bar(np.arange(len(names)), values)\n",
    "plt.xticks(np.arange(len(names)), names, rotation=60, ha='right')\n",
    "plt.show()"
   ]
  },
  {
   "cell_type": "markdown",
   "metadata": {},
   "source": [
    "# Qualitative evaluation"
   ]
  },
  {
   "cell_type": "markdown",
   "metadata": {},
   "source": [
    "## Visualise the closed-loop\n",
    "\n",
    "We can visualise the scenes we have obtained previously. \n",
    "\n",
    "**The policy is now in full control of the SDV as this moves through the annotated scene.**"
   ]
  },
  {
   "cell_type": "code",
   "execution_count": null,
   "metadata": {
    "scrolled": false
   },
   "outputs": [],
   "source": [
    "output_notebook()\n",
    "mapAPI = MapAPI.from_cfg(dm, cfg)\n",
    "for sim_out in sim_outs[-10:]: # for each scene\n",
    "    vis_in = simulation_out_to_visualizer_scene(sim_out, mapAPI)\n",
    "    show(visualize(sim_out.scene_id, vis_in))"
   ]
  },
  {
   "cell_type": "code",
   "execution_count": null,
   "metadata": {},
   "outputs": [],
   "source": [
    "output_notebook()\n",
    "mapAPI = MapAPI.from_cfg(dm, cfg)\n",
    "for sim_out in sim_outs[-5:]: # for each scene\n",
    "    vis_in = simulation_out_to_visualizer_scene(sim_out, mapAPI)\n",
    "    show(visualize(sim_out.scene_id, vis_in))"
   ]
  },
  {
   "cell_type": "code",
   "execution_count": null,
   "metadata": {},
   "outputs": [],
   "source": [
    "from bokeh.io import output_file, show\n",
    "\n",
    "for sim_out in sim_outs[-5:]: # for each scene\n",
    "    vis_in = simulation_out_to_visualizer_scene(sim_out, mapAPI)\n",
    "    q = (visualize(sim_out.scene_id, vis_in))\n",
    "    output_file(\"./bokeh.png\")\n",
    "    show(q)\n",
    "    break"
   ]
  },
  {
   "cell_type": "markdown",
   "metadata": {},
   "source": [
    "# Pre-trained model results\n",
    "\n",
    "We include here the unroll of one scene using one of our pre-trained model. The controlled SDV can stick to the correct lane and stops successfully for a red light. \n",
    "\n",
    "Comparing this result with the one from the [open-loop notebook](./open_loop_test.ipynb) we can notice some differences in the speed profile chosen by the model.\n",
    "\n",
    "\n",
    "![SegmentLocal](../../docs/images/planning/out_9_closed.gif \"segment\")\n"
   ]
  }
 ],
 "metadata": {
  "kernelspec": {
   "display_name": "Python 3 (ipykernel)",
   "language": "python",
   "name": "python3"
  },
  "language_info": {
   "codemirror_mode": {
    "name": "ipython",
    "version": 3
   },
   "file_extension": ".py",
   "mimetype": "text/x-python",
   "name": "python",
   "nbconvert_exporter": "python",
   "pygments_lexer": "ipython3",
   "version": "3.8.13"
  },
  "pycharm": {
   "stem_cell": {
    "cell_type": "raw",
    "metadata": {
     "collapsed": false
    },
    "source": []
   }
  }
 },
 "nbformat": 4,
 "nbformat_minor": 4
}
