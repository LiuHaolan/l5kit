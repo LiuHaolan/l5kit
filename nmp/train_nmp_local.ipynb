{
 "cells": [
  {
   "cell_type": "markdown",
   "metadata": {},
   "source": [
    "# Introduction to Planning for Self Driving Vehicles\n",
    "\n",
    "In this notebook you are going to train your own ML policy to fully control an SDV. You will train your model using the Lyft Prediction Dataset and [L5Kit](https://github.com/woven-planet/l5kit).\n",
    "\n",
    "**Before starting, please download the [Lyft L5 Prediction Dataset 2020](https://self-driving.lyft.com/level5/prediction/) and follow [the instructions](https://github.com/woven-planet/l5kit#download-the-datasets) to correctly organise it.**\n",
    "\n",
    "The policy will be a deep neural network (DNN) which will be invoked by the SDV to obtain the next command to execute.\n",
    "\n",
    "More in details, you will be working with a CNN architecture based on ResNet50.\n",
    "\n",
    "![model](../../docs/images/planning/model.svg)\n",
    "\n",
    "\n",
    "#### Inputs\n",
    "The network will receive a Bird's-Eye-View (BEV) representation of the scene surrounding the SDV as the only input. This has been rasterised in a fixed grid image to comply with the CNN input. L5Kit is shipped with various rasterisers. Each one of them captures different aspects of the scene (e.g. lanes or satellite view).\n",
    "\n",
    "This input representation is very similar to the one used in the [prediction competition](https://www.kaggle.com/c/lyft-motion-prediction-autonomous-vehicles/overview). Please refer to our [competition baseline notebook](../agent_motion_prediction/agent_motion_prediction.ipynb) and our [data format notebook](../visualisation/visualise_data.ipynb) if you want to learn more about it.\n",
    "\n",
    "#### Outputs\n",
    "The network outputs the driving signals required to fully control the SDV. In particular, this is a trajectory of XY and yaw displacements which can be used to move and steer the vehicle.\n",
    "\n",
    "After enough training, your model will be able to drive an agent along a specific route. Among others, it will do lane-following while respecting traffic lights.\n",
    "\n",
    "Let's now focus on how to train this model on the available data.\n",
    "\n",
    "### Training using imitation learning\n",
    "The model is trained using a technique called *imitation learning*. We feed examples of expert driving experiences to the model and expect it to take the same actions as the driver did in those episodes. Imitation Learning is a subfield of supervised learning, in which a model tries to learn a function f: X -> Y describing given input / output pairs - one prominent example of this is image classification.\n",
    "\n",
    "This is also the same concept we use in our [motion prediction notebook](../agent_motion_prediction/agent_motion_prediction.ipynb), so feel free to check that out too.\n",
    "\n",
    "##### Imitation learning limitations\n",
    "\n",
    "Imitation Learning is powerful, but it has a strong limitation. It's not trivial for a trained model to generalise well on out-of-distribution data.\n",
    "\n",
    "After training the model, we would like it to take full control and drive the AV in an autoregressive fashion (i.e. by following its own predictions).\n",
    "\n",
    "During evaluation it's very easy for errors to compound and make the AV drift away from the original distribution. In fact, during training our model has seen only good examples of driving. In particular, this means **almost perfect midlane following**. However, even a small constant displacement during evaluation can accumulate enough error to lead the AV completely out of its distribution in a matter of seconds.\n",
    "\n",
    "![drifting](../../docs/images/planning/drifting.svg)\n",
    "\n",
    "This is a well known issue in SDV control and simulation discussed, among others, in [this article](https://ri.cmu.edu/pub_files/2010/5/Ross-AIStats10-paper.pdf).\n",
    "\n",
    "# Adding perturbations to the mix\n",
    "\n",
    "One of the simplest techniques to ensure a good generalisation is **data augmentation**, which exposes the network to different versions of the input and helps it to generalise better to out-of-distribution situations.\n",
    "\n",
    "In our setting, we want to ensure that **our model can recover if it ends up slightly off the midlane it is following**.\n",
    "\n",
    "Following [the noteworthy approach from Waymo](https://arxiv.org/pdf/1812.03079.pdf), we can enrich the training set with **online trajectory perturbations**. These perturbations are kinematically feasible and affect both starting angle and position. A new ground truth trajectory is then generated to link this new starting point with the original trajectory end point. These starting point will be slightly rotated and off the original midlane, and the new trajectory will teach the model how to recover from this situation.\n",
    "\n",
    "![perturbation](../../docs/images/planning/perturb.svg)\n",
    "\n",
    "\n",
    "In the following cell, we load the training data and leverage L5Kit to add these perturbations to our training set.\n",
    "We also plot the same example with and without perturbation. During training, our model will see also those examples and learn how to recover from positional and angular offsets."
   ]
  },
  {
   "cell_type": "code",
   "execution_count": 1,
   "metadata": {},
   "outputs": [],
   "source": [
    "from tempfile import gettempdir\n",
    "import matplotlib.pyplot as plt\n",
    "import numpy as np\n",
    "import torch\n",
    "from torch import nn, optim\n",
    "from torch.utils.data import DataLoader\n",
    "from tqdm import tqdm\n",
    "\n",
    "from l5kit.configs import load_config_data\n",
    "from l5kit.data import LocalDataManager, ChunkedDataset\n",
    "from l5kit.dataset import EgoDataset\n",
    "from l5kit.rasterization import build_rasterizer\n",
    "from l5kit.geometry import transform_points\n",
    "from l5kit.visualization import TARGET_POINTS_COLOR, draw_trajectory\n",
    "from l5kit.planning.rasterized.model import RasterizedPlanningModel\n",
    "from l5kit.kinematic import AckermanPerturbation\n",
    "from l5kit.random import GaussianRandomGenerator\n",
    "\n",
    "import os"
   ]
  },
  {
   "cell_type": "markdown",
   "metadata": {},
   "source": [
    "## Prepare data path and load cfg\n",
    "\n",
    "By setting the `L5KIT_DATA_FOLDER` variable, we can point the script to the folder where the data lies.\n",
    "\n",
    "Then, we load our config file with relative paths and other configurations (rasteriser, training params...)."
   ]
  },
  {
   "cell_type": "code",
   "execution_count": 2,
   "metadata": {},
   "outputs": [
    {
     "name": "stdout",
     "output_type": "stream",
     "text": [
      "/mnt/home/v_liuhaolan/haolan/l5kit/nmp\r\n"
     ]
    }
   ],
   "source": [
    "!echo $PWD\n",
    "# set env variable for data\n",
    "os.environ[\"L5KIT_DATA_FOLDER\"] = \"/mnt/scratch/v_liuhaolan/l5kit_data\"\n",
    "dm = LocalDataManager(None)\n",
    "# get config\n",
    "cfg = load_config_data(\"./nmp-config.yaml\")"
   ]
  },
  {
   "cell_type": "code",
   "execution_count": 6,
   "metadata": {
    "scrolled": false
   },
   "outputs": [
    {
     "data": {
      "text/plain": [
       "'\\n# ===== INIT DATASET\\ntrain_zarr = ChunkedDataset(dm.require(cfg[\"train_data_loader\"][\"key\"])).open()\\ntrain_dataset = EgoDataset(cfg, train_zarr, rasterizer, perturbation)\\n\\n# plot same example with and without perturbation\\nfor perturbation_value in [1, 0]:\\n    perturbation.perturb_prob = perturbation_value\\n\\n    data_ego = train_dataset[0]\\n    im_ego = rasterizer.to_rgb(data_ego[\"image\"].transpose(1, 2, 0))\\n    target_positions = transform_points(data_ego[\"target_positions\"], data_ego[\"raster_from_agent\"])\\n    draw_trajectory(im_ego, target_positions, TARGET_POINTS_COLOR)\\n    plt.imshow(im_ego)\\n    plt.axis(\\'off\\')\\n    plt.show()\\n\\n# before leaving, ensure perturb_prob is correct\\nperturbation.perturb_prob = perturb_prob\\n'"
      ]
     },
     "execution_count": 6,
     "metadata": {},
     "output_type": "execute_result"
    }
   ],
   "source": [
    "perturb_prob = cfg[\"train_data_loader\"][\"perturb_probability\"]\n",
    "\n",
    "# rasterisation and perturbation\n",
    "rasterizer = build_rasterizer(cfg, dm)\n",
    "mean = np.array([0.0, 0.0, 0.0])  # lateral, longitudinal and angular\n",
    "std = np.array([0.5, 1.5, np.pi / 6])\n",
    "\n",
    "\n",
    "perturbation = AckermanPerturbation(\n",
    "        random_offset_generator=GaussianRandomGenerator(mean=mean, std=std), perturb_prob=perturb_prob)\n",
    "\"\"\"\n",
    "# ===== INIT DATASET\n",
    "train_zarr = ChunkedDataset(dm.require(cfg[\"train_data_loader\"][\"key\"])).open()\n",
    "train_dataset = EgoDataset(cfg, train_zarr, rasterizer, perturbation)\n",
    "\n",
    "# plot same example with and without perturbation\n",
    "for perturbation_value in [1, 0]:\n",
    "    perturbation.perturb_prob = perturbation_value\n",
    "\n",
    "    data_ego = train_dataset[0]\n",
    "    im_ego = rasterizer.to_rgb(data_ego[\"image\"].transpose(1, 2, 0))\n",
    "    target_positions = transform_points(data_ego[\"target_positions\"], data_ego[\"raster_from_agent\"])\n",
    "    draw_trajectory(im_ego, target_positions, TARGET_POINTS_COLOR)\n",
    "    plt.imshow(im_ego)\n",
    "    plt.axis('off')\n",
    "    plt.show()\n",
    "\n",
    "# before leaving, ensure perturb_prob is correct\n",
    "perturbation.perturb_prob = perturb_prob\n",
    "\"\"\""
   ]
  },
  {
   "cell_type": "code",
   "execution_count": 7,
   "metadata": {},
   "outputs": [
    {
     "name": "stdout",
     "output_type": "stream",
     "text": [
      "Read preprocessed dataset into memory...\n"
     ]
    },
    {
     "name": "stderr",
     "output_type": "stream",
     "text": [
      "100%|██████████████████████████████| 2692440/2692440 [1:10:38<00:00, 635.27it/s]\n"
     ]
    }
   ],
   "source": [
    "# ===== INIT DATASET\n",
    "\n",
    "preprocessed_dir = \"/mnt/scratch/v_liuhaolan/preprocessed\"\n",
    "from l5kit.dataset import CachedEgoDataset\n",
    "\n",
    "train_zarr = ChunkedDataset(dm.require(cfg[\"train_data_loader\"][\"key\"])).open()\n",
    "train_dataset = CachedEgoDataset(cfg, train_zarr, rasterizer, preprocessed_path=preprocessed_dir,perturbation=perturbation)\n",
    "\n",
    "#train_zarr = ChunkedDataset(dm.require(cfg[\"train_data_loader\"][\"key\"])).open()\n",
    "#train_dataset = EgoDataset(cfg, train_zarr, rasterizer)"
   ]
  },
  {
   "cell_type": "code",
   "execution_count": null,
   "metadata": {},
   "outputs": [],
   "source": [
    "from l5kit.planning.rasterized.nmp_model import NMPPlanningModel\n",
    "\n",
    "\n",
    "model = NMPPlanningModel(\n",
    "        model_arch=\"simple_cnn\",\n",
    "        num_input_channels=rasterizer.num_channels(),\n",
    "#        num_targets=3 * cfg[\"model_params\"][\"future_num_frames\"],  # X, Y, Yaw * number of future states,\n",
    "        num_targets = cfg[\"raster_params\"][\"raster_size\"][0]*cfg[\"raster_params\"][\"raster_size\"][1],\n",
    "        weights_scaling= [1., 1., 1.],\n",
    "        criterion=nn.L1Loss(reduction=\"none\")\n",
    "        )\n",
    "print(model)\n"
   ]
  },
  {
   "cell_type": "code",
   "execution_count": 14,
   "metadata": {},
   "outputs": [],
   "source": [
    "#print(cfg[\"raster_params\"][\"raster_size\"][0]*cfg[\"raster_params\"][\"raster_size\"][1])"
   ]
  },
  {
   "cell_type": "markdown",
   "metadata": {},
   "source": [
    "# Prepare for training\n",
    "Our `EgoDataset` inherits from PyTorch `Dataset`; so we can use it inside a `Dataloader` to enable multi-processing."
   ]
  },
  {
   "cell_type": "code",
   "execution_count": 15,
   "metadata": {},
   "outputs": [
    {
     "name": "stdout",
     "output_type": "stream",
     "text": [
      "+------------+------------+------------+---------------+-----------------+----------------------+----------------------+----------------------+---------------------+\n",
      "| Num Scenes | Num Frames | Num Agents | Num TR lights | Total Time (hr) | Avg Frames per Scene | Avg Agents per Frame | Avg Scene Time (sec) | Avg Frame frequency |\n",
      "+------------+------------+------------+---------------+-----------------+----------------------+----------------------+----------------------+---------------------+\n",
      "|   134622   |  33437057  | 2655096629 |   314473872   |      928.68     |        248.38        |        79.41         |        24.83         |        10.00        |\n",
      "+------------+------------+------------+---------------+-----------------+----------------------+----------------------+----------------------+---------------------+\n"
     ]
    }
   ],
   "source": [
    "train_cfg = cfg[\"train_data_loader\"]\n",
    "\n",
    "\n",
    "train_dataloader = DataLoader(train_dataset, shuffle=train_cfg[\"shuffle\"], batch_size=train_cfg[\"batch_size\"], \n",
    "                             num_workers=train_cfg[\"num_workers\"])\n",
    "device = torch.device(\"cuda:0\" if torch.cuda.is_available() else \"cpu\")\n",
    "#device = \"cpu\"\n",
    "model = model.to(device)\n",
    "optimizer = optim.Adam(model.parameters(), lr=1e-3)\n",
    "\n",
    "print(train_dataset)"
   ]
  },
  {
   "cell_type": "code",
   "execution_count": 16,
   "metadata": {},
   "outputs": [],
   "source": [
    "losses_train = []\n",
    "model.train()\n",
    "torch.set_grad_enabled(True)\n",
    "\n",
    "epoch_num = cfg[\"train_params\"][\"epochs\"]\n",
    "#\n",
    "\n",
    "sample_data = next(iter(train_dataloader))"
   ]
  },
  {
   "cell_type": "code",
   "execution_count": 17,
   "metadata": {},
   "outputs": [
    {
     "name": "stdout",
     "output_type": "stream",
     "text": [
      "torch.Size([256, 112, 112])\n"
     ]
    },
    {
     "data": {
      "text/plain": [
       "'\\nfrom torchvision import transforms\\n \\n# define custom transform\\n# here we are using our calculated\\n# mean & std\\n\\n# get normalized image\\n#img_normalized = transform_norm(cost_image.numpy())\\n \\n# convert this image to numpy array\\nimg_normalized = np.array(cost_image.cpu().detach())\\n \\n# transpose from shape of (3,,) to shape of (,,3)\\n#img_normalized = img_normalized.transpose(1, 0)\\n \\n# display the normalized image\\nplt.imshow(img_normalized)\\nplt.xticks([])\\nplt.yticks([])\\n\\n\\noriginal_traj = sample_data[\\'target_positions\\']#.to(device)\\n\\ndevice = \"cpu\"\\n\\nimport random \\n\\n# a torch version of sampling negative trajectories\\ndef batch_sample_traj(history_traj):\\n    res_traj = history_traj.clone().detach()\\n \\n    shooting_delta = random.randint(-6, 6)/10.0\\n    batch_size = original_traj.shape[0]\\n    history_length = original_traj.shape[1]\\n    \\n    # vectorize the operation\\n    delta_traj = torch.zeros(history_length, 2).to(device)\\n    delta = 0.05 if shooting_delta > 0 else -0.05\\n    \\n    for i in range(history_length):\\n        delta = delta + shooting_delta\\n        delta_traj[i][1] += delta\\n\\n    batch_delta_traj = delta_traj.unsqueeze(0).repeat(batch_size, 1, 1)\\n    \\n    print(batch_delta_traj.shape)\\n#    for j in range(batch_size):\\n#        delta = 0.05\\n#        for i in range(history_length):\\n#            delta = delta + shooting_delta\\n#            res_traj[j][i][1] += delta\\n\\n    return res_traj + batch_delta_traj\\n\\n\\nimport time\\nstart = time.time()\\nnegative_traj = batch_sample_traj(original_traj)\\nprint(\"time: {} s\".format(time.time()-start))\\n\\n'"
      ]
     },
     "execution_count": 17,
     "metadata": {},
     "output_type": "execute_result"
    }
   ],
   "source": [
    "sample_data = next(iter(train_dataloader))\n",
    "sample_data = {k: v.to(device) for k, v in sample_data.items()}\n",
    "outputs = model(sample_data)\n",
    "\n",
    "print(outputs[\"cost_map\"].shape)\n",
    "\n",
    "# visualize the cost map!\n",
    "cost_image = outputs[\"cost_map\"][0].reshape(112, 112)\n",
    "\n",
    "#print(cost_image)\n",
    "\n",
    "\"\"\"\n",
    "from torchvision import transforms\n",
    " \n",
    "# define custom transform\n",
    "# here we are using our calculated\n",
    "# mean & std\n",
    "\n",
    "# get normalized image\n",
    "#img_normalized = transform_norm(cost_image.numpy())\n",
    " \n",
    "# convert this image to numpy array\n",
    "img_normalized = np.array(cost_image.cpu().detach())\n",
    " \n",
    "# transpose from shape of (3,,) to shape of (,,3)\n",
    "#img_normalized = img_normalized.transpose(1, 0)\n",
    " \n",
    "# display the normalized image\n",
    "plt.imshow(img_normalized)\n",
    "plt.xticks([])\n",
    "plt.yticks([])\n",
    "\n",
    "\n",
    "original_traj = sample_data['target_positions']#.to(device)\n",
    "\n",
    "device = \"cpu\"\n",
    "\n",
    "import random \n",
    "\n",
    "# a torch version of sampling negative trajectories\n",
    "def batch_sample_traj(history_traj):\n",
    "    res_traj = history_traj.clone().detach()\n",
    " \n",
    "    shooting_delta = random.randint(-6, 6)/10.0\n",
    "    batch_size = original_traj.shape[0]\n",
    "    history_length = original_traj.shape[1]\n",
    "    \n",
    "    # vectorize the operation\n",
    "    delta_traj = torch.zeros(history_length, 2).to(device)\n",
    "    delta = 0.05 if shooting_delta > 0 else -0.05\n",
    "    \n",
    "    for i in range(history_length):\n",
    "        delta = delta + shooting_delta\n",
    "        delta_traj[i][1] += delta\n",
    "\n",
    "    batch_delta_traj = delta_traj.unsqueeze(0).repeat(batch_size, 1, 1)\n",
    "    \n",
    "    print(batch_delta_traj.shape)\n",
    "#    for j in range(batch_size):\n",
    "#        delta = 0.05\n",
    "#        for i in range(history_length):\n",
    "#            delta = delta + shooting_delta\n",
    "#            res_traj[j][i][1] += delta\n",
    "\n",
    "    return res_traj + batch_delta_traj\n",
    "\n",
    "\n",
    "import time\n",
    "start = time.time()\n",
    "negative_traj = batch_sample_traj(original_traj)\n",
    "print(\"time: {} s\".format(time.time()-start))\n",
    "\n",
    "\"\"\"\n",
    "\n"
   ]
  },
  {
   "cell_type": "code",
   "execution_count": 18,
   "metadata": {},
   "outputs": [
    {
     "name": "stdout",
     "output_type": "stream",
     "text": [
      "cuda:0\n",
      "torch.Size([256, 20, 2])\n"
     ]
    }
   ],
   "source": [
    "print(sample_data['target_positions'].device)\n",
    "print(sample_data[\"target_positions_pixels\"].shape)\n",
    "#print(sample_data[\"negative_positions_pixels\"])"
   ]
  },
  {
   "cell_type": "code",
   "execution_count": 19,
   "metadata": {},
   "outputs": [],
   "source": [
    "#sample_data[\"negative_positions_pixels\"]\n"
   ]
  },
  {
   "cell_type": "code",
   "execution_count": 20,
   "metadata": {},
   "outputs": [
    {
     "data": {
      "text/plain": [
       "'\\n\\npixel_size = (cfg[\\'raster_params\\'][\\'pixel_size\\'][0])\\n\\n# TODO: runtime checking when the sampling trajectory will move out of the rasterized image\\ndef max_margin_loss(batch_negative_index, batch_gt_index, cost_map):\\n    # calculate the costs aggregated with regard to time.\\n    batch_size = 64\\n    traj_size = 12\\n    loss = 0\\n    for i in range(batch_size):\\n        each_loss = 0\\n        diff = batch_gt_index[i] - batch_negative_index[i]\\n        diff = torch.sum(torch.pow(torch.sum(torch.pow(diff, 2),dim=1),0.5), dim=0).item()\\n#        print(diff*pixel_size)\\n        \\n        for j in range(traj_size):\\n            time_step = cost_map[i][batch_gt_index[i][j][0]][batch_gt_index[i][j][1]] - cost_map[i][batch_negative_index[i][j][0]][batch_negative_index[i][j][1]] + diff*pixel_size\\n#            print(time_step)\\n            if time_step > 0:\\n                each_loss = each_loss + (time_step)\\n        loss = loss + each_loss\\n    return loss / batch_size\\n\\nimport time\\nstart = time.time()\\n\\n#print(sample_data)\\n#data_batch[\"negative_positions_pixels\"], data_batch[\"target_positions_pixels\"], outputs[\"cost_map\"]\\n\\nr = max_margin_loss(sample_data[\"negative_positions_pixels\"], sample_data[\"target_positions_pixels\"], outputs[\"cost_map\"])\\nprint(r)\\nprint(\"time: {} s\".format(time.time()-start))\\n'"
      ]
     },
     "execution_count": 20,
     "metadata": {},
     "output_type": "execute_result"
    }
   ],
   "source": [
    "#transform_points(sampled_positions_maps, data[\"raster_from_agent\"])\n",
    "\"\"\"\n",
    "\n",
    "pixel_size = (cfg['raster_params']['pixel_size'][0])\n",
    "\n",
    "# TODO: runtime checking when the sampling trajectory will move out of the rasterized image\n",
    "def max_margin_loss(batch_negative_index, batch_gt_index, cost_map):\n",
    "    # calculate the costs aggregated with regard to time.\n",
    "    batch_size = 64\n",
    "    traj_size = 12\n",
    "    loss = 0\n",
    "    for i in range(batch_size):\n",
    "        each_loss = 0\n",
    "        diff = batch_gt_index[i] - batch_negative_index[i]\n",
    "        diff = torch.sum(torch.pow(torch.sum(torch.pow(diff, 2),dim=1),0.5), dim=0).item()\n",
    "#        print(diff*pixel_size)\n",
    "        \n",
    "        for j in range(traj_size):\n",
    "            time_step = cost_map[i][batch_gt_index[i][j][0]][batch_gt_index[i][j][1]] - cost_map[i][batch_negative_index[i][j][0]][batch_negative_index[i][j][1]] + diff*pixel_size\n",
    "#            print(time_step)\n",
    "            if time_step > 0:\n",
    "                each_loss = each_loss + (time_step)\n",
    "        loss = loss + each_loss\n",
    "    return loss / batch_size\n",
    "\n",
    "import time\n",
    "start = time.time()\n",
    "\n",
    "#print(sample_data)\n",
    "#data_batch[\"negative_positions_pixels\"], data_batch[\"target_positions_pixels\"], outputs[\"cost_map\"]\n",
    "\n",
    "r = max_margin_loss(sample_data[\"negative_positions_pixels\"], sample_data[\"target_positions_pixels\"], outputs[\"cost_map\"])\n",
    "print(r)\n",
    "print(\"time: {} s\".format(time.time()-start))\n",
    "\"\"\"\n",
    "# cpu 0.083\n",
    "# gpu: 0.171 needs to be vectorized!"
   ]
  },
  {
   "cell_type": "markdown",
   "metadata": {},
   "source": [
    "# Training loop\n",
    "Here, we purposely include a barebone training loop. Clearly, many more components can be added to enrich logging and improve performance. Still, the sheer size of our dataset ensures that a reasonable performance can be obtained even with this simple loop."
   ]
  },
  {
   "cell_type": "code",
   "execution_count": 22,
   "metadata": {},
   "outputs": [
    {
     "name": "stderr",
     "output_type": "stream",
     "text": [
      "loss: 35.227787017822266 loss(avg): 46.945488912217755:   4%| | 371/10518 [05:15\n"
     ]
    },
    {
     "ename": "IndexError",
     "evalue": "index 114 is out of bounds for dimension 0 with size 112",
     "output_type": "error",
     "traceback": [
      "\u001b[0;31m---------------------------------------------------------------------------\u001b[0m",
      "\u001b[0;31mIndexError\u001b[0m                                Traceback (most recent call last)",
      "Input \u001b[0;32mIn [22]\u001b[0m, in \u001b[0;36m<cell line: 7>\u001b[0;34m()\u001b[0m\n\u001b[1;32m     10\u001b[0m \u001b[38;5;28;01mfor\u001b[39;00m step,batch \u001b[38;5;129;01min\u001b[39;00m \u001b[38;5;28menumerate\u001b[39m(iter_bar):\n\u001b[1;32m     11\u001b[0m     \u001b[38;5;66;03m# Forward pass\u001b[39;00m\n\u001b[1;32m     12\u001b[0m     batch \u001b[38;5;241m=\u001b[39m {k: v\u001b[38;5;241m.\u001b[39mto(device) \u001b[38;5;28;01mfor\u001b[39;00m k, v \u001b[38;5;129;01min\u001b[39;00m batch\u001b[38;5;241m.\u001b[39mitems()}\n\u001b[0;32m---> 13\u001b[0m     result \u001b[38;5;241m=\u001b[39m \u001b[43mmodel\u001b[49m\u001b[43m(\u001b[49m\u001b[43mbatch\u001b[49m\u001b[43m)\u001b[49m\n\u001b[1;32m     14\u001b[0m     loss \u001b[38;5;241m=\u001b[39m result[\u001b[38;5;124m\"\u001b[39m\u001b[38;5;124mloss\u001b[39m\u001b[38;5;124m\"\u001b[39m]\n\u001b[1;32m     15\u001b[0m     \u001b[38;5;66;03m# Backward pass\u001b[39;00m\n",
      "File \u001b[0;32m~/miniconda3/envs/testenv/lib/python3.8/site-packages/torch/nn/modules/module.py:1110\u001b[0m, in \u001b[0;36mModule._call_impl\u001b[0;34m(self, *input, **kwargs)\u001b[0m\n\u001b[1;32m   1106\u001b[0m \u001b[38;5;66;03m# If we don't have any hooks, we want to skip the rest of the logic in\u001b[39;00m\n\u001b[1;32m   1107\u001b[0m \u001b[38;5;66;03m# this function, and just call forward.\u001b[39;00m\n\u001b[1;32m   1108\u001b[0m \u001b[38;5;28;01mif\u001b[39;00m \u001b[38;5;129;01mnot\u001b[39;00m (\u001b[38;5;28mself\u001b[39m\u001b[38;5;241m.\u001b[39m_backward_hooks \u001b[38;5;129;01mor\u001b[39;00m \u001b[38;5;28mself\u001b[39m\u001b[38;5;241m.\u001b[39m_forward_hooks \u001b[38;5;129;01mor\u001b[39;00m \u001b[38;5;28mself\u001b[39m\u001b[38;5;241m.\u001b[39m_forward_pre_hooks \u001b[38;5;129;01mor\u001b[39;00m _global_backward_hooks\n\u001b[1;32m   1109\u001b[0m         \u001b[38;5;129;01mor\u001b[39;00m _global_forward_hooks \u001b[38;5;129;01mor\u001b[39;00m _global_forward_pre_hooks):\n\u001b[0;32m-> 1110\u001b[0m     \u001b[38;5;28;01mreturn\u001b[39;00m \u001b[43mforward_call\u001b[49m\u001b[43m(\u001b[49m\u001b[38;5;241;43m*\u001b[39;49m\u001b[38;5;28;43minput\u001b[39;49m\u001b[43m,\u001b[49m\u001b[43m \u001b[49m\u001b[38;5;241;43m*\u001b[39;49m\u001b[38;5;241;43m*\u001b[39;49m\u001b[43mkwargs\u001b[49m\u001b[43m)\u001b[49m\n\u001b[1;32m   1111\u001b[0m \u001b[38;5;66;03m# Do not call functions when jit is used\u001b[39;00m\n\u001b[1;32m   1112\u001b[0m full_backward_hooks, non_full_backward_hooks \u001b[38;5;241m=\u001b[39m [], []\n",
      "File \u001b[0;32m~/haolan/l5kit/l5kit/l5kit/planning/rasterized/nmp_model.py:86\u001b[0m, in \u001b[0;36mNMPPlanningModel.forward\u001b[0;34m(self, data_batch)\u001b[0m\n\u001b[1;32m     76\u001b[0m             \u001b[38;5;66;03m# [batch_size, num_steps * 2]\u001b[39;00m\n\u001b[1;32m     77\u001b[0m \u001b[38;5;66;03m#            targets = (torch.cat((data_batch[\"target_positions\"], data_batch[\"target_yaws\"]), dim=2)).view(\u001b[39;00m\n\u001b[1;32m     78\u001b[0m \u001b[38;5;66;03m#                batch_size, -1\u001b[39;00m\n\u001b[0;32m   (...)\u001b[0m\n\u001b[1;32m     83\u001b[0m \u001b[38;5;66;03m#            )\u001b[39;00m\n\u001b[1;32m     84\u001b[0m  \u001b[38;5;66;03m#           loss = torch.mean(self.criterion(outputs, targets) * target_weights)\u001b[39;00m\n\u001b[1;32m     85\u001b[0m             cost_map \u001b[38;5;241m=\u001b[39m outputs\u001b[38;5;241m.\u001b[39mreshape(batch_size, \u001b[38;5;241m112\u001b[39m, \u001b[38;5;241m112\u001b[39m)\n\u001b[0;32m---> 86\u001b[0m             loss \u001b[38;5;241m=\u001b[39m \u001b[43mmax_margin_loss\u001b[49m\u001b[43m(\u001b[49m\u001b[43mdata_batch\u001b[49m\u001b[43m[\u001b[49m\u001b[38;5;124;43m\"\u001b[39;49m\u001b[38;5;124;43mnegative_positions_pixels\u001b[39;49m\u001b[38;5;124;43m\"\u001b[39;49m\u001b[43m]\u001b[49m\u001b[43m,\u001b[49m\u001b[43m \u001b[49m\u001b[43mdata_batch\u001b[49m\u001b[43m[\u001b[49m\u001b[38;5;124;43m\"\u001b[39;49m\u001b[38;5;124;43mtarget_positions_pixels\u001b[39;49m\u001b[38;5;124;43m\"\u001b[39;49m\u001b[43m]\u001b[49m\u001b[43m,\u001b[49m\u001b[43m \u001b[49m\u001b[43mcost_map\u001b[49m\u001b[43m)\u001b[49m\n\u001b[1;32m     88\u001b[0m             train_dict \u001b[38;5;241m=\u001b[39m {\u001b[38;5;124m\"\u001b[39m\u001b[38;5;124mloss\u001b[39m\u001b[38;5;124m\"\u001b[39m: loss, \u001b[38;5;124m\"\u001b[39m\u001b[38;5;124mcost_map\u001b[39m\u001b[38;5;124m\"\u001b[39m: cost_map }\n\u001b[1;32m     89\u001b[0m             \u001b[38;5;28;01mreturn\u001b[39;00m train_dict\n",
      "File \u001b[0;32m~/haolan/l5kit/l5kit/l5kit/planning/rasterized/nmp_model.py:113\u001b[0m, in \u001b[0;36mmax_margin_loss\u001b[0;34m(batch_negative_index, batch_gt_index, cost_map)\u001b[0m\n\u001b[1;32m    109\u001b[0m diff \u001b[38;5;241m=\u001b[39m torch\u001b[38;5;241m.\u001b[39msum(torch\u001b[38;5;241m.\u001b[39mpow(torch\u001b[38;5;241m.\u001b[39msum(torch\u001b[38;5;241m.\u001b[39mpow(diff, \u001b[38;5;241m2\u001b[39m),dim\u001b[38;5;241m=\u001b[39m\u001b[38;5;241m1\u001b[39m),\u001b[38;5;241m0.5\u001b[39m), dim\u001b[38;5;241m=\u001b[39m\u001b[38;5;241m0\u001b[39m)\u001b[38;5;241m.\u001b[39mitem()\n\u001b[1;32m    112\u001b[0m \u001b[38;5;28;01mfor\u001b[39;00m j \u001b[38;5;129;01min\u001b[39;00m \u001b[38;5;28mrange\u001b[39m(traj_size):\n\u001b[0;32m--> 113\u001b[0m     time_step \u001b[38;5;241m=\u001b[39m \u001b[43mcost_map\u001b[49m\u001b[43m[\u001b[49m\u001b[43mi\u001b[49m\u001b[43m]\u001b[49m\u001b[43m[\u001b[49m\u001b[43mbatch_gt_index\u001b[49m\u001b[43m[\u001b[49m\u001b[43mi\u001b[49m\u001b[43m]\u001b[49m\u001b[43m[\u001b[49m\u001b[43mj\u001b[49m\u001b[43m]\u001b[49m\u001b[43m[\u001b[49m\u001b[38;5;241;43m0\u001b[39;49m\u001b[43m]\u001b[49m\u001b[43m]\u001b[49m[batch_gt_index[i][j][\u001b[38;5;241m1\u001b[39m]] \u001b[38;5;241m-\u001b[39m cost_map[i][batch_negative_index[i][j][\u001b[38;5;241m0\u001b[39m]][batch_negative_index[i][j][\u001b[38;5;241m1\u001b[39m]] \u001b[38;5;241m+\u001b[39m diff\u001b[38;5;241m*\u001b[39mpixel_size\n\u001b[1;32m    115\u001b[0m     \u001b[38;5;28;01mif\u001b[39;00m time_step \u001b[38;5;241m>\u001b[39m \u001b[38;5;241m0\u001b[39m:\n\u001b[1;32m    116\u001b[0m         each_loss \u001b[38;5;241m=\u001b[39m each_loss \u001b[38;5;241m+\u001b[39m (time_step)\n",
      "\u001b[0;31mIndexError\u001b[0m: index 114 is out of bounds for dimension 0 with size 112"
     ]
    }
   ],
   "source": [
    "#tr_it = iter(train_dataloader)\n",
    "#progress_bar = tqdm(range(cfg[\"train_params\"][\"max_num_steps\"]))\n",
    "\n",
    "optimizer = optim.Adam(model.parameters(), lr=1e-4)\n",
    "epoch_num = 1\n",
    "\n",
    "for epochs in range(epoch_num):\n",
    "    \n",
    "    iter_bar = tqdm(train_dataloader, desc='Iter (loss=X.XXX)')\n",
    "    for step,batch in enumerate(iter_bar):\n",
    "        # Forward pass\n",
    "        batch = {k: v.to(device) for k, v in batch.items()}\n",
    "        result = model(batch)\n",
    "        loss = result[\"loss\"]\n",
    "        # Backward pass\n",
    "        optimizer.zero_grad()\n",
    "        loss.backward()\n",
    "        optimizer.step()\n",
    "        \n",
    "#        if step%10000 == 0:\n",
    "#            print(\"model save\")\n",
    "#            torch.save(model.state_dict(),\"./planning_model.pt\")\n",
    "\n",
    "        losses_train.append(loss.item())\n",
    "        iter_bar.set_description(f\"loss: {loss.item()} loss(avg): {np.mean(losses_train)}\")\n"
   ]
  },
  {
   "cell_type": "markdown",
   "metadata": {},
   "source": [
    "### Plot the train loss curve\n",
    "We can plot the train loss against the iterations (batch-wise) to check if our model has converged."
   ]
  },
  {
   "cell_type": "code",
   "execution_count": 23,
   "metadata": {},
   "outputs": [
    {
     "data": {
      "image/png": "[encoded data removed]",
      "text/plain": [
       "<Figure size 432x288 with 1 Axes>"
      ]
     },
     "metadata": {
      "needs_background": "light"
     },
     "output_type": "display_data"
    }
   ],
   "source": [
    "plt.plot(np.arange(len(losses_train)), losses_train, label=\"train loss\")\n",
    "plt.legend()\n",
    "plt.show()"
   ]
  },
  {
   "cell_type": "code",
   "execution_count": 24,
   "metadata": {},
   "outputs": [
    {
     "data": {
      "text/plain": [
       "torch.Size([256, 5, 112, 112])"
      ]
     },
     "execution_count": 24,
     "metadata": {},
     "output_type": "execute_result"
    }
   ],
   "source": [
    "sample_data[\"image\"].shape"
   ]
  },
  {
   "cell_type": "code",
   "execution_count": 25,
   "metadata": {},
   "outputs": [
    {
     "name": "stdout",
     "output_type": "stream",
     "text": [
      "torch.Size([256, 112, 112])\n"
     ]
    },
    {
     "data": {
      "text/plain": [
       "'\\nim = np.array(sample_data[\"image\"][idx].cpu().detach()).transpose(1, 2, 0)\\nim = train_dataset.rasterizer.to_rgb(im)\\ntarget_positions_pixels = transform_points(sample_data[\"target_positions\"][idx].cpu().numpy(), sample_data[\"raster_from_agent\"][idx].cpu().numpy())\\ndraw_trajectory(im, target_positions_pixels, TARGET_POINTS_COLOR, yaws=sample_data[\"target_yaws\"][idx].cpu().numpy())\\n'"
      ]
     },
     "execution_count": 25,
     "metadata": {},
     "output_type": "execute_result"
    },
    {
     "data": {
      "image/png": "[encoded data removed]",
      "text/plain": [
       "<Figure size 432x288 with 1 Axes>"
      ]
     },
     "metadata": {},
     "output_type": "display_data"
    }
   ],
   "source": [
    "# visualize the costmap\n",
    "sample_data = next(iter(train_dataloader))\n",
    "for i in range(10):\n",
    "    sample_data = next(iter(train_dataloader))\n",
    "sample_data = {k: v.to(device) for k, v in sample_data.items()}\n",
    "outputs = model(sample_data)\n",
    "\n",
    "print(outputs[\"cost_map\"].shape)\n",
    "\n",
    "# visualize the cost map!\n",
    "idx = 2\n",
    "cost_image = outputs[\"cost_map\"][idx].reshape(112, 112)\n",
    "\n",
    "#print(cost_image)\n",
    "\n",
    "\n",
    "from torchvision import transforms\n",
    " \n",
    "# define custom transform\n",
    "# here we are using our calculated\n",
    "# mean & std\n",
    "\n",
    "# get normalized image\n",
    "#img_normalized = transform_norm(cost_image.numpy())\n",
    " \n",
    "# convert this image to numpy array\n",
    "img_normalized = np.array(cost_image.cpu().detach())\n",
    " \n",
    "# transpose from shape of (3,,) to shape of (,,3)\n",
    "#img_normalized = img_normalized.transpose(1, 0)\n",
    " \n",
    "# display the normalized image\n",
    "plt.imshow(img_normalized, cmap='gray')\n",
    "plt.xticks([])\n",
    "plt.yticks([])\n",
    "\n",
    "\"\"\"\n",
    "im = np.array(sample_data[\"image\"][idx].cpu().detach()).transpose(1, 2, 0)\n",
    "im = train_dataset.rasterizer.to_rgb(im)\n",
    "target_positions_pixels = transform_points(sample_data[\"target_positions\"][idx].cpu().numpy(), sample_data[\"raster_from_agent\"][idx].cpu().numpy())\n",
    "draw_trajectory(im, target_positions_pixels, TARGET_POINTS_COLOR, yaws=sample_data[\"target_yaws\"][idx].cpu().numpy())\n",
    "\"\"\"\n"
   ]
  },
  {
   "cell_type": "code",
   "execution_count": 61,
   "metadata": {},
   "outputs": [
    {
     "data": {
      "image/png": "[encoded data removed]",
      "text/plain": [
       "<Figure size 432x288 with 1 Axes>"
      ]
     },
     "metadata": {
      "needs_background": "light"
     },
     "output_type": "display_data"
    }
   ],
   "source": [
    "im = np.array(sample_data[\"image\"][idx].cpu().detach()).transpose(1, 2, 0)\n",
    "im = train_dataset.rasterizer.to_rgb(im)\n",
    "#target_positions_pixels = transform_points(sample_data[\"target_positions\"][idx].cpu().numpy(), sample_data[\"raster_from_agent\"][idx].cpu().numpy())\n",
    "#draw_trajectory(im, target_positions_pixels, TARGET_POINTS_COLOR, yaws=sample_data[\"target_yaws\"][idx].cpu().numpy())\n",
    "plt.imshow(im)\n",
    "plt.show()\n",
    "\n"
   ]
  },
  {
   "cell_type": "code",
   "execution_count": null,
   "metadata": {},
   "outputs": [],
   "source": []
  },
  {
   "cell_type": "code",
   "execution_count": 22,
   "metadata": {},
   "outputs": [
    {
     "name": "stdout",
     "output_type": "stream",
     "text": [
      "17.184238\n"
     ]
    }
   ],
   "source": [
    "print(img_normalized[55][65])\n"
   ]
  },
  {
   "cell_type": "markdown",
   "metadata": {},
   "source": [
    "# Store the model\n",
    "\n",
    "Let's store the model as a torchscript. This format allows us to re-load the model and weights without requiring the class definition later.\n",
    "\n",
    "**Take note of the path, you will use it later to evaluate your planning model!**"
   ]
  },
  {
   "cell_type": "code",
   "execution_count": null,
   "metadata": {
    "pycharm": {
     "name": "#%%\n"
    }
   },
   "outputs": [],
   "source": [
    "to_save = torch.jit.script(model.cpu())\n",
    "path_to_save = f\"{gettempdir()}/planning_model.pt\"\n",
    "to_save.save(path_to_save)\n",
    "print(f\"MODEL STORED at {path_to_save}\")"
   ]
  },
  {
   "cell_type": "markdown",
   "metadata": {},
   "source": [
    "# Congratulations in training your first ML policy for planning!\n",
    "### What's Next\n",
    "\n",
    "Now that your model is trained and safely stored, you can evaluate how it performs in two very different situations using our dedicated notebooks:\n",
    "\n",
    "### [Open-loop evaluation](./open_loop_test.ipynb)\n",
    "In this setting the model **is not controlling the AV**, and predictions are used to compute metrics only.\n",
    "\n",
    "### [Closed-loop evaluation](./closed_loop_test.ipynb)\n",
    "In this setting the model **is in full control of the AV** future movements.\n",
    "\n",
    "## Pre-trained models\n",
    "we provide a collection of pre-trained models for the planning task:\n",
    "- [model](https://lyft-l5-datasets-public.s3-us-west-2.amazonaws.com/models/planning_models/planning_model_20201208.pt) trained on  train.zarr for 15 epochs;\n",
    "- [model](https://lyft-l5-datasets-public.s3-us-west-2.amazonaws.com/models/planning_models/planning_model_20201208_early.pt) trained on train.zarr for 2 epochs;\n",
    "- [model](https://lyft-l5-datasets-public.s3-us-west-2.amazonaws.com/models/planning_models/planning_model_20201208_nopt.pt) trained on train.zarr with perturbations disabled for 15 epochs;\n",
    "- [model](https://lyft-l5-datasets-public.s3-us-west-2.amazonaws.com/models/planning_models/planning_model_20201208_nopt_early.pt) trained on train.zarr with perturbations disabled for 2 epochs;\n",
    "\n",
    "We include two partially trained models to emphasise the important role of perturbations during training, especially during the first stage of training.\n",
    "\n",
    "To use one of the models simply download the corresponding `.pt` file and load it in the evaluation notebooks."
   ]
  }
 ],
 "metadata": {
  "kernelspec": {
   "display_name": "Python 3 (ipykernel)",
   "language": "python",
   "name": "python3"
  },
  "language_info": {
   "codemirror_mode": {
    "name": "ipython",
    "version": 3
   },
   "file_extension": ".py",
   "mimetype": "text/x-python",
   "name": "python",
   "nbconvert_exporter": "python",
   "pygments_lexer": "ipython3",
   "version": "3.8.13"
  },
  "pycharm": {
   "stem_cell": {
    "cell_type": "raw",
    "metadata": {
     "collapsed": false
    },
    "source": []
   }
  }
 },
 "nbformat": 4,
 "nbformat_minor": 4
}
